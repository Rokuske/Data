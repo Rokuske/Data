{
  "nbformat": 4,
  "nbformat_minor": 0,
  "metadata": {
    "colab": {
      "provenance": [],
      "authorship_tag": "ABX9TyOaUFwzJb4XkfZEIpk3znIC",
      "include_colab_link": true
    },
    "kernelspec": {
      "name": "python3",
      "display_name": "Python 3"
    },
    "language_info": {
      "name": "python"
    }
  },
  "cells": [
    {
      "cell_type": "markdown",
      "metadata": {
        "id": "view-in-github",
        "colab_type": "text"
      },
      "source": [
        "<a href=\"https://colab.research.google.com/github/Rokuske/Data/blob/main/Untitled4.ipynb\" target=\"_parent\"><img src=\"https://colab.research.google.com/assets/colab-badge.svg\" alt=\"Open In Colab\"/></a>"
      ]
    },
    {
      "cell_type": "code",
      "execution_count": null,
      "metadata": {
        "id": "yCY2sg3Q391A"
      },
      "outputs": [],
      "source": [
        "import pandas as pd\n",
        "import smtplib\n",
        "from email.mime.text import MIMEText\n",
        "from email.mime.multipart import MIMEMultipart\n",
        "from prettytable import PrettyTable\n",
        "\n",
        "def process_csv_file(path):\n",
        "# Чтение файла и группировка данных\n",
        "\n",
        "df = pd.read_csv(path, delimiter=';', encoding='utf-8') # Добавлен параметр encoding\n",
        "\n",
        "fff1 = df[df['event'] == 'view']\n",
        "fff2 = df[df['event'] == 'click']\n",
        "\n",
        "fff3 = pd.DataFrame()\n",
        "fff3['view'] = fff1['platform'].value_counts()\n",
        "fff3['click'] = fff2['platform'].value_counts()\n",
        "fff3 = fff3.reset_index()\n",
        "fff3.rename(columns = {'index':'platform'}, inplace = True )\n",
        "\n",
        "grouped = fff3\n",
        "\n",
        "return grouped\n",
        "\n",
        "\n",
        "def send_email(email, password, recipient, data):\n",
        "# Создание сообщения\n",
        "msg = MIMEMultipart()\n",
        "msg['From'] = email\n",
        "msg['To'] = recipient\n",
        "msg['Subject'] = 'Отчет о взаимодействии с сервисом'\n",
        "msg.attach(MIMEText(data.to_string(index=False), 'plain'))\n",
        "\n",
        "\n",
        "\n",
        "# Отправка сообщения\n",
        "server = smtplib.SMTP('smtp.gmail.com', 587)\n",
        "server.starttls()\n",
        "server.login(email, password)\n",
        "server.sendmail(email, recipient, msg.as_string())\n",
        "server.quit()\n",
        "\n",
        "path = 'C:/Users/amtal/PycharmProjects/tp2/ttt.csv'\n",
        "email = 'ngusev071@gmail.com'\n",
        "password = 'zrcgjifbpgojohyk'\n",
        "recipient = 'lostveyn2@mail.ru'\n",
        "#recipient = 'semenchenkocorp@mail.ru'\n",
        "\n",
        "grouped_data = process_csv_file(path)\n",
        "\n",
        "send_email(email, password, recipient, grouped_data)"
      ]
    }
  ]
}