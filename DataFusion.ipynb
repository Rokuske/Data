{
  "nbformat": 4,
  "nbformat_minor": 0,
  "metadata": {
    "colab": {
      "provenance": [],
      "authorship_tag": "ABX9TyPiqr5+RIu5+b/T5+7cXYrl",
      "include_colab_link": true
    },
    "kernelspec": {
      "name": "python3",
      "display_name": "Python 3"
    },
    "language_info": {
      "name": "python"
    }
  },
  "cells": [
    {
      "cell_type": "markdown",
      "metadata": {
        "id": "view-in-github",
        "colab_type": "text"
      },
      "source": [
        "<a href=\"https://colab.research.google.com/github/Rokuske/Data/blob/main/DataFusion.ipynb\" target=\"_parent\"><img src=\"https://colab.research.google.com/assets/colab-badge.svg\" alt=\"Open In Colab\"/></a>"
      ]
    },
    {
      "cell_type": "code",
      "execution_count": null,
      "metadata": {
        "id": "pM3XP89p2rYa"
      },
      "outputs": [],
      "source": [
        "import pandas as pd\n",
        "import numpy as np\n",
        "import matplotlib.pyplot as plt\n",
        "import seaborn as sns"
      ]
    },
    {
      "cell_type": "code",
      "source": [
        "from sklearn import metrics"
      ],
      "metadata": {
        "id": "flhsUN-th1US"
      },
      "execution_count": null,
      "outputs": []
    },
    {
      "cell_type": "code",
      "source": [
        "from sklearn.metrics import roc_curve, auc\n",
        "from sklearn.metrics import roc_auc_score"
      ],
      "metadata": {
        "id": "TP4Uf1vliIUO"
      },
      "execution_count": null,
      "outputs": []
    },
    {
      "cell_type": "markdown",
      "source": [
        "# 1 Работа с данными"
      ],
      "metadata": {
        "id": "I8raKTa1GU7A"
      }
    },
    {
      "cell_type": "markdown",
      "source": [
        "## 1.1 Первичная обработка"
      ],
      "metadata": {
        "id": "uytMOPVtGTGg"
      }
    },
    {
      "cell_type": "code",
      "source": [
        "#Подключаемся к гугл диску\n",
        "from google.colab import drive\n",
        "drive.mount('/content/gdrive')"
      ],
      "metadata": {
        "colab": {
          "base_uri": "https://localhost:8080/"
        },
        "id": "m4igSz673CL8",
        "outputId": "e7b30bef-6f83-4b6b-ab1a-065f3221f1d2"
      },
      "execution_count": null,
      "outputs": [
        {
          "output_type": "stream",
          "name": "stdout",
          "text": [
            "Mounted at /content/gdrive\n"
          ]
        }
      ]
    },
    {
      "cell_type": "code",
      "source": [
        "df = pd.read_csv('/content/gdrive/My Drive/Colab Notebooks/ML Studies/DataFusion/transactions_finetune.csv')\n",
        "df"
      ],
      "metadata": {
        "colab": {
          "base_uri": "https://localhost:8080/",
          "height": 424
        },
        "id": "nmr2G5Re3Fih",
        "outputId": "70d55cb7-b2e4-4b37-a3db-2d46fe836e0d"
      },
      "execution_count": null,
      "outputs": [
        {
          "output_type": "execute_result",
          "data": {
            "text/plain": [
              "         user_id  mcc_code  currency_rk  transaction_amt     transaction_dttm\n",
              "0             69      5541           48       -342.89792  2021-03-05 02:52:36\n",
              "1             69      5533           48      -1251.88120  2021-03-05 09:43:28\n",
              "2             69      5331           48        -87.30924  2021-03-05 11:17:23\n",
              "3             69      5921           48      -1822.17700  2021-03-05 13:41:03\n",
              "4             69      5311           48       -427.12363  2021-03-05 19:14:23\n",
              "...          ...       ...          ...              ...                  ...\n",
              "2123995   868949      5411           48       -203.11295  2021-05-11 17:05:09\n",
              "2123996   868949      4131           48        -63.25255  2021-05-13 11:28:52\n",
              "2123997   868949      4131           48        -40.04709  2021-05-13 11:38:42\n",
              "2123998   868949      4131           48       -594.77850  2021-05-13 14:00:44\n",
              "2123999   868949      5814           48       -127.33617  2021-05-13 14:17:28\n",
              "\n",
              "[2124000 rows x 5 columns]"
            ],
            "text/html": [
              "\n",
              "  <div id=\"df-106aea8b-b144-4fb9-a87b-9cc89b4d0d79\">\n",
              "    <div class=\"colab-df-container\">\n",
              "      <div>\n",
              "<style scoped>\n",
              "    .dataframe tbody tr th:only-of-type {\n",
              "        vertical-align: middle;\n",
              "    }\n",
              "\n",
              "    .dataframe tbody tr th {\n",
              "        vertical-align: top;\n",
              "    }\n",
              "\n",
              "    .dataframe thead th {\n",
              "        text-align: right;\n",
              "    }\n",
              "</style>\n",
              "<table border=\"1\" class=\"dataframe\">\n",
              "  <thead>\n",
              "    <tr style=\"text-align: right;\">\n",
              "      <th></th>\n",
              "      <th>user_id</th>\n",
              "      <th>mcc_code</th>\n",
              "      <th>currency_rk</th>\n",
              "      <th>transaction_amt</th>\n",
              "      <th>transaction_dttm</th>\n",
              "    </tr>\n",
              "  </thead>\n",
              "  <tbody>\n",
              "    <tr>\n",
              "      <th>0</th>\n",
              "      <td>69</td>\n",
              "      <td>5541</td>\n",
              "      <td>48</td>\n",
              "      <td>-342.89792</td>\n",
              "      <td>2021-03-05 02:52:36</td>\n",
              "    </tr>\n",
              "    <tr>\n",
              "      <th>1</th>\n",
              "      <td>69</td>\n",
              "      <td>5533</td>\n",
              "      <td>48</td>\n",
              "      <td>-1251.88120</td>\n",
              "      <td>2021-03-05 09:43:28</td>\n",
              "    </tr>\n",
              "    <tr>\n",
              "      <th>2</th>\n",
              "      <td>69</td>\n",
              "      <td>5331</td>\n",
              "      <td>48</td>\n",
              "      <td>-87.30924</td>\n",
              "      <td>2021-03-05 11:17:23</td>\n",
              "    </tr>\n",
              "    <tr>\n",
              "      <th>3</th>\n",
              "      <td>69</td>\n",
              "      <td>5921</td>\n",
              "      <td>48</td>\n",
              "      <td>-1822.17700</td>\n",
              "      <td>2021-03-05 13:41:03</td>\n",
              "    </tr>\n",
              "    <tr>\n",
              "      <th>4</th>\n",
              "      <td>69</td>\n",
              "      <td>5311</td>\n",
              "      <td>48</td>\n",
              "      <td>-427.12363</td>\n",
              "      <td>2021-03-05 19:14:23</td>\n",
              "    </tr>\n",
              "    <tr>\n",
              "      <th>...</th>\n",
              "      <td>...</td>\n",
              "      <td>...</td>\n",
              "      <td>...</td>\n",
              "      <td>...</td>\n",
              "      <td>...</td>\n",
              "    </tr>\n",
              "    <tr>\n",
              "      <th>2123995</th>\n",
              "      <td>868949</td>\n",
              "      <td>5411</td>\n",
              "      <td>48</td>\n",
              "      <td>-203.11295</td>\n",
              "      <td>2021-05-11 17:05:09</td>\n",
              "    </tr>\n",
              "    <tr>\n",
              "      <th>2123996</th>\n",
              "      <td>868949</td>\n",
              "      <td>4131</td>\n",
              "      <td>48</td>\n",
              "      <td>-63.25255</td>\n",
              "      <td>2021-05-13 11:28:52</td>\n",
              "    </tr>\n",
              "    <tr>\n",
              "      <th>2123997</th>\n",
              "      <td>868949</td>\n",
              "      <td>4131</td>\n",
              "      <td>48</td>\n",
              "      <td>-40.04709</td>\n",
              "      <td>2021-05-13 11:38:42</td>\n",
              "    </tr>\n",
              "    <tr>\n",
              "      <th>2123998</th>\n",
              "      <td>868949</td>\n",
              "      <td>4131</td>\n",
              "      <td>48</td>\n",
              "      <td>-594.77850</td>\n",
              "      <td>2021-05-13 14:00:44</td>\n",
              "    </tr>\n",
              "    <tr>\n",
              "      <th>2123999</th>\n",
              "      <td>868949</td>\n",
              "      <td>5814</td>\n",
              "      <td>48</td>\n",
              "      <td>-127.33617</td>\n",
              "      <td>2021-05-13 14:17:28</td>\n",
              "    </tr>\n",
              "  </tbody>\n",
              "</table>\n",
              "<p>2124000 rows × 5 columns</p>\n",
              "</div>\n",
              "      <button class=\"colab-df-convert\" onclick=\"convertToInteractive('df-106aea8b-b144-4fb9-a87b-9cc89b4d0d79')\"\n",
              "              title=\"Convert this dataframe to an interactive table.\"\n",
              "              style=\"display:none;\">\n",
              "        \n",
              "  <svg xmlns=\"http://www.w3.org/2000/svg\" height=\"24px\"viewBox=\"0 0 24 24\"\n",
              "       width=\"24px\">\n",
              "    <path d=\"M0 0h24v24H0V0z\" fill=\"none\"/>\n",
              "    <path d=\"M18.56 5.44l.94 2.06.94-2.06 2.06-.94-2.06-.94-.94-2.06-.94 2.06-2.06.94zm-11 1L8.5 8.5l.94-2.06 2.06-.94-2.06-.94L8.5 2.5l-.94 2.06-2.06.94zm10 10l.94 2.06.94-2.06 2.06-.94-2.06-.94-.94-2.06-.94 2.06-2.06.94z\"/><path d=\"M17.41 7.96l-1.37-1.37c-.4-.4-.92-.59-1.43-.59-.52 0-1.04.2-1.43.59L10.3 9.45l-7.72 7.72c-.78.78-.78 2.05 0 2.83L4 21.41c.39.39.9.59 1.41.59.51 0 1.02-.2 1.41-.59l7.78-7.78 2.81-2.81c.8-.78.8-2.07 0-2.86zM5.41 20L4 18.59l7.72-7.72 1.47 1.35L5.41 20z\"/>\n",
              "  </svg>\n",
              "      </button>\n",
              "      \n",
              "  <style>\n",
              "    .colab-df-container {\n",
              "      display:flex;\n",
              "      flex-wrap:wrap;\n",
              "      gap: 12px;\n",
              "    }\n",
              "\n",
              "    .colab-df-convert {\n",
              "      background-color: #E8F0FE;\n",
              "      border: none;\n",
              "      border-radius: 50%;\n",
              "      cursor: pointer;\n",
              "      display: none;\n",
              "      fill: #1967D2;\n",
              "      height: 32px;\n",
              "      padding: 0 0 0 0;\n",
              "      width: 32px;\n",
              "    }\n",
              "\n",
              "    .colab-df-convert:hover {\n",
              "      background-color: #E2EBFA;\n",
              "      box-shadow: 0px 1px 2px rgba(60, 64, 67, 0.3), 0px 1px 3px 1px rgba(60, 64, 67, 0.15);\n",
              "      fill: #174EA6;\n",
              "    }\n",
              "\n",
              "    [theme=dark] .colab-df-convert {\n",
              "      background-color: #3B4455;\n",
              "      fill: #D2E3FC;\n",
              "    }\n",
              "\n",
              "    [theme=dark] .colab-df-convert:hover {\n",
              "      background-color: #434B5C;\n",
              "      box-shadow: 0px 1px 3px 1px rgba(0, 0, 0, 0.15);\n",
              "      filter: drop-shadow(0px 1px 2px rgba(0, 0, 0, 0.3));\n",
              "      fill: #FFFFFF;\n",
              "    }\n",
              "  </style>\n",
              "\n",
              "      <script>\n",
              "        const buttonEl =\n",
              "          document.querySelector('#df-106aea8b-b144-4fb9-a87b-9cc89b4d0d79 button.colab-df-convert');\n",
              "        buttonEl.style.display =\n",
              "          google.colab.kernel.accessAllowed ? 'block' : 'none';\n",
              "\n",
              "        async function convertToInteractive(key) {\n",
              "          const element = document.querySelector('#df-106aea8b-b144-4fb9-a87b-9cc89b4d0d79');\n",
              "          const dataTable =\n",
              "            await google.colab.kernel.invokeFunction('convertToInteractive',\n",
              "                                                     [key], {});\n",
              "          if (!dataTable) return;\n",
              "\n",
              "          const docLinkHtml = 'Like what you see? Visit the ' +\n",
              "            '<a target=\"_blank\" href=https://colab.research.google.com/notebooks/data_table.ipynb>data table notebook</a>'\n",
              "            + ' to learn more about interactive tables.';\n",
              "          element.innerHTML = '';\n",
              "          dataTable['output_type'] = 'display_data';\n",
              "          await google.colab.output.renderOutput(dataTable, element);\n",
              "          const docLink = document.createElement('div');\n",
              "          docLink.innerHTML = docLinkHtml;\n",
              "          element.appendChild(docLink);\n",
              "        }\n",
              "      </script>\n",
              "    </div>\n",
              "  </div>\n",
              "  "
            ]
          },
          "metadata": {},
          "execution_count": 5
        }
      ]
    },
    {
      "cell_type": "code",
      "source": [
        "target = pd.read_csv('/content/gdrive/My Drive/Colab Notebooks/ML Studies/DataFusion/target_finetune.csv')\n",
        "target"
      ],
      "metadata": {
        "colab": {
          "base_uri": "https://localhost:8080/",
          "height": 424
        },
        "id": "Ry65qz6N39Pv",
        "outputId": "c3eb3f67-c4b2-4abb-9e29-94da152f36ec"
      },
      "execution_count": null,
      "outputs": [
        {
          "output_type": "execute_result",
          "data": {
            "text/plain": [
              "      user_id  target\n",
              "0      452772       0\n",
              "1       64288       0\n",
              "2      504497       0\n",
              "3      566270       0\n",
              "4      328558       0\n",
              "...       ...     ...\n",
              "7075   237771       0\n",
              "7076   347012       0\n",
              "7077   358770       0\n",
              "7078   292937       0\n",
              "7079    14856       0\n",
              "\n",
              "[7080 rows x 2 columns]"
            ],
            "text/html": [
              "\n",
              "  <div id=\"df-119fa765-f83e-4207-90d2-558961c67aed\">\n",
              "    <div class=\"colab-df-container\">\n",
              "      <div>\n",
              "<style scoped>\n",
              "    .dataframe tbody tr th:only-of-type {\n",
              "        vertical-align: middle;\n",
              "    }\n",
              "\n",
              "    .dataframe tbody tr th {\n",
              "        vertical-align: top;\n",
              "    }\n",
              "\n",
              "    .dataframe thead th {\n",
              "        text-align: right;\n",
              "    }\n",
              "</style>\n",
              "<table border=\"1\" class=\"dataframe\">\n",
              "  <thead>\n",
              "    <tr style=\"text-align: right;\">\n",
              "      <th></th>\n",
              "      <th>user_id</th>\n",
              "      <th>target</th>\n",
              "    </tr>\n",
              "  </thead>\n",
              "  <tbody>\n",
              "    <tr>\n",
              "      <th>0</th>\n",
              "      <td>452772</td>\n",
              "      <td>0</td>\n",
              "    </tr>\n",
              "    <tr>\n",
              "      <th>1</th>\n",
              "      <td>64288</td>\n",
              "      <td>0</td>\n",
              "    </tr>\n",
              "    <tr>\n",
              "      <th>2</th>\n",
              "      <td>504497</td>\n",
              "      <td>0</td>\n",
              "    </tr>\n",
              "    <tr>\n",
              "      <th>3</th>\n",
              "      <td>566270</td>\n",
              "      <td>0</td>\n",
              "    </tr>\n",
              "    <tr>\n",
              "      <th>4</th>\n",
              "      <td>328558</td>\n",
              "      <td>0</td>\n",
              "    </tr>\n",
              "    <tr>\n",
              "      <th>...</th>\n",
              "      <td>...</td>\n",
              "      <td>...</td>\n",
              "    </tr>\n",
              "    <tr>\n",
              "      <th>7075</th>\n",
              "      <td>237771</td>\n",
              "      <td>0</td>\n",
              "    </tr>\n",
              "    <tr>\n",
              "      <th>7076</th>\n",
              "      <td>347012</td>\n",
              "      <td>0</td>\n",
              "    </tr>\n",
              "    <tr>\n",
              "      <th>7077</th>\n",
              "      <td>358770</td>\n",
              "      <td>0</td>\n",
              "    </tr>\n",
              "    <tr>\n",
              "      <th>7078</th>\n",
              "      <td>292937</td>\n",
              "      <td>0</td>\n",
              "    </tr>\n",
              "    <tr>\n",
              "      <th>7079</th>\n",
              "      <td>14856</td>\n",
              "      <td>0</td>\n",
              "    </tr>\n",
              "  </tbody>\n",
              "</table>\n",
              "<p>7080 rows × 2 columns</p>\n",
              "</div>\n",
              "      <button class=\"colab-df-convert\" onclick=\"convertToInteractive('df-119fa765-f83e-4207-90d2-558961c67aed')\"\n",
              "              title=\"Convert this dataframe to an interactive table.\"\n",
              "              style=\"display:none;\">\n",
              "        \n",
              "  <svg xmlns=\"http://www.w3.org/2000/svg\" height=\"24px\"viewBox=\"0 0 24 24\"\n",
              "       width=\"24px\">\n",
              "    <path d=\"M0 0h24v24H0V0z\" fill=\"none\"/>\n",
              "    <path d=\"M18.56 5.44l.94 2.06.94-2.06 2.06-.94-2.06-.94-.94-2.06-.94 2.06-2.06.94zm-11 1L8.5 8.5l.94-2.06 2.06-.94-2.06-.94L8.5 2.5l-.94 2.06-2.06.94zm10 10l.94 2.06.94-2.06 2.06-.94-2.06-.94-.94-2.06-.94 2.06-2.06.94z\"/><path d=\"M17.41 7.96l-1.37-1.37c-.4-.4-.92-.59-1.43-.59-.52 0-1.04.2-1.43.59L10.3 9.45l-7.72 7.72c-.78.78-.78 2.05 0 2.83L4 21.41c.39.39.9.59 1.41.59.51 0 1.02-.2 1.41-.59l7.78-7.78 2.81-2.81c.8-.78.8-2.07 0-2.86zM5.41 20L4 18.59l7.72-7.72 1.47 1.35L5.41 20z\"/>\n",
              "  </svg>\n",
              "      </button>\n",
              "      \n",
              "  <style>\n",
              "    .colab-df-container {\n",
              "      display:flex;\n",
              "      flex-wrap:wrap;\n",
              "      gap: 12px;\n",
              "    }\n",
              "\n",
              "    .colab-df-convert {\n",
              "      background-color: #E8F0FE;\n",
              "      border: none;\n",
              "      border-radius: 50%;\n",
              "      cursor: pointer;\n",
              "      display: none;\n",
              "      fill: #1967D2;\n",
              "      height: 32px;\n",
              "      padding: 0 0 0 0;\n",
              "      width: 32px;\n",
              "    }\n",
              "\n",
              "    .colab-df-convert:hover {\n",
              "      background-color: #E2EBFA;\n",
              "      box-shadow: 0px 1px 2px rgba(60, 64, 67, 0.3), 0px 1px 3px 1px rgba(60, 64, 67, 0.15);\n",
              "      fill: #174EA6;\n",
              "    }\n",
              "\n",
              "    [theme=dark] .colab-df-convert {\n",
              "      background-color: #3B4455;\n",
              "      fill: #D2E3FC;\n",
              "    }\n",
              "\n",
              "    [theme=dark] .colab-df-convert:hover {\n",
              "      background-color: #434B5C;\n",
              "      box-shadow: 0px 1px 3px 1px rgba(0, 0, 0, 0.15);\n",
              "      filter: drop-shadow(0px 1px 2px rgba(0, 0, 0, 0.3));\n",
              "      fill: #FFFFFF;\n",
              "    }\n",
              "  </style>\n",
              "\n",
              "      <script>\n",
              "        const buttonEl =\n",
              "          document.querySelector('#df-119fa765-f83e-4207-90d2-558961c67aed button.colab-df-convert');\n",
              "        buttonEl.style.display =\n",
              "          google.colab.kernel.accessAllowed ? 'block' : 'none';\n",
              "\n",
              "        async function convertToInteractive(key) {\n",
              "          const element = document.querySelector('#df-119fa765-f83e-4207-90d2-558961c67aed');\n",
              "          const dataTable =\n",
              "            await google.colab.kernel.invokeFunction('convertToInteractive',\n",
              "                                                     [key], {});\n",
              "          if (!dataTable) return;\n",
              "\n",
              "          const docLinkHtml = 'Like what you see? Visit the ' +\n",
              "            '<a target=\"_blank\" href=https://colab.research.google.com/notebooks/data_table.ipynb>data table notebook</a>'\n",
              "            + ' to learn more about interactive tables.';\n",
              "          element.innerHTML = '';\n",
              "          dataTable['output_type'] = 'display_data';\n",
              "          await google.colab.output.renderOutput(dataTable, element);\n",
              "          const docLink = document.createElement('div');\n",
              "          docLink.innerHTML = docLinkHtml;\n",
              "          element.appendChild(docLink);\n",
              "        }\n",
              "      </script>\n",
              "    </div>\n",
              "  </div>\n",
              "  "
            ]
          },
          "metadata": {},
          "execution_count": 6
        }
      ]
    },
    {
      "cell_type": "markdown",
      "source": [
        "Соотношение дефолтников и не дефолтников"
      ],
      "metadata": {
        "id": "sdnRPXMDQBH2"
      }
    },
    {
      "cell_type": "code",
      "source": [
        "target['target'].value_counts()"
      ],
      "metadata": {
        "colab": {
          "base_uri": "https://localhost:8080/"
        },
        "id": "d-knd7ChGppq",
        "outputId": "9ce2397e-9c38-474c-b0f6-f74c06b3bf17"
      },
      "execution_count": null,
      "outputs": [
        {
          "output_type": "execute_result",
          "data": {
            "text/plain": [
              "0    6818\n",
              "1     262\n",
              "Name: target, dtype: int64"
            ]
          },
          "metadata": {},
          "execution_count": 7
        }
      ]
    },
    {
      "cell_type": "code",
      "source": [
        "262/6818"
      ],
      "metadata": {
        "colab": {
          "base_uri": "https://localhost:8080/"
        },
        "id": "CLVVHa6YGxQs",
        "outputId": "8a3fb3d3-5dfb-4ac4-9a57-5476a46cf4d2"
      },
      "execution_count": null,
      "outputs": [
        {
          "output_type": "execute_result",
          "data": {
            "text/plain": [
              "0.03842769140510414"
            ]
          },
          "metadata": {},
          "execution_count": 8
        }
      ]
    },
    {
      "cell_type": "markdown",
      "source": [
        "Расшифровка mcc"
      ],
      "metadata": {
        "id": "TdxpfbEAQHPI"
      }
    },
    {
      "cell_type": "code",
      "source": [
        "mcc = pd.read_csv('/content/gdrive/My Drive/Colab Notebooks/ML Studies/DataFusion/mcc_codes.csv')\n",
        "mcc"
      ],
      "metadata": {
        "colab": {
          "base_uri": "https://localhost:8080/",
          "height": 424
        },
        "id": "CSD2yiBjPD9t",
        "outputId": "f2f5ab00-2169-4ee4-9409-0b9945133380"
      },
      "execution_count": null,
      "outputs": [
        {
          "output_type": "execute_result",
          "data": {
            "text/plain": [
              "      MCC                                           Название  \\\n",
              "0     742                                Ветеринарные услуги   \n",
              "1     763                   Сельскохозяйственные кооперативы   \n",
              "2     780          Услуги садоводства и ландшафтного дизайна   \n",
              "3    1520  Генеральные подрядчики – жилое и коммерческое ...   \n",
              "4    1711  Генеральные подрядчики по вентиляции, теплосна...   \n",
              "..    ...                                                ...   \n",
              "380  9311                                  Налоговые платежи   \n",
              "381  9399  Государственные услуги - нигде более не класси...   \n",
              "382  9402           Почтовые услуги – только государственные   \n",
              "383  9405  Внутригосударственные закупки - только государ...   \n",
              "384  9406                Государственные лотереи (кроме США)   \n",
              "\n",
              "                                              Описание  \n",
              "0    Лицензированные специалисты в основном занимаю...  \n",
              "1    Ассоциации и кооперативы, которые предоставляю...  \n",
              "2    Ландшафтные архитекторы и другие поставщики ус...  \n",
              "3    Генеральные подрядчики, в основном занимающиес...  \n",
              "4    Специальные торговые подрядчики, которые работ...  \n",
              "..                                                 ...  \n",
              "380  Местные, региональные и федеральные организаци...  \n",
              "381  Торговые точки, предоставляющие правительству ...  \n",
              "382  Государственные почтовые отделения, включая ме...  \n",
              "383  Определяет транзакции между правительственными...  \n",
              "384  Государственные лотереи, которые зарегистриров...  \n",
              "\n",
              "[385 rows x 3 columns]"
            ],
            "text/html": [
              "\n",
              "  <div id=\"df-b48a8f7e-7301-4adc-9cce-4b7307bda883\">\n",
              "    <div class=\"colab-df-container\">\n",
              "      <div>\n",
              "<style scoped>\n",
              "    .dataframe tbody tr th:only-of-type {\n",
              "        vertical-align: middle;\n",
              "    }\n",
              "\n",
              "    .dataframe tbody tr th {\n",
              "        vertical-align: top;\n",
              "    }\n",
              "\n",
              "    .dataframe thead th {\n",
              "        text-align: right;\n",
              "    }\n",
              "</style>\n",
              "<table border=\"1\" class=\"dataframe\">\n",
              "  <thead>\n",
              "    <tr style=\"text-align: right;\">\n",
              "      <th></th>\n",
              "      <th>MCC</th>\n",
              "      <th>Название</th>\n",
              "      <th>Описание</th>\n",
              "    </tr>\n",
              "  </thead>\n",
              "  <tbody>\n",
              "    <tr>\n",
              "      <th>0</th>\n",
              "      <td>742</td>\n",
              "      <td>Ветеринарные услуги</td>\n",
              "      <td>Лицензированные специалисты в основном занимаю...</td>\n",
              "    </tr>\n",
              "    <tr>\n",
              "      <th>1</th>\n",
              "      <td>763</td>\n",
              "      <td>Сельскохозяйственные кооперативы</td>\n",
              "      <td>Ассоциации и кооперативы, которые предоставляю...</td>\n",
              "    </tr>\n",
              "    <tr>\n",
              "      <th>2</th>\n",
              "      <td>780</td>\n",
              "      <td>Услуги садоводства и ландшафтного дизайна</td>\n",
              "      <td>Ландшафтные архитекторы и другие поставщики ус...</td>\n",
              "    </tr>\n",
              "    <tr>\n",
              "      <th>3</th>\n",
              "      <td>1520</td>\n",
              "      <td>Генеральные подрядчики – жилое и коммерческое ...</td>\n",
              "      <td>Генеральные подрядчики, в основном занимающиес...</td>\n",
              "    </tr>\n",
              "    <tr>\n",
              "      <th>4</th>\n",
              "      <td>1711</td>\n",
              "      <td>Генеральные подрядчики по вентиляции, теплосна...</td>\n",
              "      <td>Специальные торговые подрядчики, которые работ...</td>\n",
              "    </tr>\n",
              "    <tr>\n",
              "      <th>...</th>\n",
              "      <td>...</td>\n",
              "      <td>...</td>\n",
              "      <td>...</td>\n",
              "    </tr>\n",
              "    <tr>\n",
              "      <th>380</th>\n",
              "      <td>9311</td>\n",
              "      <td>Налоговые платежи</td>\n",
              "      <td>Местные, региональные и федеральные организаци...</td>\n",
              "    </tr>\n",
              "    <tr>\n",
              "      <th>381</th>\n",
              "      <td>9399</td>\n",
              "      <td>Государственные услуги - нигде более не класси...</td>\n",
              "      <td>Торговые точки, предоставляющие правительству ...</td>\n",
              "    </tr>\n",
              "    <tr>\n",
              "      <th>382</th>\n",
              "      <td>9402</td>\n",
              "      <td>Почтовые услуги – только государственные</td>\n",
              "      <td>Государственные почтовые отделения, включая ме...</td>\n",
              "    </tr>\n",
              "    <tr>\n",
              "      <th>383</th>\n",
              "      <td>9405</td>\n",
              "      <td>Внутригосударственные закупки - только государ...</td>\n",
              "      <td>Определяет транзакции между правительственными...</td>\n",
              "    </tr>\n",
              "    <tr>\n",
              "      <th>384</th>\n",
              "      <td>9406</td>\n",
              "      <td>Государственные лотереи (кроме США)</td>\n",
              "      <td>Государственные лотереи, которые зарегистриров...</td>\n",
              "    </tr>\n",
              "  </tbody>\n",
              "</table>\n",
              "<p>385 rows × 3 columns</p>\n",
              "</div>\n",
              "      <button class=\"colab-df-convert\" onclick=\"convertToInteractive('df-b48a8f7e-7301-4adc-9cce-4b7307bda883')\"\n",
              "              title=\"Convert this dataframe to an interactive table.\"\n",
              "              style=\"display:none;\">\n",
              "        \n",
              "  <svg xmlns=\"http://www.w3.org/2000/svg\" height=\"24px\"viewBox=\"0 0 24 24\"\n",
              "       width=\"24px\">\n",
              "    <path d=\"M0 0h24v24H0V0z\" fill=\"none\"/>\n",
              "    <path d=\"M18.56 5.44l.94 2.06.94-2.06 2.06-.94-2.06-.94-.94-2.06-.94 2.06-2.06.94zm-11 1L8.5 8.5l.94-2.06 2.06-.94-2.06-.94L8.5 2.5l-.94 2.06-2.06.94zm10 10l.94 2.06.94-2.06 2.06-.94-2.06-.94-.94-2.06-.94 2.06-2.06.94z\"/><path d=\"M17.41 7.96l-1.37-1.37c-.4-.4-.92-.59-1.43-.59-.52 0-1.04.2-1.43.59L10.3 9.45l-7.72 7.72c-.78.78-.78 2.05 0 2.83L4 21.41c.39.39.9.59 1.41.59.51 0 1.02-.2 1.41-.59l7.78-7.78 2.81-2.81c.8-.78.8-2.07 0-2.86zM5.41 20L4 18.59l7.72-7.72 1.47 1.35L5.41 20z\"/>\n",
              "  </svg>\n",
              "      </button>\n",
              "      \n",
              "  <style>\n",
              "    .colab-df-container {\n",
              "      display:flex;\n",
              "      flex-wrap:wrap;\n",
              "      gap: 12px;\n",
              "    }\n",
              "\n",
              "    .colab-df-convert {\n",
              "      background-color: #E8F0FE;\n",
              "      border: none;\n",
              "      border-radius: 50%;\n",
              "      cursor: pointer;\n",
              "      display: none;\n",
              "      fill: #1967D2;\n",
              "      height: 32px;\n",
              "      padding: 0 0 0 0;\n",
              "      width: 32px;\n",
              "    }\n",
              "\n",
              "    .colab-df-convert:hover {\n",
              "      background-color: #E2EBFA;\n",
              "      box-shadow: 0px 1px 2px rgba(60, 64, 67, 0.3), 0px 1px 3px 1px rgba(60, 64, 67, 0.15);\n",
              "      fill: #174EA6;\n",
              "    }\n",
              "\n",
              "    [theme=dark] .colab-df-convert {\n",
              "      background-color: #3B4455;\n",
              "      fill: #D2E3FC;\n",
              "    }\n",
              "\n",
              "    [theme=dark] .colab-df-convert:hover {\n",
              "      background-color: #434B5C;\n",
              "      box-shadow: 0px 1px 3px 1px rgba(0, 0, 0, 0.15);\n",
              "      filter: drop-shadow(0px 1px 2px rgba(0, 0, 0, 0.3));\n",
              "      fill: #FFFFFF;\n",
              "    }\n",
              "  </style>\n",
              "\n",
              "      <script>\n",
              "        const buttonEl =\n",
              "          document.querySelector('#df-b48a8f7e-7301-4adc-9cce-4b7307bda883 button.colab-df-convert');\n",
              "        buttonEl.style.display =\n",
              "          google.colab.kernel.accessAllowed ? 'block' : 'none';\n",
              "\n",
              "        async function convertToInteractive(key) {\n",
              "          const element = document.querySelector('#df-b48a8f7e-7301-4adc-9cce-4b7307bda883');\n",
              "          const dataTable =\n",
              "            await google.colab.kernel.invokeFunction('convertToInteractive',\n",
              "                                                     [key], {});\n",
              "          if (!dataTable) return;\n",
              "\n",
              "          const docLinkHtml = 'Like what you see? Visit the ' +\n",
              "            '<a target=\"_blank\" href=https://colab.research.google.com/notebooks/data_table.ipynb>data table notebook</a>'\n",
              "            + ' to learn more about interactive tables.';\n",
              "          element.innerHTML = '';\n",
              "          dataTable['output_type'] = 'display_data';\n",
              "          await google.colab.output.renderOutput(dataTable, element);\n",
              "          const docLink = document.createElement('div');\n",
              "          docLink.innerHTML = docLinkHtml;\n",
              "          element.appendChild(docLink);\n",
              "        }\n",
              "      </script>\n",
              "    </div>\n",
              "  </div>\n",
              "  "
            ]
          },
          "metadata": {},
          "execution_count": 9
        }
      ]
    },
    {
      "cell_type": "markdown",
      "source": [
        "Просмотр типов данных"
      ],
      "metadata": {
        "id": "CFU_yvMeQKMe"
      }
    },
    {
      "cell_type": "code",
      "source": [
        "df.info()"
      ],
      "metadata": {
        "colab": {
          "base_uri": "https://localhost:8080/"
        },
        "id": "RqzqqaHo3X3t",
        "outputId": "dbcedc05-9f8d-4d63-f543-92858666e7cc"
      },
      "execution_count": null,
      "outputs": [
        {
          "output_type": "stream",
          "name": "stdout",
          "text": [
            "<class 'pandas.core.frame.DataFrame'>\n",
            "RangeIndex: 2124000 entries, 0 to 2123999\n",
            "Data columns (total 5 columns):\n",
            " #   Column            Dtype  \n",
            "---  ------            -----  \n",
            " 0   user_id           int64  \n",
            " 1   mcc_code          int64  \n",
            " 2   currency_rk       int64  \n",
            " 3   transaction_amt   float64\n",
            " 4   transaction_dttm  object \n",
            "dtypes: float64(1), int64(3), object(1)\n",
            "memory usage: 81.0+ MB\n"
          ]
        }
      ]
    },
    {
      "cell_type": "markdown",
      "source": [
        "Проверка пустых значений"
      ],
      "metadata": {
        "id": "4LbZv2OYQNbh"
      }
    },
    {
      "cell_type": "code",
      "source": [
        "df.isnull().sum()"
      ],
      "metadata": {
        "colab": {
          "base_uri": "https://localhost:8080/"
        },
        "id": "7oQODgk33cAc",
        "outputId": "3acdc50a-7328-4eee-b657-8fc826689fd5"
      },
      "execution_count": null,
      "outputs": [
        {
          "output_type": "execute_result",
          "data": {
            "text/plain": [
              "user_id             0\n",
              "mcc_code            0\n",
              "currency_rk         0\n",
              "transaction_amt     0\n",
              "transaction_dttm    0\n",
              "dtype: int64"
            ]
          },
          "metadata": {},
          "execution_count": 11
        }
      ]
    },
    {
      "cell_type": "markdown",
      "source": [
        "Количество транзакций на человека"
      ],
      "metadata": {
        "id": "fvESALRdQRn_"
      }
    },
    {
      "cell_type": "code",
      "source": [
        "df['user_id'].value_counts()"
      ],
      "metadata": {
        "colab": {
          "base_uri": "https://localhost:8080/"
        },
        "id": "fFQfNrcv3i-y",
        "outputId": "7a2c520b-db8c-4c02-8eb9-668b85f534f2"
      },
      "execution_count": null,
      "outputs": [
        {
          "output_type": "execute_result",
          "data": {
            "text/plain": [
              "69        300\n",
              "577927    300\n",
              "579630    300\n",
              "579629    300\n",
              "579623    300\n",
              "         ... \n",
              "283609    300\n",
              "283532    300\n",
              "283386    300\n",
              "283205    300\n",
              "868949    300\n",
              "Name: user_id, Length: 7080, dtype: int64"
            ]
          },
          "metadata": {},
          "execution_count": 12
        }
      ]
    },
    {
      "cell_type": "markdown",
      "source": [
        "Особенность осенью транзакций нет"
      ],
      "metadata": {
        "id": "RKQG0H0ZQVK5"
      }
    },
    {
      "cell_type": "code",
      "source": [
        "df_TT = df['transaction_dttm'] >= '2021-09-01 00:00:00'\n",
        "df_TT.value_counts()"
      ],
      "metadata": {
        "colab": {
          "base_uri": "https://localhost:8080/"
        },
        "id": "NV9mMVYkPj6-",
        "outputId": "2a05ad5a-f81b-47a5-8e1a-1ba84eaf0a51"
      },
      "execution_count": null,
      "outputs": [
        {
          "output_type": "execute_result",
          "data": {
            "text/plain": [
              "False    2124000\n",
              "Name: transaction_dttm, dtype: int64"
            ]
          },
          "metadata": {},
          "execution_count": 13
        }
      ]
    },
    {
      "cell_type": "markdown",
      "source": [
        "## 1.2 Цифровизация "
      ],
      "metadata": {
        "id": "0XDonzJwNeLN"
      }
    },
    {
      "cell_type": "code",
      "source": [
        "df1 = df.merge(target, on = 'user_id', how = 'inner')"
      ],
      "metadata": {
        "id": "FhUk0RiuDJh4"
      },
      "execution_count": null,
      "outputs": []
    },
    {
      "cell_type": "code",
      "source": [
        "df1"
      ],
      "metadata": {
        "colab": {
          "base_uri": "https://localhost:8080/",
          "height": 424
        },
        "id": "iYZny_bXGGPc",
        "outputId": "05f61f71-d8a0-48f2-e38c-7686d064215a"
      },
      "execution_count": null,
      "outputs": [
        {
          "output_type": "execute_result",
          "data": {
            "text/plain": [
              "         user_id  mcc_code  currency_rk  transaction_amt     transaction_dttm  \\\n",
              "0             69      5541           48       -342.89792  2021-03-05 02:52:36   \n",
              "1             69      5533           48      -1251.88120  2021-03-05 09:43:28   \n",
              "2             69      5331           48        -87.30924  2021-03-05 11:17:23   \n",
              "3             69      5921           48      -1822.17700  2021-03-05 13:41:03   \n",
              "4             69      5311           48       -427.12363  2021-03-05 19:14:23   \n",
              "...          ...       ...          ...              ...                  ...   \n",
              "2123995   868949      5411           48       -203.11295  2021-05-11 17:05:09   \n",
              "2123996   868949      4131           48        -63.25255  2021-05-13 11:28:52   \n",
              "2123997   868949      4131           48        -40.04709  2021-05-13 11:38:42   \n",
              "2123998   868949      4131           48       -594.77850  2021-05-13 14:00:44   \n",
              "2123999   868949      5814           48       -127.33617  2021-05-13 14:17:28   \n",
              "\n",
              "         target  \n",
              "0             0  \n",
              "1             0  \n",
              "2             0  \n",
              "3             0  \n",
              "4             0  \n",
              "...         ...  \n",
              "2123995       0  \n",
              "2123996       0  \n",
              "2123997       0  \n",
              "2123998       0  \n",
              "2123999       0  \n",
              "\n",
              "[2124000 rows x 6 columns]"
            ],
            "text/html": [
              "\n",
              "  <div id=\"df-c5e51845-6f77-42b0-9883-f37828fedff8\">\n",
              "    <div class=\"colab-df-container\">\n",
              "      <div>\n",
              "<style scoped>\n",
              "    .dataframe tbody tr th:only-of-type {\n",
              "        vertical-align: middle;\n",
              "    }\n",
              "\n",
              "    .dataframe tbody tr th {\n",
              "        vertical-align: top;\n",
              "    }\n",
              "\n",
              "    .dataframe thead th {\n",
              "        text-align: right;\n",
              "    }\n",
              "</style>\n",
              "<table border=\"1\" class=\"dataframe\">\n",
              "  <thead>\n",
              "    <tr style=\"text-align: right;\">\n",
              "      <th></th>\n",
              "      <th>user_id</th>\n",
              "      <th>mcc_code</th>\n",
              "      <th>currency_rk</th>\n",
              "      <th>transaction_amt</th>\n",
              "      <th>transaction_dttm</th>\n",
              "      <th>target</th>\n",
              "    </tr>\n",
              "  </thead>\n",
              "  <tbody>\n",
              "    <tr>\n",
              "      <th>0</th>\n",
              "      <td>69</td>\n",
              "      <td>5541</td>\n",
              "      <td>48</td>\n",
              "      <td>-342.89792</td>\n",
              "      <td>2021-03-05 02:52:36</td>\n",
              "      <td>0</td>\n",
              "    </tr>\n",
              "    <tr>\n",
              "      <th>1</th>\n",
              "      <td>69</td>\n",
              "      <td>5533</td>\n",
              "      <td>48</td>\n",
              "      <td>-1251.88120</td>\n",
              "      <td>2021-03-05 09:43:28</td>\n",
              "      <td>0</td>\n",
              "    </tr>\n",
              "    <tr>\n",
              "      <th>2</th>\n",
              "      <td>69</td>\n",
              "      <td>5331</td>\n",
              "      <td>48</td>\n",
              "      <td>-87.30924</td>\n",
              "      <td>2021-03-05 11:17:23</td>\n",
              "      <td>0</td>\n",
              "    </tr>\n",
              "    <tr>\n",
              "      <th>3</th>\n",
              "      <td>69</td>\n",
              "      <td>5921</td>\n",
              "      <td>48</td>\n",
              "      <td>-1822.17700</td>\n",
              "      <td>2021-03-05 13:41:03</td>\n",
              "      <td>0</td>\n",
              "    </tr>\n",
              "    <tr>\n",
              "      <th>4</th>\n",
              "      <td>69</td>\n",
              "      <td>5311</td>\n",
              "      <td>48</td>\n",
              "      <td>-427.12363</td>\n",
              "      <td>2021-03-05 19:14:23</td>\n",
              "      <td>0</td>\n",
              "    </tr>\n",
              "    <tr>\n",
              "      <th>...</th>\n",
              "      <td>...</td>\n",
              "      <td>...</td>\n",
              "      <td>...</td>\n",
              "      <td>...</td>\n",
              "      <td>...</td>\n",
              "      <td>...</td>\n",
              "    </tr>\n",
              "    <tr>\n",
              "      <th>2123995</th>\n",
              "      <td>868949</td>\n",
              "      <td>5411</td>\n",
              "      <td>48</td>\n",
              "      <td>-203.11295</td>\n",
              "      <td>2021-05-11 17:05:09</td>\n",
              "      <td>0</td>\n",
              "    </tr>\n",
              "    <tr>\n",
              "      <th>2123996</th>\n",
              "      <td>868949</td>\n",
              "      <td>4131</td>\n",
              "      <td>48</td>\n",
              "      <td>-63.25255</td>\n",
              "      <td>2021-05-13 11:28:52</td>\n",
              "      <td>0</td>\n",
              "    </tr>\n",
              "    <tr>\n",
              "      <th>2123997</th>\n",
              "      <td>868949</td>\n",
              "      <td>4131</td>\n",
              "      <td>48</td>\n",
              "      <td>-40.04709</td>\n",
              "      <td>2021-05-13 11:38:42</td>\n",
              "      <td>0</td>\n",
              "    </tr>\n",
              "    <tr>\n",
              "      <th>2123998</th>\n",
              "      <td>868949</td>\n",
              "      <td>4131</td>\n",
              "      <td>48</td>\n",
              "      <td>-594.77850</td>\n",
              "      <td>2021-05-13 14:00:44</td>\n",
              "      <td>0</td>\n",
              "    </tr>\n",
              "    <tr>\n",
              "      <th>2123999</th>\n",
              "      <td>868949</td>\n",
              "      <td>5814</td>\n",
              "      <td>48</td>\n",
              "      <td>-127.33617</td>\n",
              "      <td>2021-05-13 14:17:28</td>\n",
              "      <td>0</td>\n",
              "    </tr>\n",
              "  </tbody>\n",
              "</table>\n",
              "<p>2124000 rows × 6 columns</p>\n",
              "</div>\n",
              "      <button class=\"colab-df-convert\" onclick=\"convertToInteractive('df-c5e51845-6f77-42b0-9883-f37828fedff8')\"\n",
              "              title=\"Convert this dataframe to an interactive table.\"\n",
              "              style=\"display:none;\">\n",
              "        \n",
              "  <svg xmlns=\"http://www.w3.org/2000/svg\" height=\"24px\"viewBox=\"0 0 24 24\"\n",
              "       width=\"24px\">\n",
              "    <path d=\"M0 0h24v24H0V0z\" fill=\"none\"/>\n",
              "    <path d=\"M18.56 5.44l.94 2.06.94-2.06 2.06-.94-2.06-.94-.94-2.06-.94 2.06-2.06.94zm-11 1L8.5 8.5l.94-2.06 2.06-.94-2.06-.94L8.5 2.5l-.94 2.06-2.06.94zm10 10l.94 2.06.94-2.06 2.06-.94-2.06-.94-.94-2.06-.94 2.06-2.06.94z\"/><path d=\"M17.41 7.96l-1.37-1.37c-.4-.4-.92-.59-1.43-.59-.52 0-1.04.2-1.43.59L10.3 9.45l-7.72 7.72c-.78.78-.78 2.05 0 2.83L4 21.41c.39.39.9.59 1.41.59.51 0 1.02-.2 1.41-.59l7.78-7.78 2.81-2.81c.8-.78.8-2.07 0-2.86zM5.41 20L4 18.59l7.72-7.72 1.47 1.35L5.41 20z\"/>\n",
              "  </svg>\n",
              "      </button>\n",
              "      \n",
              "  <style>\n",
              "    .colab-df-container {\n",
              "      display:flex;\n",
              "      flex-wrap:wrap;\n",
              "      gap: 12px;\n",
              "    }\n",
              "\n",
              "    .colab-df-convert {\n",
              "      background-color: #E8F0FE;\n",
              "      border: none;\n",
              "      border-radius: 50%;\n",
              "      cursor: pointer;\n",
              "      display: none;\n",
              "      fill: #1967D2;\n",
              "      height: 32px;\n",
              "      padding: 0 0 0 0;\n",
              "      width: 32px;\n",
              "    }\n",
              "\n",
              "    .colab-df-convert:hover {\n",
              "      background-color: #E2EBFA;\n",
              "      box-shadow: 0px 1px 2px rgba(60, 64, 67, 0.3), 0px 1px 3px 1px rgba(60, 64, 67, 0.15);\n",
              "      fill: #174EA6;\n",
              "    }\n",
              "\n",
              "    [theme=dark] .colab-df-convert {\n",
              "      background-color: #3B4455;\n",
              "      fill: #D2E3FC;\n",
              "    }\n",
              "\n",
              "    [theme=dark] .colab-df-convert:hover {\n",
              "      background-color: #434B5C;\n",
              "      box-shadow: 0px 1px 3px 1px rgba(0, 0, 0, 0.15);\n",
              "      filter: drop-shadow(0px 1px 2px rgba(0, 0, 0, 0.3));\n",
              "      fill: #FFFFFF;\n",
              "    }\n",
              "  </style>\n",
              "\n",
              "      <script>\n",
              "        const buttonEl =\n",
              "          document.querySelector('#df-c5e51845-6f77-42b0-9883-f37828fedff8 button.colab-df-convert');\n",
              "        buttonEl.style.display =\n",
              "          google.colab.kernel.accessAllowed ? 'block' : 'none';\n",
              "\n",
              "        async function convertToInteractive(key) {\n",
              "          const element = document.querySelector('#df-c5e51845-6f77-42b0-9883-f37828fedff8');\n",
              "          const dataTable =\n",
              "            await google.colab.kernel.invokeFunction('convertToInteractive',\n",
              "                                                     [key], {});\n",
              "          if (!dataTable) return;\n",
              "\n",
              "          const docLinkHtml = 'Like what you see? Visit the ' +\n",
              "            '<a target=\"_blank\" href=https://colab.research.google.com/notebooks/data_table.ipynb>data table notebook</a>'\n",
              "            + ' to learn more about interactive tables.';\n",
              "          element.innerHTML = '';\n",
              "          dataTable['output_type'] = 'display_data';\n",
              "          await google.colab.output.renderOutput(dataTable, element);\n",
              "          const docLink = document.createElement('div');\n",
              "          docLink.innerHTML = docLinkHtml;\n",
              "          element.appendChild(docLink);\n",
              "        }\n",
              "      </script>\n",
              "    </div>\n",
              "  </div>\n",
              "  "
            ]
          },
          "metadata": {},
          "execution_count": 15
        }
      ]
    },
    {
      "cell_type": "code",
      "source": [
        "df1['Dates'] = pd.to_datetime(df['transaction_dttm']).dt.date\n",
        "df1['Time'] = pd.to_datetime(df['transaction_dttm']).dt.time"
      ],
      "metadata": {
        "id": "dOvA4zwZVbhc"
      },
      "execution_count": null,
      "outputs": []
    },
    {
      "cell_type": "code",
      "source": [
        "df1"
      ],
      "metadata": {
        "colab": {
          "base_uri": "https://localhost:8080/",
          "height": 424
        },
        "id": "c2MR4t3MVuCp",
        "outputId": "10100b73-04f7-4d48-edab-5c250de2dbd8"
      },
      "execution_count": null,
      "outputs": [
        {
          "output_type": "execute_result",
          "data": {
            "text/plain": [
              "         user_id  mcc_code  currency_rk  transaction_amt     transaction_dttm  \\\n",
              "0             69      5541           48       -342.89792  2021-03-05 02:52:36   \n",
              "1             69      5533           48      -1251.88120  2021-03-05 09:43:28   \n",
              "2             69      5331           48        -87.30924  2021-03-05 11:17:23   \n",
              "3             69      5921           48      -1822.17700  2021-03-05 13:41:03   \n",
              "4             69      5311           48       -427.12363  2021-03-05 19:14:23   \n",
              "...          ...       ...          ...              ...                  ...   \n",
              "2123995   868949      5411           48       -203.11295  2021-05-11 17:05:09   \n",
              "2123996   868949      4131           48        -63.25255  2021-05-13 11:28:52   \n",
              "2123997   868949      4131           48        -40.04709  2021-05-13 11:38:42   \n",
              "2123998   868949      4131           48       -594.77850  2021-05-13 14:00:44   \n",
              "2123999   868949      5814           48       -127.33617  2021-05-13 14:17:28   \n",
              "\n",
              "         target       Dates      Time  \n",
              "0             0  2021-03-05  02:52:36  \n",
              "1             0  2021-03-05  09:43:28  \n",
              "2             0  2021-03-05  11:17:23  \n",
              "3             0  2021-03-05  13:41:03  \n",
              "4             0  2021-03-05  19:14:23  \n",
              "...         ...         ...       ...  \n",
              "2123995       0  2021-05-11  17:05:09  \n",
              "2123996       0  2021-05-13  11:28:52  \n",
              "2123997       0  2021-05-13  11:38:42  \n",
              "2123998       0  2021-05-13  14:00:44  \n",
              "2123999       0  2021-05-13  14:17:28  \n",
              "\n",
              "[2124000 rows x 8 columns]"
            ],
            "text/html": [
              "\n",
              "  <div id=\"df-e312ff3d-c6f7-48b6-9a5c-2e7cf7e0c3c7\">\n",
              "    <div class=\"colab-df-container\">\n",
              "      <div>\n",
              "<style scoped>\n",
              "    .dataframe tbody tr th:only-of-type {\n",
              "        vertical-align: middle;\n",
              "    }\n",
              "\n",
              "    .dataframe tbody tr th {\n",
              "        vertical-align: top;\n",
              "    }\n",
              "\n",
              "    .dataframe thead th {\n",
              "        text-align: right;\n",
              "    }\n",
              "</style>\n",
              "<table border=\"1\" class=\"dataframe\">\n",
              "  <thead>\n",
              "    <tr style=\"text-align: right;\">\n",
              "      <th></th>\n",
              "      <th>user_id</th>\n",
              "      <th>mcc_code</th>\n",
              "      <th>currency_rk</th>\n",
              "      <th>transaction_amt</th>\n",
              "      <th>transaction_dttm</th>\n",
              "      <th>target</th>\n",
              "      <th>Dates</th>\n",
              "      <th>Time</th>\n",
              "    </tr>\n",
              "  </thead>\n",
              "  <tbody>\n",
              "    <tr>\n",
              "      <th>0</th>\n",
              "      <td>69</td>\n",
              "      <td>5541</td>\n",
              "      <td>48</td>\n",
              "      <td>-342.89792</td>\n",
              "      <td>2021-03-05 02:52:36</td>\n",
              "      <td>0</td>\n",
              "      <td>2021-03-05</td>\n",
              "      <td>02:52:36</td>\n",
              "    </tr>\n",
              "    <tr>\n",
              "      <th>1</th>\n",
              "      <td>69</td>\n",
              "      <td>5533</td>\n",
              "      <td>48</td>\n",
              "      <td>-1251.88120</td>\n",
              "      <td>2021-03-05 09:43:28</td>\n",
              "      <td>0</td>\n",
              "      <td>2021-03-05</td>\n",
              "      <td>09:43:28</td>\n",
              "    </tr>\n",
              "    <tr>\n",
              "      <th>2</th>\n",
              "      <td>69</td>\n",
              "      <td>5331</td>\n",
              "      <td>48</td>\n",
              "      <td>-87.30924</td>\n",
              "      <td>2021-03-05 11:17:23</td>\n",
              "      <td>0</td>\n",
              "      <td>2021-03-05</td>\n",
              "      <td>11:17:23</td>\n",
              "    </tr>\n",
              "    <tr>\n",
              "      <th>3</th>\n",
              "      <td>69</td>\n",
              "      <td>5921</td>\n",
              "      <td>48</td>\n",
              "      <td>-1822.17700</td>\n",
              "      <td>2021-03-05 13:41:03</td>\n",
              "      <td>0</td>\n",
              "      <td>2021-03-05</td>\n",
              "      <td>13:41:03</td>\n",
              "    </tr>\n",
              "    <tr>\n",
              "      <th>4</th>\n",
              "      <td>69</td>\n",
              "      <td>5311</td>\n",
              "      <td>48</td>\n",
              "      <td>-427.12363</td>\n",
              "      <td>2021-03-05 19:14:23</td>\n",
              "      <td>0</td>\n",
              "      <td>2021-03-05</td>\n",
              "      <td>19:14:23</td>\n",
              "    </tr>\n",
              "    <tr>\n",
              "      <th>...</th>\n",
              "      <td>...</td>\n",
              "      <td>...</td>\n",
              "      <td>...</td>\n",
              "      <td>...</td>\n",
              "      <td>...</td>\n",
              "      <td>...</td>\n",
              "      <td>...</td>\n",
              "      <td>...</td>\n",
              "    </tr>\n",
              "    <tr>\n",
              "      <th>2123995</th>\n",
              "      <td>868949</td>\n",
              "      <td>5411</td>\n",
              "      <td>48</td>\n",
              "      <td>-203.11295</td>\n",
              "      <td>2021-05-11 17:05:09</td>\n",
              "      <td>0</td>\n",
              "      <td>2021-05-11</td>\n",
              "      <td>17:05:09</td>\n",
              "    </tr>\n",
              "    <tr>\n",
              "      <th>2123996</th>\n",
              "      <td>868949</td>\n",
              "      <td>4131</td>\n",
              "      <td>48</td>\n",
              "      <td>-63.25255</td>\n",
              "      <td>2021-05-13 11:28:52</td>\n",
              "      <td>0</td>\n",
              "      <td>2021-05-13</td>\n",
              "      <td>11:28:52</td>\n",
              "    </tr>\n",
              "    <tr>\n",
              "      <th>2123997</th>\n",
              "      <td>868949</td>\n",
              "      <td>4131</td>\n",
              "      <td>48</td>\n",
              "      <td>-40.04709</td>\n",
              "      <td>2021-05-13 11:38:42</td>\n",
              "      <td>0</td>\n",
              "      <td>2021-05-13</td>\n",
              "      <td>11:38:42</td>\n",
              "    </tr>\n",
              "    <tr>\n",
              "      <th>2123998</th>\n",
              "      <td>868949</td>\n",
              "      <td>4131</td>\n",
              "      <td>48</td>\n",
              "      <td>-594.77850</td>\n",
              "      <td>2021-05-13 14:00:44</td>\n",
              "      <td>0</td>\n",
              "      <td>2021-05-13</td>\n",
              "      <td>14:00:44</td>\n",
              "    </tr>\n",
              "    <tr>\n",
              "      <th>2123999</th>\n",
              "      <td>868949</td>\n",
              "      <td>5814</td>\n",
              "      <td>48</td>\n",
              "      <td>-127.33617</td>\n",
              "      <td>2021-05-13 14:17:28</td>\n",
              "      <td>0</td>\n",
              "      <td>2021-05-13</td>\n",
              "      <td>14:17:28</td>\n",
              "    </tr>\n",
              "  </tbody>\n",
              "</table>\n",
              "<p>2124000 rows × 8 columns</p>\n",
              "</div>\n",
              "      <button class=\"colab-df-convert\" onclick=\"convertToInteractive('df-e312ff3d-c6f7-48b6-9a5c-2e7cf7e0c3c7')\"\n",
              "              title=\"Convert this dataframe to an interactive table.\"\n",
              "              style=\"display:none;\">\n",
              "        \n",
              "  <svg xmlns=\"http://www.w3.org/2000/svg\" height=\"24px\"viewBox=\"0 0 24 24\"\n",
              "       width=\"24px\">\n",
              "    <path d=\"M0 0h24v24H0V0z\" fill=\"none\"/>\n",
              "    <path d=\"M18.56 5.44l.94 2.06.94-2.06 2.06-.94-2.06-.94-.94-2.06-.94 2.06-2.06.94zm-11 1L8.5 8.5l.94-2.06 2.06-.94-2.06-.94L8.5 2.5l-.94 2.06-2.06.94zm10 10l.94 2.06.94-2.06 2.06-.94-2.06-.94-.94-2.06-.94 2.06-2.06.94z\"/><path d=\"M17.41 7.96l-1.37-1.37c-.4-.4-.92-.59-1.43-.59-.52 0-1.04.2-1.43.59L10.3 9.45l-7.72 7.72c-.78.78-.78 2.05 0 2.83L4 21.41c.39.39.9.59 1.41.59.51 0 1.02-.2 1.41-.59l7.78-7.78 2.81-2.81c.8-.78.8-2.07 0-2.86zM5.41 20L4 18.59l7.72-7.72 1.47 1.35L5.41 20z\"/>\n",
              "  </svg>\n",
              "      </button>\n",
              "      \n",
              "  <style>\n",
              "    .colab-df-container {\n",
              "      display:flex;\n",
              "      flex-wrap:wrap;\n",
              "      gap: 12px;\n",
              "    }\n",
              "\n",
              "    .colab-df-convert {\n",
              "      background-color: #E8F0FE;\n",
              "      border: none;\n",
              "      border-radius: 50%;\n",
              "      cursor: pointer;\n",
              "      display: none;\n",
              "      fill: #1967D2;\n",
              "      height: 32px;\n",
              "      padding: 0 0 0 0;\n",
              "      width: 32px;\n",
              "    }\n",
              "\n",
              "    .colab-df-convert:hover {\n",
              "      background-color: #E2EBFA;\n",
              "      box-shadow: 0px 1px 2px rgba(60, 64, 67, 0.3), 0px 1px 3px 1px rgba(60, 64, 67, 0.15);\n",
              "      fill: #174EA6;\n",
              "    }\n",
              "\n",
              "    [theme=dark] .colab-df-convert {\n",
              "      background-color: #3B4455;\n",
              "      fill: #D2E3FC;\n",
              "    }\n",
              "\n",
              "    [theme=dark] .colab-df-convert:hover {\n",
              "      background-color: #434B5C;\n",
              "      box-shadow: 0px 1px 3px 1px rgba(0, 0, 0, 0.15);\n",
              "      filter: drop-shadow(0px 1px 2px rgba(0, 0, 0, 0.3));\n",
              "      fill: #FFFFFF;\n",
              "    }\n",
              "  </style>\n",
              "\n",
              "      <script>\n",
              "        const buttonEl =\n",
              "          document.querySelector('#df-e312ff3d-c6f7-48b6-9a5c-2e7cf7e0c3c7 button.colab-df-convert');\n",
              "        buttonEl.style.display =\n",
              "          google.colab.kernel.accessAllowed ? 'block' : 'none';\n",
              "\n",
              "        async function convertToInteractive(key) {\n",
              "          const element = document.querySelector('#df-e312ff3d-c6f7-48b6-9a5c-2e7cf7e0c3c7');\n",
              "          const dataTable =\n",
              "            await google.colab.kernel.invokeFunction('convertToInteractive',\n",
              "                                                     [key], {});\n",
              "          if (!dataTable) return;\n",
              "\n",
              "          const docLinkHtml = 'Like what you see? Visit the ' +\n",
              "            '<a target=\"_blank\" href=https://colab.research.google.com/notebooks/data_table.ipynb>data table notebook</a>'\n",
              "            + ' to learn more about interactive tables.';\n",
              "          element.innerHTML = '';\n",
              "          dataTable['output_type'] = 'display_data';\n",
              "          await google.colab.output.renderOutput(dataTable, element);\n",
              "          const docLink = document.createElement('div');\n",
              "          docLink.innerHTML = docLinkHtml;\n",
              "          element.appendChild(docLink);\n",
              "        }\n",
              "      </script>\n",
              "    </div>\n",
              "  </div>\n",
              "  "
            ]
          },
          "metadata": {},
          "execution_count": 17
        }
      ]
    },
    {
      "cell_type": "code",
      "source": [
        "df1['Time'] = pd.to_datetime(df1['Time'], format='%H:%M:%S')"
      ],
      "metadata": {
        "id": "dOpRxO7EXVoU"
      },
      "execution_count": null,
      "outputs": []
    },
    {
      "cell_type": "code",
      "source": [
        "df1['Dates'] = pd.to_datetime(df1['Dates'], format='%Y-%m-%d')\n",
        "df1"
      ],
      "metadata": {
        "colab": {
          "base_uri": "https://localhost:8080/",
          "height": 424
        },
        "id": "mAveVEooYBO3",
        "outputId": "66ed28e0-9038-4571-a5c3-8f06c427b03d"
      },
      "execution_count": null,
      "outputs": [
        {
          "output_type": "execute_result",
          "data": {
            "text/plain": [
              "         user_id  mcc_code  currency_rk  transaction_amt     transaction_dttm  \\\n",
              "0             69      5541           48       -342.89792  2021-03-05 02:52:36   \n",
              "1             69      5533           48      -1251.88120  2021-03-05 09:43:28   \n",
              "2             69      5331           48        -87.30924  2021-03-05 11:17:23   \n",
              "3             69      5921           48      -1822.17700  2021-03-05 13:41:03   \n",
              "4             69      5311           48       -427.12363  2021-03-05 19:14:23   \n",
              "...          ...       ...          ...              ...                  ...   \n",
              "2123995   868949      5411           48       -203.11295  2021-05-11 17:05:09   \n",
              "2123996   868949      4131           48        -63.25255  2021-05-13 11:28:52   \n",
              "2123997   868949      4131           48        -40.04709  2021-05-13 11:38:42   \n",
              "2123998   868949      4131           48       -594.77850  2021-05-13 14:00:44   \n",
              "2123999   868949      5814           48       -127.33617  2021-05-13 14:17:28   \n",
              "\n",
              "         target      Dates                Time  \n",
              "0             0 2021-03-05 1900-01-01 02:52:36  \n",
              "1             0 2021-03-05 1900-01-01 09:43:28  \n",
              "2             0 2021-03-05 1900-01-01 11:17:23  \n",
              "3             0 2021-03-05 1900-01-01 13:41:03  \n",
              "4             0 2021-03-05 1900-01-01 19:14:23  \n",
              "...         ...        ...                 ...  \n",
              "2123995       0 2021-05-11 1900-01-01 17:05:09  \n",
              "2123996       0 2021-05-13 1900-01-01 11:28:52  \n",
              "2123997       0 2021-05-13 1900-01-01 11:38:42  \n",
              "2123998       0 2021-05-13 1900-01-01 14:00:44  \n",
              "2123999       0 2021-05-13 1900-01-01 14:17:28  \n",
              "\n",
              "[2124000 rows x 8 columns]"
            ],
            "text/html": [
              "\n",
              "  <div id=\"df-c5faa30a-a32b-4663-8f4d-0d4ca8f38a9d\">\n",
              "    <div class=\"colab-df-container\">\n",
              "      <div>\n",
              "<style scoped>\n",
              "    .dataframe tbody tr th:only-of-type {\n",
              "        vertical-align: middle;\n",
              "    }\n",
              "\n",
              "    .dataframe tbody tr th {\n",
              "        vertical-align: top;\n",
              "    }\n",
              "\n",
              "    .dataframe thead th {\n",
              "        text-align: right;\n",
              "    }\n",
              "</style>\n",
              "<table border=\"1\" class=\"dataframe\">\n",
              "  <thead>\n",
              "    <tr style=\"text-align: right;\">\n",
              "      <th></th>\n",
              "      <th>user_id</th>\n",
              "      <th>mcc_code</th>\n",
              "      <th>currency_rk</th>\n",
              "      <th>transaction_amt</th>\n",
              "      <th>transaction_dttm</th>\n",
              "      <th>target</th>\n",
              "      <th>Dates</th>\n",
              "      <th>Time</th>\n",
              "    </tr>\n",
              "  </thead>\n",
              "  <tbody>\n",
              "    <tr>\n",
              "      <th>0</th>\n",
              "      <td>69</td>\n",
              "      <td>5541</td>\n",
              "      <td>48</td>\n",
              "      <td>-342.89792</td>\n",
              "      <td>2021-03-05 02:52:36</td>\n",
              "      <td>0</td>\n",
              "      <td>2021-03-05</td>\n",
              "      <td>1900-01-01 02:52:36</td>\n",
              "    </tr>\n",
              "    <tr>\n",
              "      <th>1</th>\n",
              "      <td>69</td>\n",
              "      <td>5533</td>\n",
              "      <td>48</td>\n",
              "      <td>-1251.88120</td>\n",
              "      <td>2021-03-05 09:43:28</td>\n",
              "      <td>0</td>\n",
              "      <td>2021-03-05</td>\n",
              "      <td>1900-01-01 09:43:28</td>\n",
              "    </tr>\n",
              "    <tr>\n",
              "      <th>2</th>\n",
              "      <td>69</td>\n",
              "      <td>5331</td>\n",
              "      <td>48</td>\n",
              "      <td>-87.30924</td>\n",
              "      <td>2021-03-05 11:17:23</td>\n",
              "      <td>0</td>\n",
              "      <td>2021-03-05</td>\n",
              "      <td>1900-01-01 11:17:23</td>\n",
              "    </tr>\n",
              "    <tr>\n",
              "      <th>3</th>\n",
              "      <td>69</td>\n",
              "      <td>5921</td>\n",
              "      <td>48</td>\n",
              "      <td>-1822.17700</td>\n",
              "      <td>2021-03-05 13:41:03</td>\n",
              "      <td>0</td>\n",
              "      <td>2021-03-05</td>\n",
              "      <td>1900-01-01 13:41:03</td>\n",
              "    </tr>\n",
              "    <tr>\n",
              "      <th>4</th>\n",
              "      <td>69</td>\n",
              "      <td>5311</td>\n",
              "      <td>48</td>\n",
              "      <td>-427.12363</td>\n",
              "      <td>2021-03-05 19:14:23</td>\n",
              "      <td>0</td>\n",
              "      <td>2021-03-05</td>\n",
              "      <td>1900-01-01 19:14:23</td>\n",
              "    </tr>\n",
              "    <tr>\n",
              "      <th>...</th>\n",
              "      <td>...</td>\n",
              "      <td>...</td>\n",
              "      <td>...</td>\n",
              "      <td>...</td>\n",
              "      <td>...</td>\n",
              "      <td>...</td>\n",
              "      <td>...</td>\n",
              "      <td>...</td>\n",
              "    </tr>\n",
              "    <tr>\n",
              "      <th>2123995</th>\n",
              "      <td>868949</td>\n",
              "      <td>5411</td>\n",
              "      <td>48</td>\n",
              "      <td>-203.11295</td>\n",
              "      <td>2021-05-11 17:05:09</td>\n",
              "      <td>0</td>\n",
              "      <td>2021-05-11</td>\n",
              "      <td>1900-01-01 17:05:09</td>\n",
              "    </tr>\n",
              "    <tr>\n",
              "      <th>2123996</th>\n",
              "      <td>868949</td>\n",
              "      <td>4131</td>\n",
              "      <td>48</td>\n",
              "      <td>-63.25255</td>\n",
              "      <td>2021-05-13 11:28:52</td>\n",
              "      <td>0</td>\n",
              "      <td>2021-05-13</td>\n",
              "      <td>1900-01-01 11:28:52</td>\n",
              "    </tr>\n",
              "    <tr>\n",
              "      <th>2123997</th>\n",
              "      <td>868949</td>\n",
              "      <td>4131</td>\n",
              "      <td>48</td>\n",
              "      <td>-40.04709</td>\n",
              "      <td>2021-05-13 11:38:42</td>\n",
              "      <td>0</td>\n",
              "      <td>2021-05-13</td>\n",
              "      <td>1900-01-01 11:38:42</td>\n",
              "    </tr>\n",
              "    <tr>\n",
              "      <th>2123998</th>\n",
              "      <td>868949</td>\n",
              "      <td>4131</td>\n",
              "      <td>48</td>\n",
              "      <td>-594.77850</td>\n",
              "      <td>2021-05-13 14:00:44</td>\n",
              "      <td>0</td>\n",
              "      <td>2021-05-13</td>\n",
              "      <td>1900-01-01 14:00:44</td>\n",
              "    </tr>\n",
              "    <tr>\n",
              "      <th>2123999</th>\n",
              "      <td>868949</td>\n",
              "      <td>5814</td>\n",
              "      <td>48</td>\n",
              "      <td>-127.33617</td>\n",
              "      <td>2021-05-13 14:17:28</td>\n",
              "      <td>0</td>\n",
              "      <td>2021-05-13</td>\n",
              "      <td>1900-01-01 14:17:28</td>\n",
              "    </tr>\n",
              "  </tbody>\n",
              "</table>\n",
              "<p>2124000 rows × 8 columns</p>\n",
              "</div>\n",
              "      <button class=\"colab-df-convert\" onclick=\"convertToInteractive('df-c5faa30a-a32b-4663-8f4d-0d4ca8f38a9d')\"\n",
              "              title=\"Convert this dataframe to an interactive table.\"\n",
              "              style=\"display:none;\">\n",
              "        \n",
              "  <svg xmlns=\"http://www.w3.org/2000/svg\" height=\"24px\"viewBox=\"0 0 24 24\"\n",
              "       width=\"24px\">\n",
              "    <path d=\"M0 0h24v24H0V0z\" fill=\"none\"/>\n",
              "    <path d=\"M18.56 5.44l.94 2.06.94-2.06 2.06-.94-2.06-.94-.94-2.06-.94 2.06-2.06.94zm-11 1L8.5 8.5l.94-2.06 2.06-.94-2.06-.94L8.5 2.5l-.94 2.06-2.06.94zm10 10l.94 2.06.94-2.06 2.06-.94-2.06-.94-.94-2.06-.94 2.06-2.06.94z\"/><path d=\"M17.41 7.96l-1.37-1.37c-.4-.4-.92-.59-1.43-.59-.52 0-1.04.2-1.43.59L10.3 9.45l-7.72 7.72c-.78.78-.78 2.05 0 2.83L4 21.41c.39.39.9.59 1.41.59.51 0 1.02-.2 1.41-.59l7.78-7.78 2.81-2.81c.8-.78.8-2.07 0-2.86zM5.41 20L4 18.59l7.72-7.72 1.47 1.35L5.41 20z\"/>\n",
              "  </svg>\n",
              "      </button>\n",
              "      \n",
              "  <style>\n",
              "    .colab-df-container {\n",
              "      display:flex;\n",
              "      flex-wrap:wrap;\n",
              "      gap: 12px;\n",
              "    }\n",
              "\n",
              "    .colab-df-convert {\n",
              "      background-color: #E8F0FE;\n",
              "      border: none;\n",
              "      border-radius: 50%;\n",
              "      cursor: pointer;\n",
              "      display: none;\n",
              "      fill: #1967D2;\n",
              "      height: 32px;\n",
              "      padding: 0 0 0 0;\n",
              "      width: 32px;\n",
              "    }\n",
              "\n",
              "    .colab-df-convert:hover {\n",
              "      background-color: #E2EBFA;\n",
              "      box-shadow: 0px 1px 2px rgba(60, 64, 67, 0.3), 0px 1px 3px 1px rgba(60, 64, 67, 0.15);\n",
              "      fill: #174EA6;\n",
              "    }\n",
              "\n",
              "    [theme=dark] .colab-df-convert {\n",
              "      background-color: #3B4455;\n",
              "      fill: #D2E3FC;\n",
              "    }\n",
              "\n",
              "    [theme=dark] .colab-df-convert:hover {\n",
              "      background-color: #434B5C;\n",
              "      box-shadow: 0px 1px 3px 1px rgba(0, 0, 0, 0.15);\n",
              "      filter: drop-shadow(0px 1px 2px rgba(0, 0, 0, 0.3));\n",
              "      fill: #FFFFFF;\n",
              "    }\n",
              "  </style>\n",
              "\n",
              "      <script>\n",
              "        const buttonEl =\n",
              "          document.querySelector('#df-c5faa30a-a32b-4663-8f4d-0d4ca8f38a9d button.colab-df-convert');\n",
              "        buttonEl.style.display =\n",
              "          google.colab.kernel.accessAllowed ? 'block' : 'none';\n",
              "\n",
              "        async function convertToInteractive(key) {\n",
              "          const element = document.querySelector('#df-c5faa30a-a32b-4663-8f4d-0d4ca8f38a9d');\n",
              "          const dataTable =\n",
              "            await google.colab.kernel.invokeFunction('convertToInteractive',\n",
              "                                                     [key], {});\n",
              "          if (!dataTable) return;\n",
              "\n",
              "          const docLinkHtml = 'Like what you see? Visit the ' +\n",
              "            '<a target=\"_blank\" href=https://colab.research.google.com/notebooks/data_table.ipynb>data table notebook</a>'\n",
              "            + ' to learn more about interactive tables.';\n",
              "          element.innerHTML = '';\n",
              "          dataTable['output_type'] = 'display_data';\n",
              "          await google.colab.output.renderOutput(dataTable, element);\n",
              "          const docLink = document.createElement('div');\n",
              "          docLink.innerHTML = docLinkHtml;\n",
              "          element.appendChild(docLink);\n",
              "        }\n",
              "      </script>\n",
              "    </div>\n",
              "  </div>\n",
              "  "
            ]
          },
          "metadata": {},
          "execution_count": 19
        }
      ]
    },
    {
      "cell_type": "code",
      "source": [
        "df1[\"Time1\"] = 0 \n",
        "df1['Date1'] = 0\n",
        "df1"
      ],
      "metadata": {
        "colab": {
          "base_uri": "https://localhost:8080/",
          "height": 424
        },
        "id": "yPcISV5qcSU7",
        "outputId": "c99d5afb-1121-4257-8c7f-ace45e37707f"
      },
      "execution_count": null,
      "outputs": [
        {
          "output_type": "execute_result",
          "data": {
            "text/plain": [
              "         user_id  mcc_code  currency_rk  transaction_amt     transaction_dttm  \\\n",
              "0             69      5541           48       -342.89792  2021-03-05 02:52:36   \n",
              "1             69      5533           48      -1251.88120  2021-03-05 09:43:28   \n",
              "2             69      5331           48        -87.30924  2021-03-05 11:17:23   \n",
              "3             69      5921           48      -1822.17700  2021-03-05 13:41:03   \n",
              "4             69      5311           48       -427.12363  2021-03-05 19:14:23   \n",
              "...          ...       ...          ...              ...                  ...   \n",
              "2123995   868949      5411           48       -203.11295  2021-05-11 17:05:09   \n",
              "2123996   868949      4131           48        -63.25255  2021-05-13 11:28:52   \n",
              "2123997   868949      4131           48        -40.04709  2021-05-13 11:38:42   \n",
              "2123998   868949      4131           48       -594.77850  2021-05-13 14:00:44   \n",
              "2123999   868949      5814           48       -127.33617  2021-05-13 14:17:28   \n",
              "\n",
              "         target      Dates                Time  Time1  Date1  \n",
              "0             0 2021-03-05 1900-01-01 02:52:36      0      0  \n",
              "1             0 2021-03-05 1900-01-01 09:43:28      0      0  \n",
              "2             0 2021-03-05 1900-01-01 11:17:23      0      0  \n",
              "3             0 2021-03-05 1900-01-01 13:41:03      0      0  \n",
              "4             0 2021-03-05 1900-01-01 19:14:23      0      0  \n",
              "...         ...        ...                 ...    ...    ...  \n",
              "2123995       0 2021-05-11 1900-01-01 17:05:09      0      0  \n",
              "2123996       0 2021-05-13 1900-01-01 11:28:52      0      0  \n",
              "2123997       0 2021-05-13 1900-01-01 11:38:42      0      0  \n",
              "2123998       0 2021-05-13 1900-01-01 14:00:44      0      0  \n",
              "2123999       0 2021-05-13 1900-01-01 14:17:28      0      0  \n",
              "\n",
              "[2124000 rows x 10 columns]"
            ],
            "text/html": [
              "\n",
              "  <div id=\"df-6f77240e-2eb8-48fa-9cb9-0145e222882b\">\n",
              "    <div class=\"colab-df-container\">\n",
              "      <div>\n",
              "<style scoped>\n",
              "    .dataframe tbody tr th:only-of-type {\n",
              "        vertical-align: middle;\n",
              "    }\n",
              "\n",
              "    .dataframe tbody tr th {\n",
              "        vertical-align: top;\n",
              "    }\n",
              "\n",
              "    .dataframe thead th {\n",
              "        text-align: right;\n",
              "    }\n",
              "</style>\n",
              "<table border=\"1\" class=\"dataframe\">\n",
              "  <thead>\n",
              "    <tr style=\"text-align: right;\">\n",
              "      <th></th>\n",
              "      <th>user_id</th>\n",
              "      <th>mcc_code</th>\n",
              "      <th>currency_rk</th>\n",
              "      <th>transaction_amt</th>\n",
              "      <th>transaction_dttm</th>\n",
              "      <th>target</th>\n",
              "      <th>Dates</th>\n",
              "      <th>Time</th>\n",
              "      <th>Time1</th>\n",
              "      <th>Date1</th>\n",
              "    </tr>\n",
              "  </thead>\n",
              "  <tbody>\n",
              "    <tr>\n",
              "      <th>0</th>\n",
              "      <td>69</td>\n",
              "      <td>5541</td>\n",
              "      <td>48</td>\n",
              "      <td>-342.89792</td>\n",
              "      <td>2021-03-05 02:52:36</td>\n",
              "      <td>0</td>\n",
              "      <td>2021-03-05</td>\n",
              "      <td>1900-01-01 02:52:36</td>\n",
              "      <td>0</td>\n",
              "      <td>0</td>\n",
              "    </tr>\n",
              "    <tr>\n",
              "      <th>1</th>\n",
              "      <td>69</td>\n",
              "      <td>5533</td>\n",
              "      <td>48</td>\n",
              "      <td>-1251.88120</td>\n",
              "      <td>2021-03-05 09:43:28</td>\n",
              "      <td>0</td>\n",
              "      <td>2021-03-05</td>\n",
              "      <td>1900-01-01 09:43:28</td>\n",
              "      <td>0</td>\n",
              "      <td>0</td>\n",
              "    </tr>\n",
              "    <tr>\n",
              "      <th>2</th>\n",
              "      <td>69</td>\n",
              "      <td>5331</td>\n",
              "      <td>48</td>\n",
              "      <td>-87.30924</td>\n",
              "      <td>2021-03-05 11:17:23</td>\n",
              "      <td>0</td>\n",
              "      <td>2021-03-05</td>\n",
              "      <td>1900-01-01 11:17:23</td>\n",
              "      <td>0</td>\n",
              "      <td>0</td>\n",
              "    </tr>\n",
              "    <tr>\n",
              "      <th>3</th>\n",
              "      <td>69</td>\n",
              "      <td>5921</td>\n",
              "      <td>48</td>\n",
              "      <td>-1822.17700</td>\n",
              "      <td>2021-03-05 13:41:03</td>\n",
              "      <td>0</td>\n",
              "      <td>2021-03-05</td>\n",
              "      <td>1900-01-01 13:41:03</td>\n",
              "      <td>0</td>\n",
              "      <td>0</td>\n",
              "    </tr>\n",
              "    <tr>\n",
              "      <th>4</th>\n",
              "      <td>69</td>\n",
              "      <td>5311</td>\n",
              "      <td>48</td>\n",
              "      <td>-427.12363</td>\n",
              "      <td>2021-03-05 19:14:23</td>\n",
              "      <td>0</td>\n",
              "      <td>2021-03-05</td>\n",
              "      <td>1900-01-01 19:14:23</td>\n",
              "      <td>0</td>\n",
              "      <td>0</td>\n",
              "    </tr>\n",
              "    <tr>\n",
              "      <th>...</th>\n",
              "      <td>...</td>\n",
              "      <td>...</td>\n",
              "      <td>...</td>\n",
              "      <td>...</td>\n",
              "      <td>...</td>\n",
              "      <td>...</td>\n",
              "      <td>...</td>\n",
              "      <td>...</td>\n",
              "      <td>...</td>\n",
              "      <td>...</td>\n",
              "    </tr>\n",
              "    <tr>\n",
              "      <th>2123995</th>\n",
              "      <td>868949</td>\n",
              "      <td>5411</td>\n",
              "      <td>48</td>\n",
              "      <td>-203.11295</td>\n",
              "      <td>2021-05-11 17:05:09</td>\n",
              "      <td>0</td>\n",
              "      <td>2021-05-11</td>\n",
              "      <td>1900-01-01 17:05:09</td>\n",
              "      <td>0</td>\n",
              "      <td>0</td>\n",
              "    </tr>\n",
              "    <tr>\n",
              "      <th>2123996</th>\n",
              "      <td>868949</td>\n",
              "      <td>4131</td>\n",
              "      <td>48</td>\n",
              "      <td>-63.25255</td>\n",
              "      <td>2021-05-13 11:28:52</td>\n",
              "      <td>0</td>\n",
              "      <td>2021-05-13</td>\n",
              "      <td>1900-01-01 11:28:52</td>\n",
              "      <td>0</td>\n",
              "      <td>0</td>\n",
              "    </tr>\n",
              "    <tr>\n",
              "      <th>2123997</th>\n",
              "      <td>868949</td>\n",
              "      <td>4131</td>\n",
              "      <td>48</td>\n",
              "      <td>-40.04709</td>\n",
              "      <td>2021-05-13 11:38:42</td>\n",
              "      <td>0</td>\n",
              "      <td>2021-05-13</td>\n",
              "      <td>1900-01-01 11:38:42</td>\n",
              "      <td>0</td>\n",
              "      <td>0</td>\n",
              "    </tr>\n",
              "    <tr>\n",
              "      <th>2123998</th>\n",
              "      <td>868949</td>\n",
              "      <td>4131</td>\n",
              "      <td>48</td>\n",
              "      <td>-594.77850</td>\n",
              "      <td>2021-05-13 14:00:44</td>\n",
              "      <td>0</td>\n",
              "      <td>2021-05-13</td>\n",
              "      <td>1900-01-01 14:00:44</td>\n",
              "      <td>0</td>\n",
              "      <td>0</td>\n",
              "    </tr>\n",
              "    <tr>\n",
              "      <th>2123999</th>\n",
              "      <td>868949</td>\n",
              "      <td>5814</td>\n",
              "      <td>48</td>\n",
              "      <td>-127.33617</td>\n",
              "      <td>2021-05-13 14:17:28</td>\n",
              "      <td>0</td>\n",
              "      <td>2021-05-13</td>\n",
              "      <td>1900-01-01 14:17:28</td>\n",
              "      <td>0</td>\n",
              "      <td>0</td>\n",
              "    </tr>\n",
              "  </tbody>\n",
              "</table>\n",
              "<p>2124000 rows × 10 columns</p>\n",
              "</div>\n",
              "      <button class=\"colab-df-convert\" onclick=\"convertToInteractive('df-6f77240e-2eb8-48fa-9cb9-0145e222882b')\"\n",
              "              title=\"Convert this dataframe to an interactive table.\"\n",
              "              style=\"display:none;\">\n",
              "        \n",
              "  <svg xmlns=\"http://www.w3.org/2000/svg\" height=\"24px\"viewBox=\"0 0 24 24\"\n",
              "       width=\"24px\">\n",
              "    <path d=\"M0 0h24v24H0V0z\" fill=\"none\"/>\n",
              "    <path d=\"M18.56 5.44l.94 2.06.94-2.06 2.06-.94-2.06-.94-.94-2.06-.94 2.06-2.06.94zm-11 1L8.5 8.5l.94-2.06 2.06-.94-2.06-.94L8.5 2.5l-.94 2.06-2.06.94zm10 10l.94 2.06.94-2.06 2.06-.94-2.06-.94-.94-2.06-.94 2.06-2.06.94z\"/><path d=\"M17.41 7.96l-1.37-1.37c-.4-.4-.92-.59-1.43-.59-.52 0-1.04.2-1.43.59L10.3 9.45l-7.72 7.72c-.78.78-.78 2.05 0 2.83L4 21.41c.39.39.9.59 1.41.59.51 0 1.02-.2 1.41-.59l7.78-7.78 2.81-2.81c.8-.78.8-2.07 0-2.86zM5.41 20L4 18.59l7.72-7.72 1.47 1.35L5.41 20z\"/>\n",
              "  </svg>\n",
              "      </button>\n",
              "      \n",
              "  <style>\n",
              "    .colab-df-container {\n",
              "      display:flex;\n",
              "      flex-wrap:wrap;\n",
              "      gap: 12px;\n",
              "    }\n",
              "\n",
              "    .colab-df-convert {\n",
              "      background-color: #E8F0FE;\n",
              "      border: none;\n",
              "      border-radius: 50%;\n",
              "      cursor: pointer;\n",
              "      display: none;\n",
              "      fill: #1967D2;\n",
              "      height: 32px;\n",
              "      padding: 0 0 0 0;\n",
              "      width: 32px;\n",
              "    }\n",
              "\n",
              "    .colab-df-convert:hover {\n",
              "      background-color: #E2EBFA;\n",
              "      box-shadow: 0px 1px 2px rgba(60, 64, 67, 0.3), 0px 1px 3px 1px rgba(60, 64, 67, 0.15);\n",
              "      fill: #174EA6;\n",
              "    }\n",
              "\n",
              "    [theme=dark] .colab-df-convert {\n",
              "      background-color: #3B4455;\n",
              "      fill: #D2E3FC;\n",
              "    }\n",
              "\n",
              "    [theme=dark] .colab-df-convert:hover {\n",
              "      background-color: #434B5C;\n",
              "      box-shadow: 0px 1px 3px 1px rgba(0, 0, 0, 0.15);\n",
              "      filter: drop-shadow(0px 1px 2px rgba(0, 0, 0, 0.3));\n",
              "      fill: #FFFFFF;\n",
              "    }\n",
              "  </style>\n",
              "\n",
              "      <script>\n",
              "        const buttonEl =\n",
              "          document.querySelector('#df-6f77240e-2eb8-48fa-9cb9-0145e222882b button.colab-df-convert');\n",
              "        buttonEl.style.display =\n",
              "          google.colab.kernel.accessAllowed ? 'block' : 'none';\n",
              "\n",
              "        async function convertToInteractive(key) {\n",
              "          const element = document.querySelector('#df-6f77240e-2eb8-48fa-9cb9-0145e222882b');\n",
              "          const dataTable =\n",
              "            await google.colab.kernel.invokeFunction('convertToInteractive',\n",
              "                                                     [key], {});\n",
              "          if (!dataTable) return;\n",
              "\n",
              "          const docLinkHtml = 'Like what you see? Visit the ' +\n",
              "            '<a target=\"_blank\" href=https://colab.research.google.com/notebooks/data_table.ipynb>data table notebook</a>'\n",
              "            + ' to learn more about interactive tables.';\n",
              "          element.innerHTML = '';\n",
              "          dataTable['output_type'] = 'display_data';\n",
              "          await google.colab.output.renderOutput(dataTable, element);\n",
              "          const docLink = document.createElement('div');\n",
              "          docLink.innerHTML = docLinkHtml;\n",
              "          element.appendChild(docLink);\n",
              "        }\n",
              "      </script>\n",
              "    </div>\n",
              "  </div>\n",
              "  "
            ]
          },
          "metadata": {},
          "execution_count": 20
        }
      ]
    },
    {
      "cell_type": "code",
      "source": [
        "df1['Time1'].mask((df1[\"Time\"] >= '1900-01-01 00:00:00') & (df1[\"Time\"] < '1900-01-01 06:00:00'), 0, inplace=True)\n",
        "df1['Time1'].mask((df1[\"Time\"] >= '1900-01-01 06:00:00') & (df1[\"Time\"] < '1900-01-01 12:00:00'), 1, inplace=True)\n",
        "df1['Time1'].mask((df1[\"Time\"] >= '1900-01-01 12:00:00') & (df1[\"Time\"] < '1900-01-01 18:00:00'), 2, inplace=True)\n",
        "df1['Time1'].mask((df1[\"Time\"] >= '1900-01-01 18:00:00'), 3, inplace=True)\n",
        "df1"
      ],
      "metadata": {
        "colab": {
          "base_uri": "https://localhost:8080/",
          "height": 424
        },
        "id": "sHerdGMgWOJU",
        "outputId": "139150f2-f033-44d3-f7f4-0d42d991efb6"
      },
      "execution_count": null,
      "outputs": [
        {
          "output_type": "execute_result",
          "data": {
            "text/plain": [
              "         user_id  mcc_code  currency_rk  transaction_amt     transaction_dttm  \\\n",
              "0             69      5541           48       -342.89792  2021-03-05 02:52:36   \n",
              "1             69      5533           48      -1251.88120  2021-03-05 09:43:28   \n",
              "2             69      5331           48        -87.30924  2021-03-05 11:17:23   \n",
              "3             69      5921           48      -1822.17700  2021-03-05 13:41:03   \n",
              "4             69      5311           48       -427.12363  2021-03-05 19:14:23   \n",
              "...          ...       ...          ...              ...                  ...   \n",
              "2123995   868949      5411           48       -203.11295  2021-05-11 17:05:09   \n",
              "2123996   868949      4131           48        -63.25255  2021-05-13 11:28:52   \n",
              "2123997   868949      4131           48        -40.04709  2021-05-13 11:38:42   \n",
              "2123998   868949      4131           48       -594.77850  2021-05-13 14:00:44   \n",
              "2123999   868949      5814           48       -127.33617  2021-05-13 14:17:28   \n",
              "\n",
              "         target      Dates                Time  Time1  Date1  \n",
              "0             0 2021-03-05 1900-01-01 02:52:36      0      0  \n",
              "1             0 2021-03-05 1900-01-01 09:43:28      1      0  \n",
              "2             0 2021-03-05 1900-01-01 11:17:23      1      0  \n",
              "3             0 2021-03-05 1900-01-01 13:41:03      2      0  \n",
              "4             0 2021-03-05 1900-01-01 19:14:23      3      0  \n",
              "...         ...        ...                 ...    ...    ...  \n",
              "2123995       0 2021-05-11 1900-01-01 17:05:09      2      0  \n",
              "2123996       0 2021-05-13 1900-01-01 11:28:52      1      0  \n",
              "2123997       0 2021-05-13 1900-01-01 11:38:42      1      0  \n",
              "2123998       0 2021-05-13 1900-01-01 14:00:44      2      0  \n",
              "2123999       0 2021-05-13 1900-01-01 14:17:28      2      0  \n",
              "\n",
              "[2124000 rows x 10 columns]"
            ],
            "text/html": [
              "\n",
              "  <div id=\"df-21f30214-dcce-401a-a4b9-5b5e24fa8d73\">\n",
              "    <div class=\"colab-df-container\">\n",
              "      <div>\n",
              "<style scoped>\n",
              "    .dataframe tbody tr th:only-of-type {\n",
              "        vertical-align: middle;\n",
              "    }\n",
              "\n",
              "    .dataframe tbody tr th {\n",
              "        vertical-align: top;\n",
              "    }\n",
              "\n",
              "    .dataframe thead th {\n",
              "        text-align: right;\n",
              "    }\n",
              "</style>\n",
              "<table border=\"1\" class=\"dataframe\">\n",
              "  <thead>\n",
              "    <tr style=\"text-align: right;\">\n",
              "      <th></th>\n",
              "      <th>user_id</th>\n",
              "      <th>mcc_code</th>\n",
              "      <th>currency_rk</th>\n",
              "      <th>transaction_amt</th>\n",
              "      <th>transaction_dttm</th>\n",
              "      <th>target</th>\n",
              "      <th>Dates</th>\n",
              "      <th>Time</th>\n",
              "      <th>Time1</th>\n",
              "      <th>Date1</th>\n",
              "    </tr>\n",
              "  </thead>\n",
              "  <tbody>\n",
              "    <tr>\n",
              "      <th>0</th>\n",
              "      <td>69</td>\n",
              "      <td>5541</td>\n",
              "      <td>48</td>\n",
              "      <td>-342.89792</td>\n",
              "      <td>2021-03-05 02:52:36</td>\n",
              "      <td>0</td>\n",
              "      <td>2021-03-05</td>\n",
              "      <td>1900-01-01 02:52:36</td>\n",
              "      <td>0</td>\n",
              "      <td>0</td>\n",
              "    </tr>\n",
              "    <tr>\n",
              "      <th>1</th>\n",
              "      <td>69</td>\n",
              "      <td>5533</td>\n",
              "      <td>48</td>\n",
              "      <td>-1251.88120</td>\n",
              "      <td>2021-03-05 09:43:28</td>\n",
              "      <td>0</td>\n",
              "      <td>2021-03-05</td>\n",
              "      <td>1900-01-01 09:43:28</td>\n",
              "      <td>1</td>\n",
              "      <td>0</td>\n",
              "    </tr>\n",
              "    <tr>\n",
              "      <th>2</th>\n",
              "      <td>69</td>\n",
              "      <td>5331</td>\n",
              "      <td>48</td>\n",
              "      <td>-87.30924</td>\n",
              "      <td>2021-03-05 11:17:23</td>\n",
              "      <td>0</td>\n",
              "      <td>2021-03-05</td>\n",
              "      <td>1900-01-01 11:17:23</td>\n",
              "      <td>1</td>\n",
              "      <td>0</td>\n",
              "    </tr>\n",
              "    <tr>\n",
              "      <th>3</th>\n",
              "      <td>69</td>\n",
              "      <td>5921</td>\n",
              "      <td>48</td>\n",
              "      <td>-1822.17700</td>\n",
              "      <td>2021-03-05 13:41:03</td>\n",
              "      <td>0</td>\n",
              "      <td>2021-03-05</td>\n",
              "      <td>1900-01-01 13:41:03</td>\n",
              "      <td>2</td>\n",
              "      <td>0</td>\n",
              "    </tr>\n",
              "    <tr>\n",
              "      <th>4</th>\n",
              "      <td>69</td>\n",
              "      <td>5311</td>\n",
              "      <td>48</td>\n",
              "      <td>-427.12363</td>\n",
              "      <td>2021-03-05 19:14:23</td>\n",
              "      <td>0</td>\n",
              "      <td>2021-03-05</td>\n",
              "      <td>1900-01-01 19:14:23</td>\n",
              "      <td>3</td>\n",
              "      <td>0</td>\n",
              "    </tr>\n",
              "    <tr>\n",
              "      <th>...</th>\n",
              "      <td>...</td>\n",
              "      <td>...</td>\n",
              "      <td>...</td>\n",
              "      <td>...</td>\n",
              "      <td>...</td>\n",
              "      <td>...</td>\n",
              "      <td>...</td>\n",
              "      <td>...</td>\n",
              "      <td>...</td>\n",
              "      <td>...</td>\n",
              "    </tr>\n",
              "    <tr>\n",
              "      <th>2123995</th>\n",
              "      <td>868949</td>\n",
              "      <td>5411</td>\n",
              "      <td>48</td>\n",
              "      <td>-203.11295</td>\n",
              "      <td>2021-05-11 17:05:09</td>\n",
              "      <td>0</td>\n",
              "      <td>2021-05-11</td>\n",
              "      <td>1900-01-01 17:05:09</td>\n",
              "      <td>2</td>\n",
              "      <td>0</td>\n",
              "    </tr>\n",
              "    <tr>\n",
              "      <th>2123996</th>\n",
              "      <td>868949</td>\n",
              "      <td>4131</td>\n",
              "      <td>48</td>\n",
              "      <td>-63.25255</td>\n",
              "      <td>2021-05-13 11:28:52</td>\n",
              "      <td>0</td>\n",
              "      <td>2021-05-13</td>\n",
              "      <td>1900-01-01 11:28:52</td>\n",
              "      <td>1</td>\n",
              "      <td>0</td>\n",
              "    </tr>\n",
              "    <tr>\n",
              "      <th>2123997</th>\n",
              "      <td>868949</td>\n",
              "      <td>4131</td>\n",
              "      <td>48</td>\n",
              "      <td>-40.04709</td>\n",
              "      <td>2021-05-13 11:38:42</td>\n",
              "      <td>0</td>\n",
              "      <td>2021-05-13</td>\n",
              "      <td>1900-01-01 11:38:42</td>\n",
              "      <td>1</td>\n",
              "      <td>0</td>\n",
              "    </tr>\n",
              "    <tr>\n",
              "      <th>2123998</th>\n",
              "      <td>868949</td>\n",
              "      <td>4131</td>\n",
              "      <td>48</td>\n",
              "      <td>-594.77850</td>\n",
              "      <td>2021-05-13 14:00:44</td>\n",
              "      <td>0</td>\n",
              "      <td>2021-05-13</td>\n",
              "      <td>1900-01-01 14:00:44</td>\n",
              "      <td>2</td>\n",
              "      <td>0</td>\n",
              "    </tr>\n",
              "    <tr>\n",
              "      <th>2123999</th>\n",
              "      <td>868949</td>\n",
              "      <td>5814</td>\n",
              "      <td>48</td>\n",
              "      <td>-127.33617</td>\n",
              "      <td>2021-05-13 14:17:28</td>\n",
              "      <td>0</td>\n",
              "      <td>2021-05-13</td>\n",
              "      <td>1900-01-01 14:17:28</td>\n",
              "      <td>2</td>\n",
              "      <td>0</td>\n",
              "    </tr>\n",
              "  </tbody>\n",
              "</table>\n",
              "<p>2124000 rows × 10 columns</p>\n",
              "</div>\n",
              "      <button class=\"colab-df-convert\" onclick=\"convertToInteractive('df-21f30214-dcce-401a-a4b9-5b5e24fa8d73')\"\n",
              "              title=\"Convert this dataframe to an interactive table.\"\n",
              "              style=\"display:none;\">\n",
              "        \n",
              "  <svg xmlns=\"http://www.w3.org/2000/svg\" height=\"24px\"viewBox=\"0 0 24 24\"\n",
              "       width=\"24px\">\n",
              "    <path d=\"M0 0h24v24H0V0z\" fill=\"none\"/>\n",
              "    <path d=\"M18.56 5.44l.94 2.06.94-2.06 2.06-.94-2.06-.94-.94-2.06-.94 2.06-2.06.94zm-11 1L8.5 8.5l.94-2.06 2.06-.94-2.06-.94L8.5 2.5l-.94 2.06-2.06.94zm10 10l.94 2.06.94-2.06 2.06-.94-2.06-.94-.94-2.06-.94 2.06-2.06.94z\"/><path d=\"M17.41 7.96l-1.37-1.37c-.4-.4-.92-.59-1.43-.59-.52 0-1.04.2-1.43.59L10.3 9.45l-7.72 7.72c-.78.78-.78 2.05 0 2.83L4 21.41c.39.39.9.59 1.41.59.51 0 1.02-.2 1.41-.59l7.78-7.78 2.81-2.81c.8-.78.8-2.07 0-2.86zM5.41 20L4 18.59l7.72-7.72 1.47 1.35L5.41 20z\"/>\n",
              "  </svg>\n",
              "      </button>\n",
              "      \n",
              "  <style>\n",
              "    .colab-df-container {\n",
              "      display:flex;\n",
              "      flex-wrap:wrap;\n",
              "      gap: 12px;\n",
              "    }\n",
              "\n",
              "    .colab-df-convert {\n",
              "      background-color: #E8F0FE;\n",
              "      border: none;\n",
              "      border-radius: 50%;\n",
              "      cursor: pointer;\n",
              "      display: none;\n",
              "      fill: #1967D2;\n",
              "      height: 32px;\n",
              "      padding: 0 0 0 0;\n",
              "      width: 32px;\n",
              "    }\n",
              "\n",
              "    .colab-df-convert:hover {\n",
              "      background-color: #E2EBFA;\n",
              "      box-shadow: 0px 1px 2px rgba(60, 64, 67, 0.3), 0px 1px 3px 1px rgba(60, 64, 67, 0.15);\n",
              "      fill: #174EA6;\n",
              "    }\n",
              "\n",
              "    [theme=dark] .colab-df-convert {\n",
              "      background-color: #3B4455;\n",
              "      fill: #D2E3FC;\n",
              "    }\n",
              "\n",
              "    [theme=dark] .colab-df-convert:hover {\n",
              "      background-color: #434B5C;\n",
              "      box-shadow: 0px 1px 3px 1px rgba(0, 0, 0, 0.15);\n",
              "      filter: drop-shadow(0px 1px 2px rgba(0, 0, 0, 0.3));\n",
              "      fill: #FFFFFF;\n",
              "    }\n",
              "  </style>\n",
              "\n",
              "      <script>\n",
              "        const buttonEl =\n",
              "          document.querySelector('#df-21f30214-dcce-401a-a4b9-5b5e24fa8d73 button.colab-df-convert');\n",
              "        buttonEl.style.display =\n",
              "          google.colab.kernel.accessAllowed ? 'block' : 'none';\n",
              "\n",
              "        async function convertToInteractive(key) {\n",
              "          const element = document.querySelector('#df-21f30214-dcce-401a-a4b9-5b5e24fa8d73');\n",
              "          const dataTable =\n",
              "            await google.colab.kernel.invokeFunction('convertToInteractive',\n",
              "                                                     [key], {});\n",
              "          if (!dataTable) return;\n",
              "\n",
              "          const docLinkHtml = 'Like what you see? Visit the ' +\n",
              "            '<a target=\"_blank\" href=https://colab.research.google.com/notebooks/data_table.ipynb>data table notebook</a>'\n",
              "            + ' to learn more about interactive tables.';\n",
              "          element.innerHTML = '';\n",
              "          dataTable['output_type'] = 'display_data';\n",
              "          await google.colab.output.renderOutput(dataTable, element);\n",
              "          const docLink = document.createElement('div');\n",
              "          docLink.innerHTML = docLinkHtml;\n",
              "          element.appendChild(docLink);\n",
              "        }\n",
              "      </script>\n",
              "    </div>\n",
              "  </div>\n",
              "  "
            ]
          },
          "metadata": {},
          "execution_count": 21
        }
      ]
    },
    {
      "cell_type": "code",
      "source": [
        "df1['Date1'].mask((df1[\"Dates\"] >= '2021-01-01') & (df1[\"Dates\"] < '2021-03-01'), 0, inplace=True)\n",
        "df1['Date1'].mask((df1[\"Dates\"] >= '2021-03-01') & (df1[\"Dates\"] < '2021-06-01'), 1, inplace=True)\n",
        "df1['Date1'].mask((df1[\"Dates\"] >= '2021-06-01') & (df1[\"Dates\"] < '2021-09-01'), 2, inplace=True)\n",
        "df1['Date1'].mask((df1[\"Dates\"] >= '2021-09-01') & (df1[\"Dates\"] < '2021-12-01'), 3, inplace=True)\n",
        "df1['Date1'].mask((df1[\"Dates\"] >= '2021-12-01'), 0, inplace=True)"
      ],
      "metadata": {
        "id": "j394T0NfPhUO"
      },
      "execution_count": null,
      "outputs": []
    },
    {
      "cell_type": "code",
      "source": [
        "df1['Date1'].value_counts()"
      ],
      "metadata": {
        "colab": {
          "base_uri": "https://localhost:8080/"
        },
        "id": "XR7rPUjtVtnQ",
        "outputId": "0a1ece7a-9d8b-4147-f216-d226acfaa471"
      },
      "execution_count": null,
      "outputs": [
        {
          "output_type": "execute_result",
          "data": {
            "text/plain": [
              "0    1037989\n",
              "1     737510\n",
              "2     348501\n",
              "Name: Date1, dtype: int64"
            ]
          },
          "metadata": {},
          "execution_count": 23
        }
      ]
    },
    {
      "cell_type": "markdown",
      "source": [
        "48 Рубли 50 Доллары 60 Евро"
      ],
      "metadata": {
        "id": "hETRyQI-QoJW"
      }
    },
    {
      "cell_type": "code",
      "source": [
        "df1[\"currency_rk\"].mask((df1[\"currency_rk\"] == 48), 0, inplace=True)\n",
        "df1[\"currency_rk\"].mask((df1[\"currency_rk\"] == 50), 1, inplace=True)\n",
        "df1[\"currency_rk\"].mask((df1[\"currency_rk\"] == 60), 2, inplace=True)\n",
        "df1"
      ],
      "metadata": {
        "colab": {
          "base_uri": "https://localhost:8080/",
          "height": 424
        },
        "id": "yBvFRqv0Nraf",
        "outputId": "d04ebe67-1c4c-41b9-fef0-0b6c15c23747"
      },
      "execution_count": null,
      "outputs": [
        {
          "output_type": "execute_result",
          "data": {
            "text/plain": [
              "         user_id  mcc_code  currency_rk  transaction_amt     transaction_dttm  \\\n",
              "0             69      5541            0       -342.89792  2021-03-05 02:52:36   \n",
              "1             69      5533            0      -1251.88120  2021-03-05 09:43:28   \n",
              "2             69      5331            0        -87.30924  2021-03-05 11:17:23   \n",
              "3             69      5921            0      -1822.17700  2021-03-05 13:41:03   \n",
              "4             69      5311            0       -427.12363  2021-03-05 19:14:23   \n",
              "...          ...       ...          ...              ...                  ...   \n",
              "2123995   868949      5411            0       -203.11295  2021-05-11 17:05:09   \n",
              "2123996   868949      4131            0        -63.25255  2021-05-13 11:28:52   \n",
              "2123997   868949      4131            0        -40.04709  2021-05-13 11:38:42   \n",
              "2123998   868949      4131            0       -594.77850  2021-05-13 14:00:44   \n",
              "2123999   868949      5814            0       -127.33617  2021-05-13 14:17:28   \n",
              "\n",
              "         target      Dates                Time  Time1  Date1  \n",
              "0             0 2021-03-05 1900-01-01 02:52:36      0      1  \n",
              "1             0 2021-03-05 1900-01-01 09:43:28      1      1  \n",
              "2             0 2021-03-05 1900-01-01 11:17:23      1      1  \n",
              "3             0 2021-03-05 1900-01-01 13:41:03      2      1  \n",
              "4             0 2021-03-05 1900-01-01 19:14:23      3      1  \n",
              "...         ...        ...                 ...    ...    ...  \n",
              "2123995       0 2021-05-11 1900-01-01 17:05:09      2      1  \n",
              "2123996       0 2021-05-13 1900-01-01 11:28:52      1      1  \n",
              "2123997       0 2021-05-13 1900-01-01 11:38:42      1      1  \n",
              "2123998       0 2021-05-13 1900-01-01 14:00:44      2      1  \n",
              "2123999       0 2021-05-13 1900-01-01 14:17:28      2      1  \n",
              "\n",
              "[2124000 rows x 10 columns]"
            ],
            "text/html": [
              "\n",
              "  <div id=\"df-bafb3f2f-b715-406d-9530-bd1e689da2b1\">\n",
              "    <div class=\"colab-df-container\">\n",
              "      <div>\n",
              "<style scoped>\n",
              "    .dataframe tbody tr th:only-of-type {\n",
              "        vertical-align: middle;\n",
              "    }\n",
              "\n",
              "    .dataframe tbody tr th {\n",
              "        vertical-align: top;\n",
              "    }\n",
              "\n",
              "    .dataframe thead th {\n",
              "        text-align: right;\n",
              "    }\n",
              "</style>\n",
              "<table border=\"1\" class=\"dataframe\">\n",
              "  <thead>\n",
              "    <tr style=\"text-align: right;\">\n",
              "      <th></th>\n",
              "      <th>user_id</th>\n",
              "      <th>mcc_code</th>\n",
              "      <th>currency_rk</th>\n",
              "      <th>transaction_amt</th>\n",
              "      <th>transaction_dttm</th>\n",
              "      <th>target</th>\n",
              "      <th>Dates</th>\n",
              "      <th>Time</th>\n",
              "      <th>Time1</th>\n",
              "      <th>Date1</th>\n",
              "    </tr>\n",
              "  </thead>\n",
              "  <tbody>\n",
              "    <tr>\n",
              "      <th>0</th>\n",
              "      <td>69</td>\n",
              "      <td>5541</td>\n",
              "      <td>0</td>\n",
              "      <td>-342.89792</td>\n",
              "      <td>2021-03-05 02:52:36</td>\n",
              "      <td>0</td>\n",
              "      <td>2021-03-05</td>\n",
              "      <td>1900-01-01 02:52:36</td>\n",
              "      <td>0</td>\n",
              "      <td>1</td>\n",
              "    </tr>\n",
              "    <tr>\n",
              "      <th>1</th>\n",
              "      <td>69</td>\n",
              "      <td>5533</td>\n",
              "      <td>0</td>\n",
              "      <td>-1251.88120</td>\n",
              "      <td>2021-03-05 09:43:28</td>\n",
              "      <td>0</td>\n",
              "      <td>2021-03-05</td>\n",
              "      <td>1900-01-01 09:43:28</td>\n",
              "      <td>1</td>\n",
              "      <td>1</td>\n",
              "    </tr>\n",
              "    <tr>\n",
              "      <th>2</th>\n",
              "      <td>69</td>\n",
              "      <td>5331</td>\n",
              "      <td>0</td>\n",
              "      <td>-87.30924</td>\n",
              "      <td>2021-03-05 11:17:23</td>\n",
              "      <td>0</td>\n",
              "      <td>2021-03-05</td>\n",
              "      <td>1900-01-01 11:17:23</td>\n",
              "      <td>1</td>\n",
              "      <td>1</td>\n",
              "    </tr>\n",
              "    <tr>\n",
              "      <th>3</th>\n",
              "      <td>69</td>\n",
              "      <td>5921</td>\n",
              "      <td>0</td>\n",
              "      <td>-1822.17700</td>\n",
              "      <td>2021-03-05 13:41:03</td>\n",
              "      <td>0</td>\n",
              "      <td>2021-03-05</td>\n",
              "      <td>1900-01-01 13:41:03</td>\n",
              "      <td>2</td>\n",
              "      <td>1</td>\n",
              "    </tr>\n",
              "    <tr>\n",
              "      <th>4</th>\n",
              "      <td>69</td>\n",
              "      <td>5311</td>\n",
              "      <td>0</td>\n",
              "      <td>-427.12363</td>\n",
              "      <td>2021-03-05 19:14:23</td>\n",
              "      <td>0</td>\n",
              "      <td>2021-03-05</td>\n",
              "      <td>1900-01-01 19:14:23</td>\n",
              "      <td>3</td>\n",
              "      <td>1</td>\n",
              "    </tr>\n",
              "    <tr>\n",
              "      <th>...</th>\n",
              "      <td>...</td>\n",
              "      <td>...</td>\n",
              "      <td>...</td>\n",
              "      <td>...</td>\n",
              "      <td>...</td>\n",
              "      <td>...</td>\n",
              "      <td>...</td>\n",
              "      <td>...</td>\n",
              "      <td>...</td>\n",
              "      <td>...</td>\n",
              "    </tr>\n",
              "    <tr>\n",
              "      <th>2123995</th>\n",
              "      <td>868949</td>\n",
              "      <td>5411</td>\n",
              "      <td>0</td>\n",
              "      <td>-203.11295</td>\n",
              "      <td>2021-05-11 17:05:09</td>\n",
              "      <td>0</td>\n",
              "      <td>2021-05-11</td>\n",
              "      <td>1900-01-01 17:05:09</td>\n",
              "      <td>2</td>\n",
              "      <td>1</td>\n",
              "    </tr>\n",
              "    <tr>\n",
              "      <th>2123996</th>\n",
              "      <td>868949</td>\n",
              "      <td>4131</td>\n",
              "      <td>0</td>\n",
              "      <td>-63.25255</td>\n",
              "      <td>2021-05-13 11:28:52</td>\n",
              "      <td>0</td>\n",
              "      <td>2021-05-13</td>\n",
              "      <td>1900-01-01 11:28:52</td>\n",
              "      <td>1</td>\n",
              "      <td>1</td>\n",
              "    </tr>\n",
              "    <tr>\n",
              "      <th>2123997</th>\n",
              "      <td>868949</td>\n",
              "      <td>4131</td>\n",
              "      <td>0</td>\n",
              "      <td>-40.04709</td>\n",
              "      <td>2021-05-13 11:38:42</td>\n",
              "      <td>0</td>\n",
              "      <td>2021-05-13</td>\n",
              "      <td>1900-01-01 11:38:42</td>\n",
              "      <td>1</td>\n",
              "      <td>1</td>\n",
              "    </tr>\n",
              "    <tr>\n",
              "      <th>2123998</th>\n",
              "      <td>868949</td>\n",
              "      <td>4131</td>\n",
              "      <td>0</td>\n",
              "      <td>-594.77850</td>\n",
              "      <td>2021-05-13 14:00:44</td>\n",
              "      <td>0</td>\n",
              "      <td>2021-05-13</td>\n",
              "      <td>1900-01-01 14:00:44</td>\n",
              "      <td>2</td>\n",
              "      <td>1</td>\n",
              "    </tr>\n",
              "    <tr>\n",
              "      <th>2123999</th>\n",
              "      <td>868949</td>\n",
              "      <td>5814</td>\n",
              "      <td>0</td>\n",
              "      <td>-127.33617</td>\n",
              "      <td>2021-05-13 14:17:28</td>\n",
              "      <td>0</td>\n",
              "      <td>2021-05-13</td>\n",
              "      <td>1900-01-01 14:17:28</td>\n",
              "      <td>2</td>\n",
              "      <td>1</td>\n",
              "    </tr>\n",
              "  </tbody>\n",
              "</table>\n",
              "<p>2124000 rows × 10 columns</p>\n",
              "</div>\n",
              "      <button class=\"colab-df-convert\" onclick=\"convertToInteractive('df-bafb3f2f-b715-406d-9530-bd1e689da2b1')\"\n",
              "              title=\"Convert this dataframe to an interactive table.\"\n",
              "              style=\"display:none;\">\n",
              "        \n",
              "  <svg xmlns=\"http://www.w3.org/2000/svg\" height=\"24px\"viewBox=\"0 0 24 24\"\n",
              "       width=\"24px\">\n",
              "    <path d=\"M0 0h24v24H0V0z\" fill=\"none\"/>\n",
              "    <path d=\"M18.56 5.44l.94 2.06.94-2.06 2.06-.94-2.06-.94-.94-2.06-.94 2.06-2.06.94zm-11 1L8.5 8.5l.94-2.06 2.06-.94-2.06-.94L8.5 2.5l-.94 2.06-2.06.94zm10 10l.94 2.06.94-2.06 2.06-.94-2.06-.94-.94-2.06-.94 2.06-2.06.94z\"/><path d=\"M17.41 7.96l-1.37-1.37c-.4-.4-.92-.59-1.43-.59-.52 0-1.04.2-1.43.59L10.3 9.45l-7.72 7.72c-.78.78-.78 2.05 0 2.83L4 21.41c.39.39.9.59 1.41.59.51 0 1.02-.2 1.41-.59l7.78-7.78 2.81-2.81c.8-.78.8-2.07 0-2.86zM5.41 20L4 18.59l7.72-7.72 1.47 1.35L5.41 20z\"/>\n",
              "  </svg>\n",
              "      </button>\n",
              "      \n",
              "  <style>\n",
              "    .colab-df-container {\n",
              "      display:flex;\n",
              "      flex-wrap:wrap;\n",
              "      gap: 12px;\n",
              "    }\n",
              "\n",
              "    .colab-df-convert {\n",
              "      background-color: #E8F0FE;\n",
              "      border: none;\n",
              "      border-radius: 50%;\n",
              "      cursor: pointer;\n",
              "      display: none;\n",
              "      fill: #1967D2;\n",
              "      height: 32px;\n",
              "      padding: 0 0 0 0;\n",
              "      width: 32px;\n",
              "    }\n",
              "\n",
              "    .colab-df-convert:hover {\n",
              "      background-color: #E2EBFA;\n",
              "      box-shadow: 0px 1px 2px rgba(60, 64, 67, 0.3), 0px 1px 3px 1px rgba(60, 64, 67, 0.15);\n",
              "      fill: #174EA6;\n",
              "    }\n",
              "\n",
              "    [theme=dark] .colab-df-convert {\n",
              "      background-color: #3B4455;\n",
              "      fill: #D2E3FC;\n",
              "    }\n",
              "\n",
              "    [theme=dark] .colab-df-convert:hover {\n",
              "      background-color: #434B5C;\n",
              "      box-shadow: 0px 1px 3px 1px rgba(0, 0, 0, 0.15);\n",
              "      filter: drop-shadow(0px 1px 2px rgba(0, 0, 0, 0.3));\n",
              "      fill: #FFFFFF;\n",
              "    }\n",
              "  </style>\n",
              "\n",
              "      <script>\n",
              "        const buttonEl =\n",
              "          document.querySelector('#df-bafb3f2f-b715-406d-9530-bd1e689da2b1 button.colab-df-convert');\n",
              "        buttonEl.style.display =\n",
              "          google.colab.kernel.accessAllowed ? 'block' : 'none';\n",
              "\n",
              "        async function convertToInteractive(key) {\n",
              "          const element = document.querySelector('#df-bafb3f2f-b715-406d-9530-bd1e689da2b1');\n",
              "          const dataTable =\n",
              "            await google.colab.kernel.invokeFunction('convertToInteractive',\n",
              "                                                     [key], {});\n",
              "          if (!dataTable) return;\n",
              "\n",
              "          const docLinkHtml = 'Like what you see? Visit the ' +\n",
              "            '<a target=\"_blank\" href=https://colab.research.google.com/notebooks/data_table.ipynb>data table notebook</a>'\n",
              "            + ' to learn more about interactive tables.';\n",
              "          element.innerHTML = '';\n",
              "          dataTable['output_type'] = 'display_data';\n",
              "          await google.colab.output.renderOutput(dataTable, element);\n",
              "          const docLink = document.createElement('div');\n",
              "          docLink.innerHTML = docLinkHtml;\n",
              "          element.appendChild(docLink);\n",
              "        }\n",
              "      </script>\n",
              "    </div>\n",
              "  </div>\n",
              "  "
            ]
          },
          "metadata": {},
          "execution_count": 24
        }
      ]
    },
    {
      "cell_type": "markdown",
      "source": [
        "## 1.3 Поиск \"Плохого клиента\""
      ],
      "metadata": {
        "id": "Ek4xkCSBcjq3"
      }
    },
    {
      "cell_type": "code",
      "source": [
        "df1['transaction_amt'].describe()"
      ],
      "metadata": {
        "colab": {
          "base_uri": "https://localhost:8080/"
        },
        "id": "sWzqHnEpO4Xm",
        "outputId": "e3a90ac3-6a4b-4e61-f865-24d0f5998827"
      },
      "execution_count": null,
      "outputs": [
        {
          "output_type": "execute_result",
          "data": {
            "text/plain": [
              "count    2.124000e+06\n",
              "mean    -1.598460e+03\n",
              "std      8.478299e+03\n",
              "min     -2.212341e+05\n",
              "25%     -9.709261e+02\n",
              "50%     -3.588269e+02\n",
              "75%     -1.399803e+02\n",
              "max      3.194730e+05\n",
              "Name: transaction_amt, dtype: float64"
            ]
          },
          "metadata": {},
          "execution_count": 25
        }
      ]
    },
    {
      "cell_type": "code",
      "source": [
        "df_bad = df1.loc[(df1['target'] ==1)]\n",
        "df_bad"
      ],
      "metadata": {
        "id": "Jc9dBNyQezYA",
        "colab": {
          "base_uri": "https://localhost:8080/",
          "height": 424
        },
        "outputId": "b043a2be-43fa-4b37-ab8c-0699d55f9674"
      },
      "execution_count": null,
      "outputs": [
        {
          "output_type": "execute_result",
          "data": {
            "text/plain": [
              "         user_id  mcc_code  currency_rk  transaction_amt     transaction_dttm  \\\n",
              "17700       6727      5812            0      -119.201940  2020-01-22 00:33:23   \n",
              "17701       6727      5812            0      -105.445720  2020-01-23 00:54:32   \n",
              "17702       6727      5411            0      -479.609250  2020-01-23 13:43:22   \n",
              "17703       6727      5411            0      -170.652160  2020-01-23 16:02:34   \n",
              "17704       6727      5921            0      -211.669370  2020-01-23 16:12:36   \n",
              "...          ...       ...          ...              ...                  ...   \n",
              "2116495   865335      5814            0      -396.510440  2021-05-30 00:15:16   \n",
              "2116496   865335      4121            0       -91.077835  2021-05-30 12:19:39   \n",
              "2116497   865335      5411            0     -1217.889400  2021-05-30 15:59:09   \n",
              "2116498   865335      4816            0       -25.079805  2021-05-31 09:19:29   \n",
              "2116499   865335      5499            0      -114.984150  2021-06-08 11:18:30   \n",
              "\n",
              "         target      Dates                Time  Time1  Date1  \n",
              "17700         1 2020-01-22 1900-01-01 00:33:23      0      0  \n",
              "17701         1 2020-01-23 1900-01-01 00:54:32      0      0  \n",
              "17702         1 2020-01-23 1900-01-01 13:43:22      2      0  \n",
              "17703         1 2020-01-23 1900-01-01 16:02:34      2      0  \n",
              "17704         1 2020-01-23 1900-01-01 16:12:36      2      0  \n",
              "...         ...        ...                 ...    ...    ...  \n",
              "2116495       1 2021-05-30 1900-01-01 00:15:16      0      1  \n",
              "2116496       1 2021-05-30 1900-01-01 12:19:39      2      1  \n",
              "2116497       1 2021-05-30 1900-01-01 15:59:09      2      1  \n",
              "2116498       1 2021-05-31 1900-01-01 09:19:29      1      1  \n",
              "2116499       1 2021-06-08 1900-01-01 11:18:30      1      2  \n",
              "\n",
              "[78600 rows x 10 columns]"
            ],
            "text/html": [
              "\n",
              "  <div id=\"df-a20c5f2b-b8ec-436a-bd3f-1671658fd13a\">\n",
              "    <div class=\"colab-df-container\">\n",
              "      <div>\n",
              "<style scoped>\n",
              "    .dataframe tbody tr th:only-of-type {\n",
              "        vertical-align: middle;\n",
              "    }\n",
              "\n",
              "    .dataframe tbody tr th {\n",
              "        vertical-align: top;\n",
              "    }\n",
              "\n",
              "    .dataframe thead th {\n",
              "        text-align: right;\n",
              "    }\n",
              "</style>\n",
              "<table border=\"1\" class=\"dataframe\">\n",
              "  <thead>\n",
              "    <tr style=\"text-align: right;\">\n",
              "      <th></th>\n",
              "      <th>user_id</th>\n",
              "      <th>mcc_code</th>\n",
              "      <th>currency_rk</th>\n",
              "      <th>transaction_amt</th>\n",
              "      <th>transaction_dttm</th>\n",
              "      <th>target</th>\n",
              "      <th>Dates</th>\n",
              "      <th>Time</th>\n",
              "      <th>Time1</th>\n",
              "      <th>Date1</th>\n",
              "    </tr>\n",
              "  </thead>\n",
              "  <tbody>\n",
              "    <tr>\n",
              "      <th>17700</th>\n",
              "      <td>6727</td>\n",
              "      <td>5812</td>\n",
              "      <td>0</td>\n",
              "      <td>-119.201940</td>\n",
              "      <td>2020-01-22 00:33:23</td>\n",
              "      <td>1</td>\n",
              "      <td>2020-01-22</td>\n",
              "      <td>1900-01-01 00:33:23</td>\n",
              "      <td>0</td>\n",
              "      <td>0</td>\n",
              "    </tr>\n",
              "    <tr>\n",
              "      <th>17701</th>\n",
              "      <td>6727</td>\n",
              "      <td>5812</td>\n",
              "      <td>0</td>\n",
              "      <td>-105.445720</td>\n",
              "      <td>2020-01-23 00:54:32</td>\n",
              "      <td>1</td>\n",
              "      <td>2020-01-23</td>\n",
              "      <td>1900-01-01 00:54:32</td>\n",
              "      <td>0</td>\n",
              "      <td>0</td>\n",
              "    </tr>\n",
              "    <tr>\n",
              "      <th>17702</th>\n",
              "      <td>6727</td>\n",
              "      <td>5411</td>\n",
              "      <td>0</td>\n",
              "      <td>-479.609250</td>\n",
              "      <td>2020-01-23 13:43:22</td>\n",
              "      <td>1</td>\n",
              "      <td>2020-01-23</td>\n",
              "      <td>1900-01-01 13:43:22</td>\n",
              "      <td>2</td>\n",
              "      <td>0</td>\n",
              "    </tr>\n",
              "    <tr>\n",
              "      <th>17703</th>\n",
              "      <td>6727</td>\n",
              "      <td>5411</td>\n",
              "      <td>0</td>\n",
              "      <td>-170.652160</td>\n",
              "      <td>2020-01-23 16:02:34</td>\n",
              "      <td>1</td>\n",
              "      <td>2020-01-23</td>\n",
              "      <td>1900-01-01 16:02:34</td>\n",
              "      <td>2</td>\n",
              "      <td>0</td>\n",
              "    </tr>\n",
              "    <tr>\n",
              "      <th>17704</th>\n",
              "      <td>6727</td>\n",
              "      <td>5921</td>\n",
              "      <td>0</td>\n",
              "      <td>-211.669370</td>\n",
              "      <td>2020-01-23 16:12:36</td>\n",
              "      <td>1</td>\n",
              "      <td>2020-01-23</td>\n",
              "      <td>1900-01-01 16:12:36</td>\n",
              "      <td>2</td>\n",
              "      <td>0</td>\n",
              "    </tr>\n",
              "    <tr>\n",
              "      <th>...</th>\n",
              "      <td>...</td>\n",
              "      <td>...</td>\n",
              "      <td>...</td>\n",
              "      <td>...</td>\n",
              "      <td>...</td>\n",
              "      <td>...</td>\n",
              "      <td>...</td>\n",
              "      <td>...</td>\n",
              "      <td>...</td>\n",
              "      <td>...</td>\n",
              "    </tr>\n",
              "    <tr>\n",
              "      <th>2116495</th>\n",
              "      <td>865335</td>\n",
              "      <td>5814</td>\n",
              "      <td>0</td>\n",
              "      <td>-396.510440</td>\n",
              "      <td>2021-05-30 00:15:16</td>\n",
              "      <td>1</td>\n",
              "      <td>2021-05-30</td>\n",
              "      <td>1900-01-01 00:15:16</td>\n",
              "      <td>0</td>\n",
              "      <td>1</td>\n",
              "    </tr>\n",
              "    <tr>\n",
              "      <th>2116496</th>\n",
              "      <td>865335</td>\n",
              "      <td>4121</td>\n",
              "      <td>0</td>\n",
              "      <td>-91.077835</td>\n",
              "      <td>2021-05-30 12:19:39</td>\n",
              "      <td>1</td>\n",
              "      <td>2021-05-30</td>\n",
              "      <td>1900-01-01 12:19:39</td>\n",
              "      <td>2</td>\n",
              "      <td>1</td>\n",
              "    </tr>\n",
              "    <tr>\n",
              "      <th>2116497</th>\n",
              "      <td>865335</td>\n",
              "      <td>5411</td>\n",
              "      <td>0</td>\n",
              "      <td>-1217.889400</td>\n",
              "      <td>2021-05-30 15:59:09</td>\n",
              "      <td>1</td>\n",
              "      <td>2021-05-30</td>\n",
              "      <td>1900-01-01 15:59:09</td>\n",
              "      <td>2</td>\n",
              "      <td>1</td>\n",
              "    </tr>\n",
              "    <tr>\n",
              "      <th>2116498</th>\n",
              "      <td>865335</td>\n",
              "      <td>4816</td>\n",
              "      <td>0</td>\n",
              "      <td>-25.079805</td>\n",
              "      <td>2021-05-31 09:19:29</td>\n",
              "      <td>1</td>\n",
              "      <td>2021-05-31</td>\n",
              "      <td>1900-01-01 09:19:29</td>\n",
              "      <td>1</td>\n",
              "      <td>1</td>\n",
              "    </tr>\n",
              "    <tr>\n",
              "      <th>2116499</th>\n",
              "      <td>865335</td>\n",
              "      <td>5499</td>\n",
              "      <td>0</td>\n",
              "      <td>-114.984150</td>\n",
              "      <td>2021-06-08 11:18:30</td>\n",
              "      <td>1</td>\n",
              "      <td>2021-06-08</td>\n",
              "      <td>1900-01-01 11:18:30</td>\n",
              "      <td>1</td>\n",
              "      <td>2</td>\n",
              "    </tr>\n",
              "  </tbody>\n",
              "</table>\n",
              "<p>78600 rows × 10 columns</p>\n",
              "</div>\n",
              "      <button class=\"colab-df-convert\" onclick=\"convertToInteractive('df-a20c5f2b-b8ec-436a-bd3f-1671658fd13a')\"\n",
              "              title=\"Convert this dataframe to an interactive table.\"\n",
              "              style=\"display:none;\">\n",
              "        \n",
              "  <svg xmlns=\"http://www.w3.org/2000/svg\" height=\"24px\"viewBox=\"0 0 24 24\"\n",
              "       width=\"24px\">\n",
              "    <path d=\"M0 0h24v24H0V0z\" fill=\"none\"/>\n",
              "    <path d=\"M18.56 5.44l.94 2.06.94-2.06 2.06-.94-2.06-.94-.94-2.06-.94 2.06-2.06.94zm-11 1L8.5 8.5l.94-2.06 2.06-.94-2.06-.94L8.5 2.5l-.94 2.06-2.06.94zm10 10l.94 2.06.94-2.06 2.06-.94-2.06-.94-.94-2.06-.94 2.06-2.06.94z\"/><path d=\"M17.41 7.96l-1.37-1.37c-.4-.4-.92-.59-1.43-.59-.52 0-1.04.2-1.43.59L10.3 9.45l-7.72 7.72c-.78.78-.78 2.05 0 2.83L4 21.41c.39.39.9.59 1.41.59.51 0 1.02-.2 1.41-.59l7.78-7.78 2.81-2.81c.8-.78.8-2.07 0-2.86zM5.41 20L4 18.59l7.72-7.72 1.47 1.35L5.41 20z\"/>\n",
              "  </svg>\n",
              "      </button>\n",
              "      \n",
              "  <style>\n",
              "    .colab-df-container {\n",
              "      display:flex;\n",
              "      flex-wrap:wrap;\n",
              "      gap: 12px;\n",
              "    }\n",
              "\n",
              "    .colab-df-convert {\n",
              "      background-color: #E8F0FE;\n",
              "      border: none;\n",
              "      border-radius: 50%;\n",
              "      cursor: pointer;\n",
              "      display: none;\n",
              "      fill: #1967D2;\n",
              "      height: 32px;\n",
              "      padding: 0 0 0 0;\n",
              "      width: 32px;\n",
              "    }\n",
              "\n",
              "    .colab-df-convert:hover {\n",
              "      background-color: #E2EBFA;\n",
              "      box-shadow: 0px 1px 2px rgba(60, 64, 67, 0.3), 0px 1px 3px 1px rgba(60, 64, 67, 0.15);\n",
              "      fill: #174EA6;\n",
              "    }\n",
              "\n",
              "    [theme=dark] .colab-df-convert {\n",
              "      background-color: #3B4455;\n",
              "      fill: #D2E3FC;\n",
              "    }\n",
              "\n",
              "    [theme=dark] .colab-df-convert:hover {\n",
              "      background-color: #434B5C;\n",
              "      box-shadow: 0px 1px 3px 1px rgba(0, 0, 0, 0.15);\n",
              "      filter: drop-shadow(0px 1px 2px rgba(0, 0, 0, 0.3));\n",
              "      fill: #FFFFFF;\n",
              "    }\n",
              "  </style>\n",
              "\n",
              "      <script>\n",
              "        const buttonEl =\n",
              "          document.querySelector('#df-a20c5f2b-b8ec-436a-bd3f-1671658fd13a button.colab-df-convert');\n",
              "        buttonEl.style.display =\n",
              "          google.colab.kernel.accessAllowed ? 'block' : 'none';\n",
              "\n",
              "        async function convertToInteractive(key) {\n",
              "          const element = document.querySelector('#df-a20c5f2b-b8ec-436a-bd3f-1671658fd13a');\n",
              "          const dataTable =\n",
              "            await google.colab.kernel.invokeFunction('convertToInteractive',\n",
              "                                                     [key], {});\n",
              "          if (!dataTable) return;\n",
              "\n",
              "          const docLinkHtml = 'Like what you see? Visit the ' +\n",
              "            '<a target=\"_blank\" href=https://colab.research.google.com/notebooks/data_table.ipynb>data table notebook</a>'\n",
              "            + ' to learn more about interactive tables.';\n",
              "          element.innerHTML = '';\n",
              "          dataTable['output_type'] = 'display_data';\n",
              "          await google.colab.output.renderOutput(dataTable, element);\n",
              "          const docLink = document.createElement('div');\n",
              "          docLink.innerHTML = docLinkHtml;\n",
              "          element.appendChild(docLink);\n",
              "        }\n",
              "      </script>\n",
              "    </div>\n",
              "  </div>\n",
              "  "
            ]
          },
          "metadata": {},
          "execution_count": 26
        }
      ]
    },
    {
      "cell_type": "code",
      "source": [
        "df_bad['user_id'].unique().size"
      ],
      "metadata": {
        "colab": {
          "base_uri": "https://localhost:8080/"
        },
        "id": "PcCW3pnsfaQ8",
        "outputId": "3234b15e-35f5-407f-99b5-204ea7d59050"
      },
      "execution_count": null,
      "outputs": [
        {
          "output_type": "execute_result",
          "data": {
            "text/plain": [
              "262"
            ]
          },
          "metadata": {},
          "execution_count": 27
        }
      ]
    },
    {
      "cell_type": "code",
      "source": [
        "df_bad['currency_rk'].value_counts()"
      ],
      "metadata": {
        "colab": {
          "base_uri": "https://localhost:8080/"
        },
        "id": "CHbjs3bVSGxx",
        "outputId": "e1576371-4ed1-48f3-f848-88bce0bbfb3b"
      },
      "execution_count": null,
      "outputs": [
        {
          "output_type": "execute_result",
          "data": {
            "text/plain": [
              "0    78468\n",
              "1      123\n",
              "2        9\n",
              "Name: currency_rk, dtype: int64"
            ]
          },
          "metadata": {},
          "execution_count": 28
        }
      ]
    },
    {
      "cell_type": "markdown",
      "source": [
        "Большая часть транзакций в рублях"
      ],
      "metadata": {
        "id": "hStDADQ8SeEk"
      }
    },
    {
      "cell_type": "code",
      "source": [
        "78468/78600"
      ],
      "metadata": {
        "colab": {
          "base_uri": "https://localhost:8080/"
        },
        "id": "mCJUpL_kSPll",
        "outputId": "a65293fb-2cc5-4681-8d29-721d927b054e"
      },
      "execution_count": null,
      "outputs": [
        {
          "output_type": "execute_result",
          "data": {
            "text/plain": [
              "0.9983206106870229"
            ]
          },
          "metadata": {},
          "execution_count": 29
        }
      ]
    },
    {
      "cell_type": "code",
      "source": [
        "df_bad['Time1'].value_counts()"
      ],
      "metadata": {
        "colab": {
          "base_uri": "https://localhost:8080/"
        },
        "id": "-zWJV9L2UpAO",
        "outputId": "e541317f-cdf0-4cdd-aee1-ab2350387056"
      },
      "execution_count": null,
      "outputs": [
        {
          "output_type": "execute_result",
          "data": {
            "text/plain": [
              "2    27551\n",
              "1    27469\n",
              "0    13304\n",
              "3    10276\n",
              "Name: Time1, dtype: int64"
            ]
          },
          "metadata": {},
          "execution_count": 30
        }
      ]
    },
    {
      "cell_type": "code",
      "source": [
        "(27551+27469)/78600"
      ],
      "metadata": {
        "colab": {
          "base_uri": "https://localhost:8080/"
        },
        "id": "AgQhI3NRU0uS",
        "outputId": "2d77c5aa-dc8f-44ad-9d96-e3b9dfa2380e"
      },
      "execution_count": null,
      "outputs": [
        {
          "output_type": "execute_result",
          "data": {
            "text/plain": [
              "0.7"
            ]
          },
          "metadata": {},
          "execution_count": 31
        }
      ]
    },
    {
      "cell_type": "code",
      "source": [
        "df_bad['Date1'].value_counts()"
      ],
      "metadata": {
        "colab": {
          "base_uri": "https://localhost:8080/"
        },
        "id": "nhKP9Jf5V3vD",
        "outputId": "d5a9c3da-1a9d-4809-ede0-c7ced7ba9f39"
      },
      "execution_count": null,
      "outputs": [
        {
          "output_type": "execute_result",
          "data": {
            "text/plain": [
              "0    42278\n",
              "1    25002\n",
              "2    11320\n",
              "Name: Date1, dtype: int64"
            ]
          },
          "metadata": {},
          "execution_count": 32
        }
      ]
    },
    {
      "cell_type": "code",
      "source": [
        " 42278/78600"
      ],
      "metadata": {
        "colab": {
          "base_uri": "https://localhost:8080/"
        },
        "id": "R_jS49KnWBLl",
        "outputId": "c74eefd7-75b8-4b3e-a820-1f92b68f2fa3"
      },
      "execution_count": null,
      "outputs": [
        {
          "output_type": "execute_result",
          "data": {
            "text/plain": [
              "0.5378880407124682"
            ]
          },
          "metadata": {},
          "execution_count": 33
        }
      ]
    },
    {
      "cell_type": "code",
      "source": [
        " 25002/78600"
      ],
      "metadata": {
        "colab": {
          "base_uri": "https://localhost:8080/"
        },
        "id": "sK39xHC5WdFI",
        "outputId": "28e4cff0-8a41-4e6a-f26f-8e1eca89094a"
      },
      "execution_count": null,
      "outputs": [
        {
          "output_type": "execute_result",
          "data": {
            "text/plain": [
              "0.3180916030534351"
            ]
          },
          "metadata": {},
          "execution_count": 34
        }
      ]
    },
    {
      "cell_type": "code",
      "source": [
        "11320/78600"
      ],
      "metadata": {
        "colab": {
          "base_uri": "https://localhost:8080/"
        },
        "id": "0YjZluT_Wjog",
        "outputId": "56ecbc92-9293-4116-f1aa-2136031094b1"
      },
      "execution_count": null,
      "outputs": [
        {
          "output_type": "execute_result",
          "data": {
            "text/plain": [
              "0.1440203562340967"
            ]
          },
          "metadata": {},
          "execution_count": 35
        }
      ]
    },
    {
      "cell_type": "code",
      "source": [
        "df_bad['user_id'].value_counts().mean()"
      ],
      "metadata": {
        "colab": {
          "base_uri": "https://localhost:8080/"
        },
        "id": "onkR2tEJW3HQ",
        "outputId": "2896b5ad-7a3d-4399-cf94-a7292c4f37a9"
      },
      "execution_count": null,
      "outputs": [
        {
          "output_type": "execute_result",
          "data": {
            "text/plain": [
              "300.0"
            ]
          },
          "metadata": {},
          "execution_count": 36
        }
      ]
    },
    {
      "cell_type": "code",
      "source": [
        "df_bad['transaction_amt'].describe()"
      ],
      "metadata": {
        "colab": {
          "base_uri": "https://localhost:8080/"
        },
        "id": "tnj92R61XbTA",
        "outputId": "13acedab-da06-4ee3-a32c-8589865e03a7"
      },
      "execution_count": null,
      "outputs": [
        {
          "output_type": "execute_result",
          "data": {
            "text/plain": [
              "count     78600.000000\n",
              "mean      -1578.547090\n",
              "std        8161.614448\n",
              "min     -213524.230000\n",
              "25%        -951.574480\n",
              "50%        -339.820220\n",
              "75%        -132.409030\n",
              "max      277471.530000\n",
              "Name: transaction_amt, dtype: float64"
            ]
          },
          "metadata": {},
          "execution_count": 37
        }
      ]
    },
    {
      "cell_type": "code",
      "source": [
        "df_good = df1.loc[(df1['target'] ==0)]\n",
        "df_good"
      ],
      "metadata": {
        "colab": {
          "base_uri": "https://localhost:8080/",
          "height": 424
        },
        "id": "heWXGOwxeymN",
        "outputId": "81d2f4e7-e9a2-4438-e889-a7cd501ea91d"
      },
      "execution_count": null,
      "outputs": [
        {
          "output_type": "execute_result",
          "data": {
            "text/plain": [
              "         user_id  mcc_code  currency_rk  transaction_amt     transaction_dttm  \\\n",
              "0             69      5541            0       -342.89792  2021-03-05 02:52:36   \n",
              "1             69      5533            0      -1251.88120  2021-03-05 09:43:28   \n",
              "2             69      5331            0        -87.30924  2021-03-05 11:17:23   \n",
              "3             69      5921            0      -1822.17700  2021-03-05 13:41:03   \n",
              "4             69      5311            0       -427.12363  2021-03-05 19:14:23   \n",
              "...          ...       ...          ...              ...                  ...   \n",
              "2123995   868949      5411            0       -203.11295  2021-05-11 17:05:09   \n",
              "2123996   868949      4131            0        -63.25255  2021-05-13 11:28:52   \n",
              "2123997   868949      4131            0        -40.04709  2021-05-13 11:38:42   \n",
              "2123998   868949      4131            0       -594.77850  2021-05-13 14:00:44   \n",
              "2123999   868949      5814            0       -127.33617  2021-05-13 14:17:28   \n",
              "\n",
              "         target      Dates                Time  Time1  Date1  \n",
              "0             0 2021-03-05 1900-01-01 02:52:36      0      1  \n",
              "1             0 2021-03-05 1900-01-01 09:43:28      1      1  \n",
              "2             0 2021-03-05 1900-01-01 11:17:23      1      1  \n",
              "3             0 2021-03-05 1900-01-01 13:41:03      2      1  \n",
              "4             0 2021-03-05 1900-01-01 19:14:23      3      1  \n",
              "...         ...        ...                 ...    ...    ...  \n",
              "2123995       0 2021-05-11 1900-01-01 17:05:09      2      1  \n",
              "2123996       0 2021-05-13 1900-01-01 11:28:52      1      1  \n",
              "2123997       0 2021-05-13 1900-01-01 11:38:42      1      1  \n",
              "2123998       0 2021-05-13 1900-01-01 14:00:44      2      1  \n",
              "2123999       0 2021-05-13 1900-01-01 14:17:28      2      1  \n",
              "\n",
              "[2045400 rows x 10 columns]"
            ],
            "text/html": [
              "\n",
              "  <div id=\"df-4be687ca-791f-4044-90f0-6c73ec14ebc6\">\n",
              "    <div class=\"colab-df-container\">\n",
              "      <div>\n",
              "<style scoped>\n",
              "    .dataframe tbody tr th:only-of-type {\n",
              "        vertical-align: middle;\n",
              "    }\n",
              "\n",
              "    .dataframe tbody tr th {\n",
              "        vertical-align: top;\n",
              "    }\n",
              "\n",
              "    .dataframe thead th {\n",
              "        text-align: right;\n",
              "    }\n",
              "</style>\n",
              "<table border=\"1\" class=\"dataframe\">\n",
              "  <thead>\n",
              "    <tr style=\"text-align: right;\">\n",
              "      <th></th>\n",
              "      <th>user_id</th>\n",
              "      <th>mcc_code</th>\n",
              "      <th>currency_rk</th>\n",
              "      <th>transaction_amt</th>\n",
              "      <th>transaction_dttm</th>\n",
              "      <th>target</th>\n",
              "      <th>Dates</th>\n",
              "      <th>Time</th>\n",
              "      <th>Time1</th>\n",
              "      <th>Date1</th>\n",
              "    </tr>\n",
              "  </thead>\n",
              "  <tbody>\n",
              "    <tr>\n",
              "      <th>0</th>\n",
              "      <td>69</td>\n",
              "      <td>5541</td>\n",
              "      <td>0</td>\n",
              "      <td>-342.89792</td>\n",
              "      <td>2021-03-05 02:52:36</td>\n",
              "      <td>0</td>\n",
              "      <td>2021-03-05</td>\n",
              "      <td>1900-01-01 02:52:36</td>\n",
              "      <td>0</td>\n",
              "      <td>1</td>\n",
              "    </tr>\n",
              "    <tr>\n",
              "      <th>1</th>\n",
              "      <td>69</td>\n",
              "      <td>5533</td>\n",
              "      <td>0</td>\n",
              "      <td>-1251.88120</td>\n",
              "      <td>2021-03-05 09:43:28</td>\n",
              "      <td>0</td>\n",
              "      <td>2021-03-05</td>\n",
              "      <td>1900-01-01 09:43:28</td>\n",
              "      <td>1</td>\n",
              "      <td>1</td>\n",
              "    </tr>\n",
              "    <tr>\n",
              "      <th>2</th>\n",
              "      <td>69</td>\n",
              "      <td>5331</td>\n",
              "      <td>0</td>\n",
              "      <td>-87.30924</td>\n",
              "      <td>2021-03-05 11:17:23</td>\n",
              "      <td>0</td>\n",
              "      <td>2021-03-05</td>\n",
              "      <td>1900-01-01 11:17:23</td>\n",
              "      <td>1</td>\n",
              "      <td>1</td>\n",
              "    </tr>\n",
              "    <tr>\n",
              "      <th>3</th>\n",
              "      <td>69</td>\n",
              "      <td>5921</td>\n",
              "      <td>0</td>\n",
              "      <td>-1822.17700</td>\n",
              "      <td>2021-03-05 13:41:03</td>\n",
              "      <td>0</td>\n",
              "      <td>2021-03-05</td>\n",
              "      <td>1900-01-01 13:41:03</td>\n",
              "      <td>2</td>\n",
              "      <td>1</td>\n",
              "    </tr>\n",
              "    <tr>\n",
              "      <th>4</th>\n",
              "      <td>69</td>\n",
              "      <td>5311</td>\n",
              "      <td>0</td>\n",
              "      <td>-427.12363</td>\n",
              "      <td>2021-03-05 19:14:23</td>\n",
              "      <td>0</td>\n",
              "      <td>2021-03-05</td>\n",
              "      <td>1900-01-01 19:14:23</td>\n",
              "      <td>3</td>\n",
              "      <td>1</td>\n",
              "    </tr>\n",
              "    <tr>\n",
              "      <th>...</th>\n",
              "      <td>...</td>\n",
              "      <td>...</td>\n",
              "      <td>...</td>\n",
              "      <td>...</td>\n",
              "      <td>...</td>\n",
              "      <td>...</td>\n",
              "      <td>...</td>\n",
              "      <td>...</td>\n",
              "      <td>...</td>\n",
              "      <td>...</td>\n",
              "    </tr>\n",
              "    <tr>\n",
              "      <th>2123995</th>\n",
              "      <td>868949</td>\n",
              "      <td>5411</td>\n",
              "      <td>0</td>\n",
              "      <td>-203.11295</td>\n",
              "      <td>2021-05-11 17:05:09</td>\n",
              "      <td>0</td>\n",
              "      <td>2021-05-11</td>\n",
              "      <td>1900-01-01 17:05:09</td>\n",
              "      <td>2</td>\n",
              "      <td>1</td>\n",
              "    </tr>\n",
              "    <tr>\n",
              "      <th>2123996</th>\n",
              "      <td>868949</td>\n",
              "      <td>4131</td>\n",
              "      <td>0</td>\n",
              "      <td>-63.25255</td>\n",
              "      <td>2021-05-13 11:28:52</td>\n",
              "      <td>0</td>\n",
              "      <td>2021-05-13</td>\n",
              "      <td>1900-01-01 11:28:52</td>\n",
              "      <td>1</td>\n",
              "      <td>1</td>\n",
              "    </tr>\n",
              "    <tr>\n",
              "      <th>2123997</th>\n",
              "      <td>868949</td>\n",
              "      <td>4131</td>\n",
              "      <td>0</td>\n",
              "      <td>-40.04709</td>\n",
              "      <td>2021-05-13 11:38:42</td>\n",
              "      <td>0</td>\n",
              "      <td>2021-05-13</td>\n",
              "      <td>1900-01-01 11:38:42</td>\n",
              "      <td>1</td>\n",
              "      <td>1</td>\n",
              "    </tr>\n",
              "    <tr>\n",
              "      <th>2123998</th>\n",
              "      <td>868949</td>\n",
              "      <td>4131</td>\n",
              "      <td>0</td>\n",
              "      <td>-594.77850</td>\n",
              "      <td>2021-05-13 14:00:44</td>\n",
              "      <td>0</td>\n",
              "      <td>2021-05-13</td>\n",
              "      <td>1900-01-01 14:00:44</td>\n",
              "      <td>2</td>\n",
              "      <td>1</td>\n",
              "    </tr>\n",
              "    <tr>\n",
              "      <th>2123999</th>\n",
              "      <td>868949</td>\n",
              "      <td>5814</td>\n",
              "      <td>0</td>\n",
              "      <td>-127.33617</td>\n",
              "      <td>2021-05-13 14:17:28</td>\n",
              "      <td>0</td>\n",
              "      <td>2021-05-13</td>\n",
              "      <td>1900-01-01 14:17:28</td>\n",
              "      <td>2</td>\n",
              "      <td>1</td>\n",
              "    </tr>\n",
              "  </tbody>\n",
              "</table>\n",
              "<p>2045400 rows × 10 columns</p>\n",
              "</div>\n",
              "      <button class=\"colab-df-convert\" onclick=\"convertToInteractive('df-4be687ca-791f-4044-90f0-6c73ec14ebc6')\"\n",
              "              title=\"Convert this dataframe to an interactive table.\"\n",
              "              style=\"display:none;\">\n",
              "        \n",
              "  <svg xmlns=\"http://www.w3.org/2000/svg\" height=\"24px\"viewBox=\"0 0 24 24\"\n",
              "       width=\"24px\">\n",
              "    <path d=\"M0 0h24v24H0V0z\" fill=\"none\"/>\n",
              "    <path d=\"M18.56 5.44l.94 2.06.94-2.06 2.06-.94-2.06-.94-.94-2.06-.94 2.06-2.06.94zm-11 1L8.5 8.5l.94-2.06 2.06-.94-2.06-.94L8.5 2.5l-.94 2.06-2.06.94zm10 10l.94 2.06.94-2.06 2.06-.94-2.06-.94-.94-2.06-.94 2.06-2.06.94z\"/><path d=\"M17.41 7.96l-1.37-1.37c-.4-.4-.92-.59-1.43-.59-.52 0-1.04.2-1.43.59L10.3 9.45l-7.72 7.72c-.78.78-.78 2.05 0 2.83L4 21.41c.39.39.9.59 1.41.59.51 0 1.02-.2 1.41-.59l7.78-7.78 2.81-2.81c.8-.78.8-2.07 0-2.86zM5.41 20L4 18.59l7.72-7.72 1.47 1.35L5.41 20z\"/>\n",
              "  </svg>\n",
              "      </button>\n",
              "      \n",
              "  <style>\n",
              "    .colab-df-container {\n",
              "      display:flex;\n",
              "      flex-wrap:wrap;\n",
              "      gap: 12px;\n",
              "    }\n",
              "\n",
              "    .colab-df-convert {\n",
              "      background-color: #E8F0FE;\n",
              "      border: none;\n",
              "      border-radius: 50%;\n",
              "      cursor: pointer;\n",
              "      display: none;\n",
              "      fill: #1967D2;\n",
              "      height: 32px;\n",
              "      padding: 0 0 0 0;\n",
              "      width: 32px;\n",
              "    }\n",
              "\n",
              "    .colab-df-convert:hover {\n",
              "      background-color: #E2EBFA;\n",
              "      box-shadow: 0px 1px 2px rgba(60, 64, 67, 0.3), 0px 1px 3px 1px rgba(60, 64, 67, 0.15);\n",
              "      fill: #174EA6;\n",
              "    }\n",
              "\n",
              "    [theme=dark] .colab-df-convert {\n",
              "      background-color: #3B4455;\n",
              "      fill: #D2E3FC;\n",
              "    }\n",
              "\n",
              "    [theme=dark] .colab-df-convert:hover {\n",
              "      background-color: #434B5C;\n",
              "      box-shadow: 0px 1px 3px 1px rgba(0, 0, 0, 0.15);\n",
              "      filter: drop-shadow(0px 1px 2px rgba(0, 0, 0, 0.3));\n",
              "      fill: #FFFFFF;\n",
              "    }\n",
              "  </style>\n",
              "\n",
              "      <script>\n",
              "        const buttonEl =\n",
              "          document.querySelector('#df-4be687ca-791f-4044-90f0-6c73ec14ebc6 button.colab-df-convert');\n",
              "        buttonEl.style.display =\n",
              "          google.colab.kernel.accessAllowed ? 'block' : 'none';\n",
              "\n",
              "        async function convertToInteractive(key) {\n",
              "          const element = document.querySelector('#df-4be687ca-791f-4044-90f0-6c73ec14ebc6');\n",
              "          const dataTable =\n",
              "            await google.colab.kernel.invokeFunction('convertToInteractive',\n",
              "                                                     [key], {});\n",
              "          if (!dataTable) return;\n",
              "\n",
              "          const docLinkHtml = 'Like what you see? Visit the ' +\n",
              "            '<a target=\"_blank\" href=https://colab.research.google.com/notebooks/data_table.ipynb>data table notebook</a>'\n",
              "            + ' to learn more about interactive tables.';\n",
              "          element.innerHTML = '';\n",
              "          dataTable['output_type'] = 'display_data';\n",
              "          await google.colab.output.renderOutput(dataTable, element);\n",
              "          const docLink = document.createElement('div');\n",
              "          docLink.innerHTML = docLinkHtml;\n",
              "          element.appendChild(docLink);\n",
              "        }\n",
              "      </script>\n",
              "    </div>\n",
              "  </div>\n",
              "  "
            ]
          },
          "metadata": {},
          "execution_count": 38
        }
      ]
    },
    {
      "cell_type": "code",
      "source": [
        "df_good['user_id'].unique().size"
      ],
      "metadata": {
        "colab": {
          "base_uri": "https://localhost:8080/"
        },
        "id": "BH8vfxWuQs0K",
        "outputId": "fc93c29b-97a8-4de7-f85d-98b571888f09"
      },
      "execution_count": null,
      "outputs": [
        {
          "output_type": "execute_result",
          "data": {
            "text/plain": [
              "6818"
            ]
          },
          "metadata": {},
          "execution_count": 39
        }
      ]
    },
    {
      "cell_type": "code",
      "source": [
        "df_good['currency_rk'].value_counts()"
      ],
      "metadata": {
        "colab": {
          "base_uri": "https://localhost:8080/"
        },
        "id": "ibXV0nqgSjju",
        "outputId": "e2c05767-f8b6-449f-dccc-59436a891b03"
      },
      "execution_count": null,
      "outputs": [
        {
          "output_type": "execute_result",
          "data": {
            "text/plain": [
              "0    2042403\n",
              "1       1856\n",
              "2       1141\n",
              "Name: currency_rk, dtype: int64"
            ]
          },
          "metadata": {},
          "execution_count": 40
        }
      ]
    },
    {
      "cell_type": "code",
      "source": [
        "2042403/2045400"
      ],
      "metadata": {
        "colab": {
          "base_uri": "https://localhost:8080/"
        },
        "id": "Ft4z7VWtSo9S",
        "outputId": "faef3329-4f50-4d93-d6a1-4fe14d039b5e"
      },
      "execution_count": null,
      "outputs": [
        {
          "output_type": "execute_result",
          "data": {
            "text/plain": [
              "0.998534760926958"
            ]
          },
          "metadata": {},
          "execution_count": 41
        }
      ]
    },
    {
      "cell_type": "code",
      "source": [
        "df_good['Time1'].value_counts()"
      ],
      "metadata": {
        "colab": {
          "base_uri": "https://localhost:8080/"
        },
        "id": "IA4HXEgmVWAw",
        "outputId": "ec6e8190-a91c-4d56-bf08-6351609d4b89"
      },
      "execution_count": null,
      "outputs": [
        {
          "output_type": "execute_result",
          "data": {
            "text/plain": [
              "1    778838\n",
              "2    726168\n",
              "0    327084\n",
              "3    213310\n",
              "Name: Time1, dtype: int64"
            ]
          },
          "metadata": {},
          "execution_count": 42
        }
      ]
    },
    {
      "cell_type": "code",
      "source": [
        "(726168+778838)/2045400 "
      ],
      "metadata": {
        "colab": {
          "base_uri": "https://localhost:8080/"
        },
        "id": "RAVvEW_cVcXI",
        "outputId": "62c8da3b-f701-46d9-941f-a74bc5fb8ec1"
      },
      "execution_count": null,
      "outputs": [
        {
          "output_type": "execute_result",
          "data": {
            "text/plain": [
              "0.7358003324533099"
            ]
          },
          "metadata": {},
          "execution_count": 43
        }
      ]
    },
    {
      "cell_type": "code",
      "source": [
        "df_good['Date1'].value_counts()"
      ],
      "metadata": {
        "colab": {
          "base_uri": "https://localhost:8080/"
        },
        "id": "E1UaARxpVlfO",
        "outputId": "ed09aea2-dcd0-4e31-d3ee-b20d2b0bed4e"
      },
      "execution_count": null,
      "outputs": [
        {
          "output_type": "execute_result",
          "data": {
            "text/plain": [
              "0    995711\n",
              "1    712508\n",
              "2    337181\n",
              "Name: Date1, dtype: int64"
            ]
          },
          "metadata": {},
          "execution_count": 44
        }
      ]
    },
    {
      "cell_type": "code",
      "source": [
        " 995711/2045400 "
      ],
      "metadata": {
        "colab": {
          "base_uri": "https://localhost:8080/"
        },
        "id": "R55-MEh_WNzT",
        "outputId": "fd092832-6b6a-40d1-94dc-9c2dad2c3e46"
      },
      "execution_count": null,
      "outputs": [
        {
          "output_type": "execute_result",
          "data": {
            "text/plain": [
              "0.4868050259118021"
            ]
          },
          "metadata": {},
          "execution_count": 45
        }
      ]
    },
    {
      "cell_type": "code",
      "source": [
        "712508/2045400 "
      ],
      "metadata": {
        "colab": {
          "base_uri": "https://localhost:8080/"
        },
        "id": "OSyjeThtWSXs",
        "outputId": "29370378-c2b4-46a9-b4b6-0a08b1e160af"
      },
      "execution_count": null,
      "outputs": [
        {
          "output_type": "execute_result",
          "data": {
            "text/plain": [
              "0.34834653368534274"
            ]
          },
          "metadata": {},
          "execution_count": 46
        }
      ]
    },
    {
      "cell_type": "code",
      "source": [
        "337181/2045400 "
      ],
      "metadata": {
        "colab": {
          "base_uri": "https://localhost:8080/"
        },
        "id": "XDTxlciAWWOg",
        "outputId": "b7bc91c3-68fd-4673-cc3d-4b57bbbc966b"
      },
      "execution_count": null,
      "outputs": [
        {
          "output_type": "execute_result",
          "data": {
            "text/plain": [
              "0.16484844040285518"
            ]
          },
          "metadata": {},
          "execution_count": 47
        }
      ]
    },
    {
      "cell_type": "code",
      "source": [
        "df1['Time1'].value_counts()"
      ],
      "metadata": {
        "colab": {
          "base_uri": "https://localhost:8080/"
        },
        "id": "JiCOqC-YZ4DG",
        "outputId": "55a4d9a1-d459-491f-ae12-e008fcac46f0"
      },
      "execution_count": null,
      "outputs": [
        {
          "output_type": "execute_result",
          "data": {
            "text/plain": [
              "1    806307\n",
              "2    753719\n",
              "0    340388\n",
              "3    223586\n",
              "Name: Time1, dtype: int64"
            ]
          },
          "metadata": {},
          "execution_count": 48
        }
      ]
    },
    {
      "cell_type": "code",
      "source": [
        "df1['Date1'].value_counts()"
      ],
      "metadata": {
        "colab": {
          "base_uri": "https://localhost:8080/"
        },
        "id": "ZmDFpj9EfZi7",
        "outputId": "2eb8af41-32ef-4108-a5ff-406bf88ca288"
      },
      "execution_count": null,
      "outputs": [
        {
          "output_type": "execute_result",
          "data": {
            "text/plain": [
              "0    1037989\n",
              "1     737510\n",
              "2     348501\n",
              "Name: Date1, dtype: int64"
            ]
          },
          "metadata": {},
          "execution_count": 49
        }
      ]
    },
    {
      "cell_type": "code",
      "source": [
        "df1['target'].value_counts()"
      ],
      "metadata": {
        "colab": {
          "base_uri": "https://localhost:8080/"
        },
        "id": "u8jVXdrrF9G0",
        "outputId": "9a30c838-feb5-495d-c0ff-efee4f5683de"
      },
      "execution_count": null,
      "outputs": [
        {
          "output_type": "execute_result",
          "data": {
            "text/plain": [
              "0    2045400\n",
              "1      78600\n",
              "Name: target, dtype: int64"
            ]
          },
          "metadata": {},
          "execution_count": 50
        }
      ]
    },
    {
      "cell_type": "code",
      "source": [
        "df_good['user_id'].value_counts().mean()"
      ],
      "metadata": {
        "colab": {
          "base_uri": "https://localhost:8080/"
        },
        "id": "LMNm3ToQXDsu",
        "outputId": "e1ff0fa2-9067-40b5-da9b-f4fb4af82e9e"
      },
      "execution_count": null,
      "outputs": [
        {
          "output_type": "execute_result",
          "data": {
            "text/plain": [
              "300.0"
            ]
          },
          "metadata": {},
          "execution_count": 51
        }
      ]
    },
    {
      "cell_type": "code",
      "source": [
        "df_bad['transaction_amt'].describe()"
      ],
      "metadata": {
        "colab": {
          "base_uri": "https://localhost:8080/"
        },
        "id": "MMD-Zx1yXtV1",
        "outputId": "142b43d2-cfb9-4e8d-d4dd-6e355fe14078"
      },
      "execution_count": null,
      "outputs": [
        {
          "output_type": "execute_result",
          "data": {
            "text/plain": [
              "count     78600.000000\n",
              "mean      -1578.547090\n",
              "std        8161.614448\n",
              "min     -213524.230000\n",
              "25%        -951.574480\n",
              "50%        -339.820220\n",
              "75%        -132.409030\n",
              "max      277471.530000\n",
              "Name: transaction_amt, dtype: float64"
            ]
          },
          "metadata": {},
          "execution_count": 52
        }
      ]
    },
    {
      "cell_type": "code",
      "source": [
        "#6012 bad 7% good 3% "
      ],
      "metadata": {
        "id": "iwrNhSKv_tlg"
      },
      "execution_count": null,
      "outputs": []
    },
    {
      "cell_type": "code",
      "source": [
        "mcc"
      ],
      "metadata": {
        "colab": {
          "base_uri": "https://localhost:8080/",
          "height": 424
        },
        "id": "Ele7hNAeBEqO",
        "outputId": "43d44b5f-6997-4e78-c76b-3db53458c3d2"
      },
      "execution_count": null,
      "outputs": [
        {
          "output_type": "execute_result",
          "data": {
            "text/plain": [
              "      MCC                                           Название  \\\n",
              "0     742                                Ветеринарные услуги   \n",
              "1     763                   Сельскохозяйственные кооперативы   \n",
              "2     780          Услуги садоводства и ландшафтного дизайна   \n",
              "3    1520  Генеральные подрядчики – жилое и коммерческое ...   \n",
              "4    1711  Генеральные подрядчики по вентиляции, теплосна...   \n",
              "..    ...                                                ...   \n",
              "380  9311                                  Налоговые платежи   \n",
              "381  9399  Государственные услуги - нигде более не класси...   \n",
              "382  9402           Почтовые услуги – только государственные   \n",
              "383  9405  Внутригосударственные закупки - только государ...   \n",
              "384  9406                Государственные лотереи (кроме США)   \n",
              "\n",
              "                                              Описание  \n",
              "0    Лицензированные специалисты в основном занимаю...  \n",
              "1    Ассоциации и кооперативы, которые предоставляю...  \n",
              "2    Ландшафтные архитекторы и другие поставщики ус...  \n",
              "3    Генеральные подрядчики, в основном занимающиес...  \n",
              "4    Специальные торговые подрядчики, которые работ...  \n",
              "..                                                 ...  \n",
              "380  Местные, региональные и федеральные организаци...  \n",
              "381  Торговые точки, предоставляющие правительству ...  \n",
              "382  Государственные почтовые отделения, включая ме...  \n",
              "383  Определяет транзакции между правительственными...  \n",
              "384  Государственные лотереи, которые зарегистриров...  \n",
              "\n",
              "[385 rows x 3 columns]"
            ],
            "text/html": [
              "\n",
              "  <div id=\"df-1b51ee54-d465-4436-8b54-11791955671e\">\n",
              "    <div class=\"colab-df-container\">\n",
              "      <div>\n",
              "<style scoped>\n",
              "    .dataframe tbody tr th:only-of-type {\n",
              "        vertical-align: middle;\n",
              "    }\n",
              "\n",
              "    .dataframe tbody tr th {\n",
              "        vertical-align: top;\n",
              "    }\n",
              "\n",
              "    .dataframe thead th {\n",
              "        text-align: right;\n",
              "    }\n",
              "</style>\n",
              "<table border=\"1\" class=\"dataframe\">\n",
              "  <thead>\n",
              "    <tr style=\"text-align: right;\">\n",
              "      <th></th>\n",
              "      <th>MCC</th>\n",
              "      <th>Название</th>\n",
              "      <th>Описание</th>\n",
              "    </tr>\n",
              "  </thead>\n",
              "  <tbody>\n",
              "    <tr>\n",
              "      <th>0</th>\n",
              "      <td>742</td>\n",
              "      <td>Ветеринарные услуги</td>\n",
              "      <td>Лицензированные специалисты в основном занимаю...</td>\n",
              "    </tr>\n",
              "    <tr>\n",
              "      <th>1</th>\n",
              "      <td>763</td>\n",
              "      <td>Сельскохозяйственные кооперативы</td>\n",
              "      <td>Ассоциации и кооперативы, которые предоставляю...</td>\n",
              "    </tr>\n",
              "    <tr>\n",
              "      <th>2</th>\n",
              "      <td>780</td>\n",
              "      <td>Услуги садоводства и ландшафтного дизайна</td>\n",
              "      <td>Ландшафтные архитекторы и другие поставщики ус...</td>\n",
              "    </tr>\n",
              "    <tr>\n",
              "      <th>3</th>\n",
              "      <td>1520</td>\n",
              "      <td>Генеральные подрядчики – жилое и коммерческое ...</td>\n",
              "      <td>Генеральные подрядчики, в основном занимающиес...</td>\n",
              "    </tr>\n",
              "    <tr>\n",
              "      <th>4</th>\n",
              "      <td>1711</td>\n",
              "      <td>Генеральные подрядчики по вентиляции, теплосна...</td>\n",
              "      <td>Специальные торговые подрядчики, которые работ...</td>\n",
              "    </tr>\n",
              "    <tr>\n",
              "      <th>...</th>\n",
              "      <td>...</td>\n",
              "      <td>...</td>\n",
              "      <td>...</td>\n",
              "    </tr>\n",
              "    <tr>\n",
              "      <th>380</th>\n",
              "      <td>9311</td>\n",
              "      <td>Налоговые платежи</td>\n",
              "      <td>Местные, региональные и федеральные организаци...</td>\n",
              "    </tr>\n",
              "    <tr>\n",
              "      <th>381</th>\n",
              "      <td>9399</td>\n",
              "      <td>Государственные услуги - нигде более не класси...</td>\n",
              "      <td>Торговые точки, предоставляющие правительству ...</td>\n",
              "    </tr>\n",
              "    <tr>\n",
              "      <th>382</th>\n",
              "      <td>9402</td>\n",
              "      <td>Почтовые услуги – только государственные</td>\n",
              "      <td>Государственные почтовые отделения, включая ме...</td>\n",
              "    </tr>\n",
              "    <tr>\n",
              "      <th>383</th>\n",
              "      <td>9405</td>\n",
              "      <td>Внутригосударственные закупки - только государ...</td>\n",
              "      <td>Определяет транзакции между правительственными...</td>\n",
              "    </tr>\n",
              "    <tr>\n",
              "      <th>384</th>\n",
              "      <td>9406</td>\n",
              "      <td>Государственные лотереи (кроме США)</td>\n",
              "      <td>Государственные лотереи, которые зарегистриров...</td>\n",
              "    </tr>\n",
              "  </tbody>\n",
              "</table>\n",
              "<p>385 rows × 3 columns</p>\n",
              "</div>\n",
              "      <button class=\"colab-df-convert\" onclick=\"convertToInteractive('df-1b51ee54-d465-4436-8b54-11791955671e')\"\n",
              "              title=\"Convert this dataframe to an interactive table.\"\n",
              "              style=\"display:none;\">\n",
              "        \n",
              "  <svg xmlns=\"http://www.w3.org/2000/svg\" height=\"24px\"viewBox=\"0 0 24 24\"\n",
              "       width=\"24px\">\n",
              "    <path d=\"M0 0h24v24H0V0z\" fill=\"none\"/>\n",
              "    <path d=\"M18.56 5.44l.94 2.06.94-2.06 2.06-.94-2.06-.94-.94-2.06-.94 2.06-2.06.94zm-11 1L8.5 8.5l.94-2.06 2.06-.94-2.06-.94L8.5 2.5l-.94 2.06-2.06.94zm10 10l.94 2.06.94-2.06 2.06-.94-2.06-.94-.94-2.06-.94 2.06-2.06.94z\"/><path d=\"M17.41 7.96l-1.37-1.37c-.4-.4-.92-.59-1.43-.59-.52 0-1.04.2-1.43.59L10.3 9.45l-7.72 7.72c-.78.78-.78 2.05 0 2.83L4 21.41c.39.39.9.59 1.41.59.51 0 1.02-.2 1.41-.59l7.78-7.78 2.81-2.81c.8-.78.8-2.07 0-2.86zM5.41 20L4 18.59l7.72-7.72 1.47 1.35L5.41 20z\"/>\n",
              "  </svg>\n",
              "      </button>\n",
              "      \n",
              "  <style>\n",
              "    .colab-df-container {\n",
              "      display:flex;\n",
              "      flex-wrap:wrap;\n",
              "      gap: 12px;\n",
              "    }\n",
              "\n",
              "    .colab-df-convert {\n",
              "      background-color: #E8F0FE;\n",
              "      border: none;\n",
              "      border-radius: 50%;\n",
              "      cursor: pointer;\n",
              "      display: none;\n",
              "      fill: #1967D2;\n",
              "      height: 32px;\n",
              "      padding: 0 0 0 0;\n",
              "      width: 32px;\n",
              "    }\n",
              "\n",
              "    .colab-df-convert:hover {\n",
              "      background-color: #E2EBFA;\n",
              "      box-shadow: 0px 1px 2px rgba(60, 64, 67, 0.3), 0px 1px 3px 1px rgba(60, 64, 67, 0.15);\n",
              "      fill: #174EA6;\n",
              "    }\n",
              "\n",
              "    [theme=dark] .colab-df-convert {\n",
              "      background-color: #3B4455;\n",
              "      fill: #D2E3FC;\n",
              "    }\n",
              "\n",
              "    [theme=dark] .colab-df-convert:hover {\n",
              "      background-color: #434B5C;\n",
              "      box-shadow: 0px 1px 3px 1px rgba(0, 0, 0, 0.15);\n",
              "      filter: drop-shadow(0px 1px 2px rgba(0, 0, 0, 0.3));\n",
              "      fill: #FFFFFF;\n",
              "    }\n",
              "  </style>\n",
              "\n",
              "      <script>\n",
              "        const buttonEl =\n",
              "          document.querySelector('#df-1b51ee54-d465-4436-8b54-11791955671e button.colab-df-convert');\n",
              "        buttonEl.style.display =\n",
              "          google.colab.kernel.accessAllowed ? 'block' : 'none';\n",
              "\n",
              "        async function convertToInteractive(key) {\n",
              "          const element = document.querySelector('#df-1b51ee54-d465-4436-8b54-11791955671e');\n",
              "          const dataTable =\n",
              "            await google.colab.kernel.invokeFunction('convertToInteractive',\n",
              "                                                     [key], {});\n",
              "          if (!dataTable) return;\n",
              "\n",
              "          const docLinkHtml = 'Like what you see? Visit the ' +\n",
              "            '<a target=\"_blank\" href=https://colab.research.google.com/notebooks/data_table.ipynb>data table notebook</a>'\n",
              "            + ' to learn more about interactive tables.';\n",
              "          element.innerHTML = '';\n",
              "          dataTable['output_type'] = 'display_data';\n",
              "          await google.colab.output.renderOutput(dataTable, element);\n",
              "          const docLink = document.createElement('div');\n",
              "          docLink.innerHTML = docLinkHtml;\n",
              "          element.appendChild(docLink);\n",
              "        }\n",
              "      </script>\n",
              "    </div>\n",
              "  </div>\n",
              "  "
            ]
          },
          "metadata": {},
          "execution_count": 96
        }
      ]
    },
    {
      "cell_type": "code",
      "source": [
        "mcc[mcc.MCC == 6012]"
      ],
      "metadata": {
        "colab": {
          "base_uri": "https://localhost:8080/",
          "height": 81
        },
        "id": "Lfsg8vGFA98E",
        "outputId": "a531469c-ed1e-4419-e500-99d5db32cdde"
      },
      "execution_count": null,
      "outputs": [
        {
          "output_type": "execute_result",
          "data": {
            "text/plain": [
              "      MCC                                   Название  \\\n",
              "264  6012  Финансовые учреждения – торговля и услуги   \n",
              "\n",
              "                                              Описание  \n",
              "264  Покупка товаров или услуг в финансовых учрежде...  "
            ],
            "text/html": [
              "\n",
              "  <div id=\"df-706771f2-5599-44aa-80bd-1d9ad592a1a7\">\n",
              "    <div class=\"colab-df-container\">\n",
              "      <div>\n",
              "<style scoped>\n",
              "    .dataframe tbody tr th:only-of-type {\n",
              "        vertical-align: middle;\n",
              "    }\n",
              "\n",
              "    .dataframe tbody tr th {\n",
              "        vertical-align: top;\n",
              "    }\n",
              "\n",
              "    .dataframe thead th {\n",
              "        text-align: right;\n",
              "    }\n",
              "</style>\n",
              "<table border=\"1\" class=\"dataframe\">\n",
              "  <thead>\n",
              "    <tr style=\"text-align: right;\">\n",
              "      <th></th>\n",
              "      <th>MCC</th>\n",
              "      <th>Название</th>\n",
              "      <th>Описание</th>\n",
              "    </tr>\n",
              "  </thead>\n",
              "  <tbody>\n",
              "    <tr>\n",
              "      <th>264</th>\n",
              "      <td>6012</td>\n",
              "      <td>Финансовые учреждения – торговля и услуги</td>\n",
              "      <td>Покупка товаров или услуг в финансовых учрежде...</td>\n",
              "    </tr>\n",
              "  </tbody>\n",
              "</table>\n",
              "</div>\n",
              "      <button class=\"colab-df-convert\" onclick=\"convertToInteractive('df-706771f2-5599-44aa-80bd-1d9ad592a1a7')\"\n",
              "              title=\"Convert this dataframe to an interactive table.\"\n",
              "              style=\"display:none;\">\n",
              "        \n",
              "  <svg xmlns=\"http://www.w3.org/2000/svg\" height=\"24px\"viewBox=\"0 0 24 24\"\n",
              "       width=\"24px\">\n",
              "    <path d=\"M0 0h24v24H0V0z\" fill=\"none\"/>\n",
              "    <path d=\"M18.56 5.44l.94 2.06.94-2.06 2.06-.94-2.06-.94-.94-2.06-.94 2.06-2.06.94zm-11 1L8.5 8.5l.94-2.06 2.06-.94-2.06-.94L8.5 2.5l-.94 2.06-2.06.94zm10 10l.94 2.06.94-2.06 2.06-.94-2.06-.94-.94-2.06-.94 2.06-2.06.94z\"/><path d=\"M17.41 7.96l-1.37-1.37c-.4-.4-.92-.59-1.43-.59-.52 0-1.04.2-1.43.59L10.3 9.45l-7.72 7.72c-.78.78-.78 2.05 0 2.83L4 21.41c.39.39.9.59 1.41.59.51 0 1.02-.2 1.41-.59l7.78-7.78 2.81-2.81c.8-.78.8-2.07 0-2.86zM5.41 20L4 18.59l7.72-7.72 1.47 1.35L5.41 20z\"/>\n",
              "  </svg>\n",
              "      </button>\n",
              "      \n",
              "  <style>\n",
              "    .colab-df-container {\n",
              "      display:flex;\n",
              "      flex-wrap:wrap;\n",
              "      gap: 12px;\n",
              "    }\n",
              "\n",
              "    .colab-df-convert {\n",
              "      background-color: #E8F0FE;\n",
              "      border: none;\n",
              "      border-radius: 50%;\n",
              "      cursor: pointer;\n",
              "      display: none;\n",
              "      fill: #1967D2;\n",
              "      height: 32px;\n",
              "      padding: 0 0 0 0;\n",
              "      width: 32px;\n",
              "    }\n",
              "\n",
              "    .colab-df-convert:hover {\n",
              "      background-color: #E2EBFA;\n",
              "      box-shadow: 0px 1px 2px rgba(60, 64, 67, 0.3), 0px 1px 3px 1px rgba(60, 64, 67, 0.15);\n",
              "      fill: #174EA6;\n",
              "    }\n",
              "\n",
              "    [theme=dark] .colab-df-convert {\n",
              "      background-color: #3B4455;\n",
              "      fill: #D2E3FC;\n",
              "    }\n",
              "\n",
              "    [theme=dark] .colab-df-convert:hover {\n",
              "      background-color: #434B5C;\n",
              "      box-shadow: 0px 1px 3px 1px rgba(0, 0, 0, 0.15);\n",
              "      filter: drop-shadow(0px 1px 2px rgba(0, 0, 0, 0.3));\n",
              "      fill: #FFFFFF;\n",
              "    }\n",
              "  </style>\n",
              "\n",
              "      <script>\n",
              "        const buttonEl =\n",
              "          document.querySelector('#df-706771f2-5599-44aa-80bd-1d9ad592a1a7 button.colab-df-convert');\n",
              "        buttonEl.style.display =\n",
              "          google.colab.kernel.accessAllowed ? 'block' : 'none';\n",
              "\n",
              "        async function convertToInteractive(key) {\n",
              "          const element = document.querySelector('#df-706771f2-5599-44aa-80bd-1d9ad592a1a7');\n",
              "          const dataTable =\n",
              "            await google.colab.kernel.invokeFunction('convertToInteractive',\n",
              "                                                     [key], {});\n",
              "          if (!dataTable) return;\n",
              "\n",
              "          const docLinkHtml = 'Like what you see? Visit the ' +\n",
              "            '<a target=\"_blank\" href=https://colab.research.google.com/notebooks/data_table.ipynb>data table notebook</a>'\n",
              "            + ' to learn more about interactive tables.';\n",
              "          element.innerHTML = '';\n",
              "          dataTable['output_type'] = 'display_data';\n",
              "          await google.colab.output.renderOutput(dataTable, element);\n",
              "          const docLink = document.createElement('div');\n",
              "          docLink.innerHTML = docLinkHtml;\n",
              "          element.appendChild(docLink);\n",
              "        }\n",
              "      </script>\n",
              "    </div>\n",
              "  </div>\n",
              "  "
            ]
          },
          "metadata": {},
          "execution_count": 97
        }
      ]
    },
    {
      "cell_type": "code",
      "source": [
        "df_bad['mcc_code'].value_counts().head(20)"
      ],
      "metadata": {
        "colab": {
          "base_uri": "https://localhost:8080/"
        },
        "id": "RfLIRt2nbz8H",
        "outputId": "b58d733c-5702-4a89-a74e-81fa10efdc78"
      },
      "execution_count": null,
      "outputs": [
        {
          "output_type": "execute_result",
          "data": {
            "text/plain": [
              "5411    20685\n",
              "5499     7485\n",
              "6011     6658\n",
              "6012     5424\n",
              "5814     4941\n",
              "5921     3385\n",
              "5541     2592\n",
              "4121     2330\n",
              "4131     2272\n",
              "5912     2006\n",
              "6538     1513\n",
              "5812     1173\n",
              "5331     1087\n",
              "4829      976\n",
              "4111      832\n",
              "5200      766\n",
              "5311      681\n",
              "5993      658\n",
              "5999      644\n",
              "4814      600\n",
              "Name: mcc_code, dtype: int64"
            ]
          },
          "metadata": {},
          "execution_count": 88
        }
      ]
    },
    {
      "cell_type": "code",
      "source": [
        "5424/78600"
      ],
      "metadata": {
        "colab": {
          "base_uri": "https://localhost:8080/"
        },
        "id": "6h2MKFfiAniz",
        "outputId": "169aeb50-2262-48da-bf52-9d3c16dd1d74"
      },
      "execution_count": null,
      "outputs": [
        {
          "output_type": "execute_result",
          "data": {
            "text/plain": [
              "0.06900763358778626"
            ]
          },
          "metadata": {},
          "execution_count": 91
        }
      ]
    },
    {
      "cell_type": "code",
      "source": [
        "df_good['mcc_code'].value_counts().head(20)"
      ],
      "metadata": {
        "colab": {
          "base_uri": "https://localhost:8080/"
        },
        "id": "ioY2_HXB_bTt",
        "outputId": "60f0b869-a68e-421e-e72c-0c171eaea9c2"
      },
      "execution_count": null,
      "outputs": [
        {
          "output_type": "execute_result",
          "data": {
            "text/plain": [
              "5411    596873\n",
              "5499    185187\n",
              "6011    160438\n",
              "5814    139373\n",
              "5541     80881\n",
              "5921     77592\n",
              "5912     66811\n",
              "6012     57915\n",
              "4131     50778\n",
              "4121     41301\n",
              "5812     40625\n",
              "5331     29410\n",
              "5200     26671\n",
              "6538     24403\n",
              "4111     24296\n",
              "4829     22663\n",
              "5691     20203\n",
              "5311     18945\n",
              "5999     16520\n",
              "5211     16103\n",
              "Name: mcc_code, dtype: int64"
            ]
          },
          "metadata": {},
          "execution_count": 89
        }
      ]
    },
    {
      "cell_type": "code",
      "source": [
        "df_good[df_good.mcc_code == 6012]"
      ],
      "metadata": {
        "colab": {
          "base_uri": "https://localhost:8080/",
          "height": 424
        },
        "id": "h9CWNGmbAXnB",
        "outputId": "60f9b95b-1ec1-4137-dd75-1d570f6be4f4"
      },
      "execution_count": null,
      "outputs": [
        {
          "output_type": "execute_result",
          "data": {
            "text/plain": [
              "         user_id  mcc_code  currency_rk  transaction_amt     transaction_dttm  \\\n",
              "1028         400      6012            0      -1413.84400  2020-06-10 06:39:41   \n",
              "1049         400      6012            0      -8706.36300  2020-06-14 12:21:08   \n",
              "1069         400      6012            0      -1943.95130  2020-07-12 11:10:01   \n",
              "1079         400      6012            0     -10784.86300  2020-09-15 20:15:11   \n",
              "1080         400      6012            0      -7655.78030  2020-09-15 21:21:31   \n",
              "...          ...       ...          ...              ...                  ...   \n",
              "2123925   868949      6012            0       -464.46520  2021-01-28 11:38:46   \n",
              "2123926   868949      6012            0       -181.50587  2021-01-28 13:23:47   \n",
              "2123927   868949      6012            0       -931.51240  2021-01-28 15:22:38   \n",
              "2123928   868949      6012            0       -367.60413  2021-01-28 20:40:44   \n",
              "2123929   868949      6012            0      -1055.32960  2021-01-28 21:56:36   \n",
              "\n",
              "         target      Dates                Time  Time1  Date1  \n",
              "1028          0 2020-06-10 1900-01-01 06:39:41      1      0  \n",
              "1049          0 2020-06-14 1900-01-01 12:21:08      2      0  \n",
              "1069          0 2020-07-12 1900-01-01 11:10:01      1      0  \n",
              "1079          0 2020-09-15 1900-01-01 20:15:11      3      0  \n",
              "1080          0 2020-09-15 1900-01-01 21:21:31      3      0  \n",
              "...         ...        ...                 ...    ...    ...  \n",
              "2123925       0 2021-01-28 1900-01-01 11:38:46      1      0  \n",
              "2123926       0 2021-01-28 1900-01-01 13:23:47      2      0  \n",
              "2123927       0 2021-01-28 1900-01-01 15:22:38      2      0  \n",
              "2123928       0 2021-01-28 1900-01-01 20:40:44      3      0  \n",
              "2123929       0 2021-01-28 1900-01-01 21:56:36      3      0  \n",
              "\n",
              "[57915 rows x 10 columns]"
            ],
            "text/html": [
              "\n",
              "  <div id=\"df-7ec39f19-75f3-4c03-a246-b2420dc42ee0\">\n",
              "    <div class=\"colab-df-container\">\n",
              "      <div>\n",
              "<style scoped>\n",
              "    .dataframe tbody tr th:only-of-type {\n",
              "        vertical-align: middle;\n",
              "    }\n",
              "\n",
              "    .dataframe tbody tr th {\n",
              "        vertical-align: top;\n",
              "    }\n",
              "\n",
              "    .dataframe thead th {\n",
              "        text-align: right;\n",
              "    }\n",
              "</style>\n",
              "<table border=\"1\" class=\"dataframe\">\n",
              "  <thead>\n",
              "    <tr style=\"text-align: right;\">\n",
              "      <th></th>\n",
              "      <th>user_id</th>\n",
              "      <th>mcc_code</th>\n",
              "      <th>currency_rk</th>\n",
              "      <th>transaction_amt</th>\n",
              "      <th>transaction_dttm</th>\n",
              "      <th>target</th>\n",
              "      <th>Dates</th>\n",
              "      <th>Time</th>\n",
              "      <th>Time1</th>\n",
              "      <th>Date1</th>\n",
              "    </tr>\n",
              "  </thead>\n",
              "  <tbody>\n",
              "    <tr>\n",
              "      <th>1028</th>\n",
              "      <td>400</td>\n",
              "      <td>6012</td>\n",
              "      <td>0</td>\n",
              "      <td>-1413.84400</td>\n",
              "      <td>2020-06-10 06:39:41</td>\n",
              "      <td>0</td>\n",
              "      <td>2020-06-10</td>\n",
              "      <td>1900-01-01 06:39:41</td>\n",
              "      <td>1</td>\n",
              "      <td>0</td>\n",
              "    </tr>\n",
              "    <tr>\n",
              "      <th>1049</th>\n",
              "      <td>400</td>\n",
              "      <td>6012</td>\n",
              "      <td>0</td>\n",
              "      <td>-8706.36300</td>\n",
              "      <td>2020-06-14 12:21:08</td>\n",
              "      <td>0</td>\n",
              "      <td>2020-06-14</td>\n",
              "      <td>1900-01-01 12:21:08</td>\n",
              "      <td>2</td>\n",
              "      <td>0</td>\n",
              "    </tr>\n",
              "    <tr>\n",
              "      <th>1069</th>\n",
              "      <td>400</td>\n",
              "      <td>6012</td>\n",
              "      <td>0</td>\n",
              "      <td>-1943.95130</td>\n",
              "      <td>2020-07-12 11:10:01</td>\n",
              "      <td>0</td>\n",
              "      <td>2020-07-12</td>\n",
              "      <td>1900-01-01 11:10:01</td>\n",
              "      <td>1</td>\n",
              "      <td>0</td>\n",
              "    </tr>\n",
              "    <tr>\n",
              "      <th>1079</th>\n",
              "      <td>400</td>\n",
              "      <td>6012</td>\n",
              "      <td>0</td>\n",
              "      <td>-10784.86300</td>\n",
              "      <td>2020-09-15 20:15:11</td>\n",
              "      <td>0</td>\n",
              "      <td>2020-09-15</td>\n",
              "      <td>1900-01-01 20:15:11</td>\n",
              "      <td>3</td>\n",
              "      <td>0</td>\n",
              "    </tr>\n",
              "    <tr>\n",
              "      <th>1080</th>\n",
              "      <td>400</td>\n",
              "      <td>6012</td>\n",
              "      <td>0</td>\n",
              "      <td>-7655.78030</td>\n",
              "      <td>2020-09-15 21:21:31</td>\n",
              "      <td>0</td>\n",
              "      <td>2020-09-15</td>\n",
              "      <td>1900-01-01 21:21:31</td>\n",
              "      <td>3</td>\n",
              "      <td>0</td>\n",
              "    </tr>\n",
              "    <tr>\n",
              "      <th>...</th>\n",
              "      <td>...</td>\n",
              "      <td>...</td>\n",
              "      <td>...</td>\n",
              "      <td>...</td>\n",
              "      <td>...</td>\n",
              "      <td>...</td>\n",
              "      <td>...</td>\n",
              "      <td>...</td>\n",
              "      <td>...</td>\n",
              "      <td>...</td>\n",
              "    </tr>\n",
              "    <tr>\n",
              "      <th>2123925</th>\n",
              "      <td>868949</td>\n",
              "      <td>6012</td>\n",
              "      <td>0</td>\n",
              "      <td>-464.46520</td>\n",
              "      <td>2021-01-28 11:38:46</td>\n",
              "      <td>0</td>\n",
              "      <td>2021-01-28</td>\n",
              "      <td>1900-01-01 11:38:46</td>\n",
              "      <td>1</td>\n",
              "      <td>0</td>\n",
              "    </tr>\n",
              "    <tr>\n",
              "      <th>2123926</th>\n",
              "      <td>868949</td>\n",
              "      <td>6012</td>\n",
              "      <td>0</td>\n",
              "      <td>-181.50587</td>\n",
              "      <td>2021-01-28 13:23:47</td>\n",
              "      <td>0</td>\n",
              "      <td>2021-01-28</td>\n",
              "      <td>1900-01-01 13:23:47</td>\n",
              "      <td>2</td>\n",
              "      <td>0</td>\n",
              "    </tr>\n",
              "    <tr>\n",
              "      <th>2123927</th>\n",
              "      <td>868949</td>\n",
              "      <td>6012</td>\n",
              "      <td>0</td>\n",
              "      <td>-931.51240</td>\n",
              "      <td>2021-01-28 15:22:38</td>\n",
              "      <td>0</td>\n",
              "      <td>2021-01-28</td>\n",
              "      <td>1900-01-01 15:22:38</td>\n",
              "      <td>2</td>\n",
              "      <td>0</td>\n",
              "    </tr>\n",
              "    <tr>\n",
              "      <th>2123928</th>\n",
              "      <td>868949</td>\n",
              "      <td>6012</td>\n",
              "      <td>0</td>\n",
              "      <td>-367.60413</td>\n",
              "      <td>2021-01-28 20:40:44</td>\n",
              "      <td>0</td>\n",
              "      <td>2021-01-28</td>\n",
              "      <td>1900-01-01 20:40:44</td>\n",
              "      <td>3</td>\n",
              "      <td>0</td>\n",
              "    </tr>\n",
              "    <tr>\n",
              "      <th>2123929</th>\n",
              "      <td>868949</td>\n",
              "      <td>6012</td>\n",
              "      <td>0</td>\n",
              "      <td>-1055.32960</td>\n",
              "      <td>2021-01-28 21:56:36</td>\n",
              "      <td>0</td>\n",
              "      <td>2021-01-28</td>\n",
              "      <td>1900-01-01 21:56:36</td>\n",
              "      <td>3</td>\n",
              "      <td>0</td>\n",
              "    </tr>\n",
              "  </tbody>\n",
              "</table>\n",
              "<p>57915 rows × 10 columns</p>\n",
              "</div>\n",
              "      <button class=\"colab-df-convert\" onclick=\"convertToInteractive('df-7ec39f19-75f3-4c03-a246-b2420dc42ee0')\"\n",
              "              title=\"Convert this dataframe to an interactive table.\"\n",
              "              style=\"display:none;\">\n",
              "        \n",
              "  <svg xmlns=\"http://www.w3.org/2000/svg\" height=\"24px\"viewBox=\"0 0 24 24\"\n",
              "       width=\"24px\">\n",
              "    <path d=\"M0 0h24v24H0V0z\" fill=\"none\"/>\n",
              "    <path d=\"M18.56 5.44l.94 2.06.94-2.06 2.06-.94-2.06-.94-.94-2.06-.94 2.06-2.06.94zm-11 1L8.5 8.5l.94-2.06 2.06-.94-2.06-.94L8.5 2.5l-.94 2.06-2.06.94zm10 10l.94 2.06.94-2.06 2.06-.94-2.06-.94-.94-2.06-.94 2.06-2.06.94z\"/><path d=\"M17.41 7.96l-1.37-1.37c-.4-.4-.92-.59-1.43-.59-.52 0-1.04.2-1.43.59L10.3 9.45l-7.72 7.72c-.78.78-.78 2.05 0 2.83L4 21.41c.39.39.9.59 1.41.59.51 0 1.02-.2 1.41-.59l7.78-7.78 2.81-2.81c.8-.78.8-2.07 0-2.86zM5.41 20L4 18.59l7.72-7.72 1.47 1.35L5.41 20z\"/>\n",
              "  </svg>\n",
              "      </button>\n",
              "      \n",
              "  <style>\n",
              "    .colab-df-container {\n",
              "      display:flex;\n",
              "      flex-wrap:wrap;\n",
              "      gap: 12px;\n",
              "    }\n",
              "\n",
              "    .colab-df-convert {\n",
              "      background-color: #E8F0FE;\n",
              "      border: none;\n",
              "      border-radius: 50%;\n",
              "      cursor: pointer;\n",
              "      display: none;\n",
              "      fill: #1967D2;\n",
              "      height: 32px;\n",
              "      padding: 0 0 0 0;\n",
              "      width: 32px;\n",
              "    }\n",
              "\n",
              "    .colab-df-convert:hover {\n",
              "      background-color: #E2EBFA;\n",
              "      box-shadow: 0px 1px 2px rgba(60, 64, 67, 0.3), 0px 1px 3px 1px rgba(60, 64, 67, 0.15);\n",
              "      fill: #174EA6;\n",
              "    }\n",
              "\n",
              "    [theme=dark] .colab-df-convert {\n",
              "      background-color: #3B4455;\n",
              "      fill: #D2E3FC;\n",
              "    }\n",
              "\n",
              "    [theme=dark] .colab-df-convert:hover {\n",
              "      background-color: #434B5C;\n",
              "      box-shadow: 0px 1px 3px 1px rgba(0, 0, 0, 0.15);\n",
              "      filter: drop-shadow(0px 1px 2px rgba(0, 0, 0, 0.3));\n",
              "      fill: #FFFFFF;\n",
              "    }\n",
              "  </style>\n",
              "\n",
              "      <script>\n",
              "        const buttonEl =\n",
              "          document.querySelector('#df-7ec39f19-75f3-4c03-a246-b2420dc42ee0 button.colab-df-convert');\n",
              "        buttonEl.style.display =\n",
              "          google.colab.kernel.accessAllowed ? 'block' : 'none';\n",
              "\n",
              "        async function convertToInteractive(key) {\n",
              "          const element = document.querySelector('#df-7ec39f19-75f3-4c03-a246-b2420dc42ee0');\n",
              "          const dataTable =\n",
              "            await google.colab.kernel.invokeFunction('convertToInteractive',\n",
              "                                                     [key], {});\n",
              "          if (!dataTable) return;\n",
              "\n",
              "          const docLinkHtml = 'Like what you see? Visit the ' +\n",
              "            '<a target=\"_blank\" href=https://colab.research.google.com/notebooks/data_table.ipynb>data table notebook</a>'\n",
              "            + ' to learn more about interactive tables.';\n",
              "          element.innerHTML = '';\n",
              "          dataTable['output_type'] = 'display_data';\n",
              "          await google.colab.output.renderOutput(dataTable, element);\n",
              "          const docLink = document.createElement('div');\n",
              "          docLink.innerHTML = docLinkHtml;\n",
              "          element.appendChild(docLink);\n",
              "        }\n",
              "      </script>\n",
              "    </div>\n",
              "  </div>\n",
              "  "
            ]
          },
          "metadata": {},
          "execution_count": 90
        }
      ]
    },
    {
      "cell_type": "code",
      "source": [
        "57915/2045400 "
      ],
      "metadata": {
        "colab": {
          "base_uri": "https://localhost:8080/"
        },
        "id": "_DI9Kx9qAvof",
        "outputId": "6a2bad1a-a502-4032-a896-219ed195427a"
      },
      "execution_count": null,
      "outputs": [
        {
          "output_type": "execute_result",
          "data": {
            "text/plain": [
              "0.028314755060134936"
            ]
          },
          "metadata": {},
          "execution_count": 93
        }
      ]
    },
    {
      "cell_type": "code",
      "source": [
        " 20685/78600"
      ],
      "metadata": {
        "colab": {
          "base_uri": "https://localhost:8080/"
        },
        "id": "GBjC2e3W_Hx-",
        "outputId": "d276bafa-3461-4939-9132-15302d841072"
      },
      "execution_count": null,
      "outputs": [
        {
          "output_type": "execute_result",
          "data": {
            "text/plain": [
              "0.2631679389312977"
            ]
          },
          "metadata": {},
          "execution_count": 81
        }
      ]
    },
    {
      "cell_type": "code",
      "source": [
        "7485/78600"
      ],
      "metadata": {
        "colab": {
          "base_uri": "https://localhost:8080/"
        },
        "id": "jD3eD0IL_WLA",
        "outputId": "233eba99-ebe1-4df5-dc77-348fea4051bd"
      },
      "execution_count": null,
      "outputs": [
        {
          "output_type": "execute_result",
          "data": {
            "text/plain": [
              "0.09522900763358778"
            ]
          },
          "metadata": {},
          "execution_count": 82
        }
      ]
    },
    {
      "cell_type": "code",
      "source": [
        " 596873/2045400 "
      ],
      "metadata": {
        "colab": {
          "base_uri": "https://localhost:8080/"
        },
        "id": "Wq0mb8oq_ZYc",
        "outputId": "8fdf5f8e-f182-453b-9c01-d9c1c85f46ad"
      },
      "execution_count": null,
      "outputs": [
        {
          "output_type": "execute_result",
          "data": {
            "text/plain": [
              "0.2918123594406962"
            ]
          },
          "metadata": {},
          "execution_count": 84
        }
      ]
    },
    {
      "cell_type": "code",
      "source": [
        "185187/2045400 "
      ],
      "metadata": {
        "colab": {
          "base_uri": "https://localhost:8080/"
        },
        "id": "N_xWTXbY_jCU",
        "outputId": "85742549-f3fc-4363-ba0a-7b2f13c76686"
      },
      "execution_count": null,
      "outputs": [
        {
          "output_type": "execute_result",
          "data": {
            "text/plain": [
              "0.09053828102082723"
            ]
          },
          "metadata": {},
          "execution_count": 85
        }
      ]
    },
    {
      "cell_type": "code",
      "source": [],
      "metadata": {
        "id": "BUSwbnqu_pxl"
      },
      "execution_count": null,
      "outputs": []
    },
    {
      "cell_type": "code",
      "source": [
        "df_bad_minus = df_bad[df_bad['transaction_amt'] < 0]\n",
        "df_bad_minus"
      ],
      "metadata": {
        "colab": {
          "base_uri": "https://localhost:8080/",
          "height": 424
        },
        "id": "2EANgMwGYWqw",
        "outputId": "930c4b40-08de-4d18-c734-99455ee28e13"
      },
      "execution_count": null,
      "outputs": [
        {
          "output_type": "execute_result",
          "data": {
            "text/plain": [
              "         user_id  mcc_code  currency_rk  transaction_amt     transaction_dttm  \\\n",
              "17700       6727      5812            0      -119.201940  2020-01-22 00:33:23   \n",
              "17701       6727      5812            0      -105.445720  2020-01-23 00:54:32   \n",
              "17702       6727      5411            0      -479.609250  2020-01-23 13:43:22   \n",
              "17703       6727      5411            0      -170.652160  2020-01-23 16:02:34   \n",
              "17704       6727      5921            0      -211.669370  2020-01-23 16:12:36   \n",
              "...          ...       ...          ...              ...                  ...   \n",
              "2116495   865335      5814            0      -396.510440  2021-05-30 00:15:16   \n",
              "2116496   865335      4121            0       -91.077835  2021-05-30 12:19:39   \n",
              "2116497   865335      5411            0     -1217.889400  2021-05-30 15:59:09   \n",
              "2116498   865335      4816            0       -25.079805  2021-05-31 09:19:29   \n",
              "2116499   865335      5499            0      -114.984150  2021-06-08 11:18:30   \n",
              "\n",
              "         target      Dates                Time  Time1  Date1  \n",
              "17700         1 2020-01-22 1900-01-01 00:33:23      0      0  \n",
              "17701         1 2020-01-23 1900-01-01 00:54:32      0      0  \n",
              "17702         1 2020-01-23 1900-01-01 13:43:22      2      0  \n",
              "17703         1 2020-01-23 1900-01-01 16:02:34      2      0  \n",
              "17704         1 2020-01-23 1900-01-01 16:12:36      2      0  \n",
              "...         ...        ...                 ...    ...    ...  \n",
              "2116495       1 2021-05-30 1900-01-01 00:15:16      0      1  \n",
              "2116496       1 2021-05-30 1900-01-01 12:19:39      2      1  \n",
              "2116497       1 2021-05-30 1900-01-01 15:59:09      2      1  \n",
              "2116498       1 2021-05-31 1900-01-01 09:19:29      1      1  \n",
              "2116499       1 2021-06-08 1900-01-01 11:18:30      1      2  \n",
              "\n",
              "[77150 rows x 10 columns]"
            ],
            "text/html": [
              "\n",
              "  <div id=\"df-ec9e584b-e9b8-4009-a20d-f70bc1239afc\">\n",
              "    <div class=\"colab-df-container\">\n",
              "      <div>\n",
              "<style scoped>\n",
              "    .dataframe tbody tr th:only-of-type {\n",
              "        vertical-align: middle;\n",
              "    }\n",
              "\n",
              "    .dataframe tbody tr th {\n",
              "        vertical-align: top;\n",
              "    }\n",
              "\n",
              "    .dataframe thead th {\n",
              "        text-align: right;\n",
              "    }\n",
              "</style>\n",
              "<table border=\"1\" class=\"dataframe\">\n",
              "  <thead>\n",
              "    <tr style=\"text-align: right;\">\n",
              "      <th></th>\n",
              "      <th>user_id</th>\n",
              "      <th>mcc_code</th>\n",
              "      <th>currency_rk</th>\n",
              "      <th>transaction_amt</th>\n",
              "      <th>transaction_dttm</th>\n",
              "      <th>target</th>\n",
              "      <th>Dates</th>\n",
              "      <th>Time</th>\n",
              "      <th>Time1</th>\n",
              "      <th>Date1</th>\n",
              "    </tr>\n",
              "  </thead>\n",
              "  <tbody>\n",
              "    <tr>\n",
              "      <th>17700</th>\n",
              "      <td>6727</td>\n",
              "      <td>5812</td>\n",
              "      <td>0</td>\n",
              "      <td>-119.201940</td>\n",
              "      <td>2020-01-22 00:33:23</td>\n",
              "      <td>1</td>\n",
              "      <td>2020-01-22</td>\n",
              "      <td>1900-01-01 00:33:23</td>\n",
              "      <td>0</td>\n",
              "      <td>0</td>\n",
              "    </tr>\n",
              "    <tr>\n",
              "      <th>17701</th>\n",
              "      <td>6727</td>\n",
              "      <td>5812</td>\n",
              "      <td>0</td>\n",
              "      <td>-105.445720</td>\n",
              "      <td>2020-01-23 00:54:32</td>\n",
              "      <td>1</td>\n",
              "      <td>2020-01-23</td>\n",
              "      <td>1900-01-01 00:54:32</td>\n",
              "      <td>0</td>\n",
              "      <td>0</td>\n",
              "    </tr>\n",
              "    <tr>\n",
              "      <th>17702</th>\n",
              "      <td>6727</td>\n",
              "      <td>5411</td>\n",
              "      <td>0</td>\n",
              "      <td>-479.609250</td>\n",
              "      <td>2020-01-23 13:43:22</td>\n",
              "      <td>1</td>\n",
              "      <td>2020-01-23</td>\n",
              "      <td>1900-01-01 13:43:22</td>\n",
              "      <td>2</td>\n",
              "      <td>0</td>\n",
              "    </tr>\n",
              "    <tr>\n",
              "      <th>17703</th>\n",
              "      <td>6727</td>\n",
              "      <td>5411</td>\n",
              "      <td>0</td>\n",
              "      <td>-170.652160</td>\n",
              "      <td>2020-01-23 16:02:34</td>\n",
              "      <td>1</td>\n",
              "      <td>2020-01-23</td>\n",
              "      <td>1900-01-01 16:02:34</td>\n",
              "      <td>2</td>\n",
              "      <td>0</td>\n",
              "    </tr>\n",
              "    <tr>\n",
              "      <th>17704</th>\n",
              "      <td>6727</td>\n",
              "      <td>5921</td>\n",
              "      <td>0</td>\n",
              "      <td>-211.669370</td>\n",
              "      <td>2020-01-23 16:12:36</td>\n",
              "      <td>1</td>\n",
              "      <td>2020-01-23</td>\n",
              "      <td>1900-01-01 16:12:36</td>\n",
              "      <td>2</td>\n",
              "      <td>0</td>\n",
              "    </tr>\n",
              "    <tr>\n",
              "      <th>...</th>\n",
              "      <td>...</td>\n",
              "      <td>...</td>\n",
              "      <td>...</td>\n",
              "      <td>...</td>\n",
              "      <td>...</td>\n",
              "      <td>...</td>\n",
              "      <td>...</td>\n",
              "      <td>...</td>\n",
              "      <td>...</td>\n",
              "      <td>...</td>\n",
              "    </tr>\n",
              "    <tr>\n",
              "      <th>2116495</th>\n",
              "      <td>865335</td>\n",
              "      <td>5814</td>\n",
              "      <td>0</td>\n",
              "      <td>-396.510440</td>\n",
              "      <td>2021-05-30 00:15:16</td>\n",
              "      <td>1</td>\n",
              "      <td>2021-05-30</td>\n",
              "      <td>1900-01-01 00:15:16</td>\n",
              "      <td>0</td>\n",
              "      <td>1</td>\n",
              "    </tr>\n",
              "    <tr>\n",
              "      <th>2116496</th>\n",
              "      <td>865335</td>\n",
              "      <td>4121</td>\n",
              "      <td>0</td>\n",
              "      <td>-91.077835</td>\n",
              "      <td>2021-05-30 12:19:39</td>\n",
              "      <td>1</td>\n",
              "      <td>2021-05-30</td>\n",
              "      <td>1900-01-01 12:19:39</td>\n",
              "      <td>2</td>\n",
              "      <td>1</td>\n",
              "    </tr>\n",
              "    <tr>\n",
              "      <th>2116497</th>\n",
              "      <td>865335</td>\n",
              "      <td>5411</td>\n",
              "      <td>0</td>\n",
              "      <td>-1217.889400</td>\n",
              "      <td>2021-05-30 15:59:09</td>\n",
              "      <td>1</td>\n",
              "      <td>2021-05-30</td>\n",
              "      <td>1900-01-01 15:59:09</td>\n",
              "      <td>2</td>\n",
              "      <td>1</td>\n",
              "    </tr>\n",
              "    <tr>\n",
              "      <th>2116498</th>\n",
              "      <td>865335</td>\n",
              "      <td>4816</td>\n",
              "      <td>0</td>\n",
              "      <td>-25.079805</td>\n",
              "      <td>2021-05-31 09:19:29</td>\n",
              "      <td>1</td>\n",
              "      <td>2021-05-31</td>\n",
              "      <td>1900-01-01 09:19:29</td>\n",
              "      <td>1</td>\n",
              "      <td>1</td>\n",
              "    </tr>\n",
              "    <tr>\n",
              "      <th>2116499</th>\n",
              "      <td>865335</td>\n",
              "      <td>5499</td>\n",
              "      <td>0</td>\n",
              "      <td>-114.984150</td>\n",
              "      <td>2021-06-08 11:18:30</td>\n",
              "      <td>1</td>\n",
              "      <td>2021-06-08</td>\n",
              "      <td>1900-01-01 11:18:30</td>\n",
              "      <td>1</td>\n",
              "      <td>2</td>\n",
              "    </tr>\n",
              "  </tbody>\n",
              "</table>\n",
              "<p>77150 rows × 10 columns</p>\n",
              "</div>\n",
              "      <button class=\"colab-df-convert\" onclick=\"convertToInteractive('df-ec9e584b-e9b8-4009-a20d-f70bc1239afc')\"\n",
              "              title=\"Convert this dataframe to an interactive table.\"\n",
              "              style=\"display:none;\">\n",
              "        \n",
              "  <svg xmlns=\"http://www.w3.org/2000/svg\" height=\"24px\"viewBox=\"0 0 24 24\"\n",
              "       width=\"24px\">\n",
              "    <path d=\"M0 0h24v24H0V0z\" fill=\"none\"/>\n",
              "    <path d=\"M18.56 5.44l.94 2.06.94-2.06 2.06-.94-2.06-.94-.94-2.06-.94 2.06-2.06.94zm-11 1L8.5 8.5l.94-2.06 2.06-.94-2.06-.94L8.5 2.5l-.94 2.06-2.06.94zm10 10l.94 2.06.94-2.06 2.06-.94-2.06-.94-.94-2.06-.94 2.06-2.06.94z\"/><path d=\"M17.41 7.96l-1.37-1.37c-.4-.4-.92-.59-1.43-.59-.52 0-1.04.2-1.43.59L10.3 9.45l-7.72 7.72c-.78.78-.78 2.05 0 2.83L4 21.41c.39.39.9.59 1.41.59.51 0 1.02-.2 1.41-.59l7.78-7.78 2.81-2.81c.8-.78.8-2.07 0-2.86zM5.41 20L4 18.59l7.72-7.72 1.47 1.35L5.41 20z\"/>\n",
              "  </svg>\n",
              "      </button>\n",
              "      \n",
              "  <style>\n",
              "    .colab-df-container {\n",
              "      display:flex;\n",
              "      flex-wrap:wrap;\n",
              "      gap: 12px;\n",
              "    }\n",
              "\n",
              "    .colab-df-convert {\n",
              "      background-color: #E8F0FE;\n",
              "      border: none;\n",
              "      border-radius: 50%;\n",
              "      cursor: pointer;\n",
              "      display: none;\n",
              "      fill: #1967D2;\n",
              "      height: 32px;\n",
              "      padding: 0 0 0 0;\n",
              "      width: 32px;\n",
              "    }\n",
              "\n",
              "    .colab-df-convert:hover {\n",
              "      background-color: #E2EBFA;\n",
              "      box-shadow: 0px 1px 2px rgba(60, 64, 67, 0.3), 0px 1px 3px 1px rgba(60, 64, 67, 0.15);\n",
              "      fill: #174EA6;\n",
              "    }\n",
              "\n",
              "    [theme=dark] .colab-df-convert {\n",
              "      background-color: #3B4455;\n",
              "      fill: #D2E3FC;\n",
              "    }\n",
              "\n",
              "    [theme=dark] .colab-df-convert:hover {\n",
              "      background-color: #434B5C;\n",
              "      box-shadow: 0px 1px 3px 1px rgba(0, 0, 0, 0.15);\n",
              "      filter: drop-shadow(0px 1px 2px rgba(0, 0, 0, 0.3));\n",
              "      fill: #FFFFFF;\n",
              "    }\n",
              "  </style>\n",
              "\n",
              "      <script>\n",
              "        const buttonEl =\n",
              "          document.querySelector('#df-ec9e584b-e9b8-4009-a20d-f70bc1239afc button.colab-df-convert');\n",
              "        buttonEl.style.display =\n",
              "          google.colab.kernel.accessAllowed ? 'block' : 'none';\n",
              "\n",
              "        async function convertToInteractive(key) {\n",
              "          const element = document.querySelector('#df-ec9e584b-e9b8-4009-a20d-f70bc1239afc');\n",
              "          const dataTable =\n",
              "            await google.colab.kernel.invokeFunction('convertToInteractive',\n",
              "                                                     [key], {});\n",
              "          if (!dataTable) return;\n",
              "\n",
              "          const docLinkHtml = 'Like what you see? Visit the ' +\n",
              "            '<a target=\"_blank\" href=https://colab.research.google.com/notebooks/data_table.ipynb>data table notebook</a>'\n",
              "            + ' to learn more about interactive tables.';\n",
              "          element.innerHTML = '';\n",
              "          dataTable['output_type'] = 'display_data';\n",
              "          await google.colab.output.renderOutput(dataTable, element);\n",
              "          const docLink = document.createElement('div');\n",
              "          docLink.innerHTML = docLinkHtml;\n",
              "          element.appendChild(docLink);\n",
              "        }\n",
              "      </script>\n",
              "    </div>\n",
              "  </div>\n",
              "  "
            ]
          },
          "metadata": {},
          "execution_count": 54
        }
      ]
    },
    {
      "cell_type": "code",
      "source": [
        "df_bad_minus['transaction_amt'].describe()"
      ],
      "metadata": {
        "colab": {
          "base_uri": "https://localhost:8080/"
        },
        "id": "FHecuWDXaBh6",
        "outputId": "3fc67c23-d737-4131-e472-6df0cf99c322"
      },
      "execution_count": null,
      "outputs": [
        {
          "output_type": "execute_result",
          "data": {
            "text/plain": [
              "count     77150.000000\n",
              "mean      -1845.253574\n",
              "std        7179.701323\n",
              "min     -213524.230000\n",
              "25%        -975.066400\n",
              "50%        -354.166000\n",
              "75%        -140.077010\n",
              "max          -0.900497\n",
              "Name: transaction_amt, dtype: float64"
            ]
          },
          "metadata": {},
          "execution_count": 55
        }
      ]
    },
    {
      "cell_type": "code",
      "source": [
        "77150/78600 "
      ],
      "metadata": {
        "colab": {
          "base_uri": "https://localhost:8080/"
        },
        "id": "bkmvEd0dZzbD",
        "outputId": "94f504a3-a642-48a6-86af-5ca39f83b28b"
      },
      "execution_count": null,
      "outputs": [
        {
          "output_type": "execute_result",
          "data": {
            "text/plain": [
              "0.9815521628498728"
            ]
          },
          "metadata": {},
          "execution_count": 56
        }
      ]
    },
    {
      "cell_type": "code",
      "source": [
        "df_bad_plus = df_bad[df_bad['transaction_amt'] > 0]\n",
        "df_bad_plus"
      ],
      "metadata": {
        "colab": {
          "base_uri": "https://localhost:8080/",
          "height": 424
        },
        "id": "8rHhSd9GZZKl",
        "outputId": "f437c467-9b31-4963-b084-74b03c1a7c65"
      },
      "execution_count": null,
      "outputs": [
        {
          "output_type": "execute_result",
          "data": {
            "text/plain": [
              "         user_id  mcc_code  currency_rk  transaction_amt     transaction_dttm  \\\n",
              "23406       9058      5992            0         86.64580  2020-04-27 07:19:29   \n",
              "23559       9058      5411            0        132.65947  2021-04-09 15:38:41   \n",
              "25526       9678      5814            0        213.14339  2021-01-20 20:31:11   \n",
              "25529       9678        -1            0      16382.94700  2021-01-21 14:21:25   \n",
              "25547       9678      4112            0       3429.54690  2021-02-04 00:43:00   \n",
              "...          ...       ...          ...              ...                  ...   \n",
              "2098806   857133      4829            0      19904.88000  2020-11-05 15:50:42   \n",
              "2098837   857133      5691            0       2821.37700  2020-11-15 13:16:21   \n",
              "2116206   865335      5651            0         83.26156  2020-10-13 22:42:40   \n",
              "2116248   865335      5411            0        139.50713  2021-01-01 09:25:20   \n",
              "2116264   865335      5200            0      12377.87200  2021-01-21 08:26:51   \n",
              "\n",
              "         target      Dates                Time  Time1  Date1  \n",
              "23406         1 2020-04-27 1900-01-01 07:19:29      1      0  \n",
              "23559         1 2021-04-09 1900-01-01 15:38:41      2      1  \n",
              "25526         1 2021-01-20 1900-01-01 20:31:11      3      0  \n",
              "25529         1 2021-01-21 1900-01-01 14:21:25      2      0  \n",
              "25547         1 2021-02-04 1900-01-01 00:43:00      0      0  \n",
              "...         ...        ...                 ...    ...    ...  \n",
              "2098806       1 2020-11-05 1900-01-01 15:50:42      2      0  \n",
              "2098837       1 2020-11-15 1900-01-01 13:16:21      2      0  \n",
              "2116206       1 2020-10-13 1900-01-01 22:42:40      3      0  \n",
              "2116248       1 2021-01-01 1900-01-01 09:25:20      1      0  \n",
              "2116264       1 2021-01-21 1900-01-01 08:26:51      1      0  \n",
              "\n",
              "[1450 rows x 10 columns]"
            ],
            "text/html": [
              "\n",
              "  <div id=\"df-24f7c64b-0ab8-4990-b06e-a00de70897e1\">\n",
              "    <div class=\"colab-df-container\">\n",
              "      <div>\n",
              "<style scoped>\n",
              "    .dataframe tbody tr th:only-of-type {\n",
              "        vertical-align: middle;\n",
              "    }\n",
              "\n",
              "    .dataframe tbody tr th {\n",
              "        vertical-align: top;\n",
              "    }\n",
              "\n",
              "    .dataframe thead th {\n",
              "        text-align: right;\n",
              "    }\n",
              "</style>\n",
              "<table border=\"1\" class=\"dataframe\">\n",
              "  <thead>\n",
              "    <tr style=\"text-align: right;\">\n",
              "      <th></th>\n",
              "      <th>user_id</th>\n",
              "      <th>mcc_code</th>\n",
              "      <th>currency_rk</th>\n",
              "      <th>transaction_amt</th>\n",
              "      <th>transaction_dttm</th>\n",
              "      <th>target</th>\n",
              "      <th>Dates</th>\n",
              "      <th>Time</th>\n",
              "      <th>Time1</th>\n",
              "      <th>Date1</th>\n",
              "    </tr>\n",
              "  </thead>\n",
              "  <tbody>\n",
              "    <tr>\n",
              "      <th>23406</th>\n",
              "      <td>9058</td>\n",
              "      <td>5992</td>\n",
              "      <td>0</td>\n",
              "      <td>86.64580</td>\n",
              "      <td>2020-04-27 07:19:29</td>\n",
              "      <td>1</td>\n",
              "      <td>2020-04-27</td>\n",
              "      <td>1900-01-01 07:19:29</td>\n",
              "      <td>1</td>\n",
              "      <td>0</td>\n",
              "    </tr>\n",
              "    <tr>\n",
              "      <th>23559</th>\n",
              "      <td>9058</td>\n",
              "      <td>5411</td>\n",
              "      <td>0</td>\n",
              "      <td>132.65947</td>\n",
              "      <td>2021-04-09 15:38:41</td>\n",
              "      <td>1</td>\n",
              "      <td>2021-04-09</td>\n",
              "      <td>1900-01-01 15:38:41</td>\n",
              "      <td>2</td>\n",
              "      <td>1</td>\n",
              "    </tr>\n",
              "    <tr>\n",
              "      <th>25526</th>\n",
              "      <td>9678</td>\n",
              "      <td>5814</td>\n",
              "      <td>0</td>\n",
              "      <td>213.14339</td>\n",
              "      <td>2021-01-20 20:31:11</td>\n",
              "      <td>1</td>\n",
              "      <td>2021-01-20</td>\n",
              "      <td>1900-01-01 20:31:11</td>\n",
              "      <td>3</td>\n",
              "      <td>0</td>\n",
              "    </tr>\n",
              "    <tr>\n",
              "      <th>25529</th>\n",
              "      <td>9678</td>\n",
              "      <td>-1</td>\n",
              "      <td>0</td>\n",
              "      <td>16382.94700</td>\n",
              "      <td>2021-01-21 14:21:25</td>\n",
              "      <td>1</td>\n",
              "      <td>2021-01-21</td>\n",
              "      <td>1900-01-01 14:21:25</td>\n",
              "      <td>2</td>\n",
              "      <td>0</td>\n",
              "    </tr>\n",
              "    <tr>\n",
              "      <th>25547</th>\n",
              "      <td>9678</td>\n",
              "      <td>4112</td>\n",
              "      <td>0</td>\n",
              "      <td>3429.54690</td>\n",
              "      <td>2021-02-04 00:43:00</td>\n",
              "      <td>1</td>\n",
              "      <td>2021-02-04</td>\n",
              "      <td>1900-01-01 00:43:00</td>\n",
              "      <td>0</td>\n",
              "      <td>0</td>\n",
              "    </tr>\n",
              "    <tr>\n",
              "      <th>...</th>\n",
              "      <td>...</td>\n",
              "      <td>...</td>\n",
              "      <td>...</td>\n",
              "      <td>...</td>\n",
              "      <td>...</td>\n",
              "      <td>...</td>\n",
              "      <td>...</td>\n",
              "      <td>...</td>\n",
              "      <td>...</td>\n",
              "      <td>...</td>\n",
              "    </tr>\n",
              "    <tr>\n",
              "      <th>2098806</th>\n",
              "      <td>857133</td>\n",
              "      <td>4829</td>\n",
              "      <td>0</td>\n",
              "      <td>19904.88000</td>\n",
              "      <td>2020-11-05 15:50:42</td>\n",
              "      <td>1</td>\n",
              "      <td>2020-11-05</td>\n",
              "      <td>1900-01-01 15:50:42</td>\n",
              "      <td>2</td>\n",
              "      <td>0</td>\n",
              "    </tr>\n",
              "    <tr>\n",
              "      <th>2098837</th>\n",
              "      <td>857133</td>\n",
              "      <td>5691</td>\n",
              "      <td>0</td>\n",
              "      <td>2821.37700</td>\n",
              "      <td>2020-11-15 13:16:21</td>\n",
              "      <td>1</td>\n",
              "      <td>2020-11-15</td>\n",
              "      <td>1900-01-01 13:16:21</td>\n",
              "      <td>2</td>\n",
              "      <td>0</td>\n",
              "    </tr>\n",
              "    <tr>\n",
              "      <th>2116206</th>\n",
              "      <td>865335</td>\n",
              "      <td>5651</td>\n",
              "      <td>0</td>\n",
              "      <td>83.26156</td>\n",
              "      <td>2020-10-13 22:42:40</td>\n",
              "      <td>1</td>\n",
              "      <td>2020-10-13</td>\n",
              "      <td>1900-01-01 22:42:40</td>\n",
              "      <td>3</td>\n",
              "      <td>0</td>\n",
              "    </tr>\n",
              "    <tr>\n",
              "      <th>2116248</th>\n",
              "      <td>865335</td>\n",
              "      <td>5411</td>\n",
              "      <td>0</td>\n",
              "      <td>139.50713</td>\n",
              "      <td>2021-01-01 09:25:20</td>\n",
              "      <td>1</td>\n",
              "      <td>2021-01-01</td>\n",
              "      <td>1900-01-01 09:25:20</td>\n",
              "      <td>1</td>\n",
              "      <td>0</td>\n",
              "    </tr>\n",
              "    <tr>\n",
              "      <th>2116264</th>\n",
              "      <td>865335</td>\n",
              "      <td>5200</td>\n",
              "      <td>0</td>\n",
              "      <td>12377.87200</td>\n",
              "      <td>2021-01-21 08:26:51</td>\n",
              "      <td>1</td>\n",
              "      <td>2021-01-21</td>\n",
              "      <td>1900-01-01 08:26:51</td>\n",
              "      <td>1</td>\n",
              "      <td>0</td>\n",
              "    </tr>\n",
              "  </tbody>\n",
              "</table>\n",
              "<p>1450 rows × 10 columns</p>\n",
              "</div>\n",
              "      <button class=\"colab-df-convert\" onclick=\"convertToInteractive('df-24f7c64b-0ab8-4990-b06e-a00de70897e1')\"\n",
              "              title=\"Convert this dataframe to an interactive table.\"\n",
              "              style=\"display:none;\">\n",
              "        \n",
              "  <svg xmlns=\"http://www.w3.org/2000/svg\" height=\"24px\"viewBox=\"0 0 24 24\"\n",
              "       width=\"24px\">\n",
              "    <path d=\"M0 0h24v24H0V0z\" fill=\"none\"/>\n",
              "    <path d=\"M18.56 5.44l.94 2.06.94-2.06 2.06-.94-2.06-.94-.94-2.06-.94 2.06-2.06.94zm-11 1L8.5 8.5l.94-2.06 2.06-.94-2.06-.94L8.5 2.5l-.94 2.06-2.06.94zm10 10l.94 2.06.94-2.06 2.06-.94-2.06-.94-.94-2.06-.94 2.06-2.06.94z\"/><path d=\"M17.41 7.96l-1.37-1.37c-.4-.4-.92-.59-1.43-.59-.52 0-1.04.2-1.43.59L10.3 9.45l-7.72 7.72c-.78.78-.78 2.05 0 2.83L4 21.41c.39.39.9.59 1.41.59.51 0 1.02-.2 1.41-.59l7.78-7.78 2.81-2.81c.8-.78.8-2.07 0-2.86zM5.41 20L4 18.59l7.72-7.72 1.47 1.35L5.41 20z\"/>\n",
              "  </svg>\n",
              "      </button>\n",
              "      \n",
              "  <style>\n",
              "    .colab-df-container {\n",
              "      display:flex;\n",
              "      flex-wrap:wrap;\n",
              "      gap: 12px;\n",
              "    }\n",
              "\n",
              "    .colab-df-convert {\n",
              "      background-color: #E8F0FE;\n",
              "      border: none;\n",
              "      border-radius: 50%;\n",
              "      cursor: pointer;\n",
              "      display: none;\n",
              "      fill: #1967D2;\n",
              "      height: 32px;\n",
              "      padding: 0 0 0 0;\n",
              "      width: 32px;\n",
              "    }\n",
              "\n",
              "    .colab-df-convert:hover {\n",
              "      background-color: #E2EBFA;\n",
              "      box-shadow: 0px 1px 2px rgba(60, 64, 67, 0.3), 0px 1px 3px 1px rgba(60, 64, 67, 0.15);\n",
              "      fill: #174EA6;\n",
              "    }\n",
              "\n",
              "    [theme=dark] .colab-df-convert {\n",
              "      background-color: #3B4455;\n",
              "      fill: #D2E3FC;\n",
              "    }\n",
              "\n",
              "    [theme=dark] .colab-df-convert:hover {\n",
              "      background-color: #434B5C;\n",
              "      box-shadow: 0px 1px 3px 1px rgba(0, 0, 0, 0.15);\n",
              "      filter: drop-shadow(0px 1px 2px rgba(0, 0, 0, 0.3));\n",
              "      fill: #FFFFFF;\n",
              "    }\n",
              "  </style>\n",
              "\n",
              "      <script>\n",
              "        const buttonEl =\n",
              "          document.querySelector('#df-24f7c64b-0ab8-4990-b06e-a00de70897e1 button.colab-df-convert');\n",
              "        buttonEl.style.display =\n",
              "          google.colab.kernel.accessAllowed ? 'block' : 'none';\n",
              "\n",
              "        async function convertToInteractive(key) {\n",
              "          const element = document.querySelector('#df-24f7c64b-0ab8-4990-b06e-a00de70897e1');\n",
              "          const dataTable =\n",
              "            await google.colab.kernel.invokeFunction('convertToInteractive',\n",
              "                                                     [key], {});\n",
              "          if (!dataTable) return;\n",
              "\n",
              "          const docLinkHtml = 'Like what you see? Visit the ' +\n",
              "            '<a target=\"_blank\" href=https://colab.research.google.com/notebooks/data_table.ipynb>data table notebook</a>'\n",
              "            + ' to learn more about interactive tables.';\n",
              "          element.innerHTML = '';\n",
              "          dataTable['output_type'] = 'display_data';\n",
              "          await google.colab.output.renderOutput(dataTable, element);\n",
              "          const docLink = document.createElement('div');\n",
              "          docLink.innerHTML = docLinkHtml;\n",
              "          element.appendChild(docLink);\n",
              "        }\n",
              "      </script>\n",
              "    </div>\n",
              "  </div>\n",
              "  "
            ]
          },
          "metadata": {},
          "execution_count": 57
        }
      ]
    },
    {
      "cell_type": "code",
      "source": [
        "df_good_minus = df_good[df_good['transaction_amt'] < 0]\n",
        "df_good_minus"
      ],
      "metadata": {
        "colab": {
          "base_uri": "https://localhost:8080/",
          "height": 424
        },
        "id": "k-bhcypgZdkq",
        "outputId": "eb57a8ad-cc64-4d75-ca7e-6b5a50f1014c"
      },
      "execution_count": null,
      "outputs": [
        {
          "output_type": "execute_result",
          "data": {
            "text/plain": [
              "         user_id  mcc_code  currency_rk  transaction_amt     transaction_dttm  \\\n",
              "0             69      5541            0       -342.89792  2021-03-05 02:52:36   \n",
              "1             69      5533            0      -1251.88120  2021-03-05 09:43:28   \n",
              "2             69      5331            0        -87.30924  2021-03-05 11:17:23   \n",
              "3             69      5921            0      -1822.17700  2021-03-05 13:41:03   \n",
              "4             69      5311            0       -427.12363  2021-03-05 19:14:23   \n",
              "...          ...       ...          ...              ...                  ...   \n",
              "2123995   868949      5411            0       -203.11295  2021-05-11 17:05:09   \n",
              "2123996   868949      4131            0        -63.25255  2021-05-13 11:28:52   \n",
              "2123997   868949      4131            0        -40.04709  2021-05-13 11:38:42   \n",
              "2123998   868949      4131            0       -594.77850  2021-05-13 14:00:44   \n",
              "2123999   868949      5814            0       -127.33617  2021-05-13 14:17:28   \n",
              "\n",
              "         target      Dates                Time  Time1  Date1  \n",
              "0             0 2021-03-05 1900-01-01 02:52:36      0      1  \n",
              "1             0 2021-03-05 1900-01-01 09:43:28      1      1  \n",
              "2             0 2021-03-05 1900-01-01 11:17:23      1      1  \n",
              "3             0 2021-03-05 1900-01-01 13:41:03      2      1  \n",
              "4             0 2021-03-05 1900-01-01 19:14:23      3      1  \n",
              "...         ...        ...                 ...    ...    ...  \n",
              "2123995       0 2021-05-11 1900-01-01 17:05:09      2      1  \n",
              "2123996       0 2021-05-13 1900-01-01 11:28:52      1      1  \n",
              "2123997       0 2021-05-13 1900-01-01 11:38:42      1      1  \n",
              "2123998       0 2021-05-13 1900-01-01 14:00:44      2      1  \n",
              "2123999       0 2021-05-13 1900-01-01 14:17:28      2      1  \n",
              "\n",
              "[2001058 rows x 10 columns]"
            ],
            "text/html": [
              "\n",
              "  <div id=\"df-52d3769b-703b-4325-9d5d-c802828cef1f\">\n",
              "    <div class=\"colab-df-container\">\n",
              "      <div>\n",
              "<style scoped>\n",
              "    .dataframe tbody tr th:only-of-type {\n",
              "        vertical-align: middle;\n",
              "    }\n",
              "\n",
              "    .dataframe tbody tr th {\n",
              "        vertical-align: top;\n",
              "    }\n",
              "\n",
              "    .dataframe thead th {\n",
              "        text-align: right;\n",
              "    }\n",
              "</style>\n",
              "<table border=\"1\" class=\"dataframe\">\n",
              "  <thead>\n",
              "    <tr style=\"text-align: right;\">\n",
              "      <th></th>\n",
              "      <th>user_id</th>\n",
              "      <th>mcc_code</th>\n",
              "      <th>currency_rk</th>\n",
              "      <th>transaction_amt</th>\n",
              "      <th>transaction_dttm</th>\n",
              "      <th>target</th>\n",
              "      <th>Dates</th>\n",
              "      <th>Time</th>\n",
              "      <th>Time1</th>\n",
              "      <th>Date1</th>\n",
              "    </tr>\n",
              "  </thead>\n",
              "  <tbody>\n",
              "    <tr>\n",
              "      <th>0</th>\n",
              "      <td>69</td>\n",
              "      <td>5541</td>\n",
              "      <td>0</td>\n",
              "      <td>-342.89792</td>\n",
              "      <td>2021-03-05 02:52:36</td>\n",
              "      <td>0</td>\n",
              "      <td>2021-03-05</td>\n",
              "      <td>1900-01-01 02:52:36</td>\n",
              "      <td>0</td>\n",
              "      <td>1</td>\n",
              "    </tr>\n",
              "    <tr>\n",
              "      <th>1</th>\n",
              "      <td>69</td>\n",
              "      <td>5533</td>\n",
              "      <td>0</td>\n",
              "      <td>-1251.88120</td>\n",
              "      <td>2021-03-05 09:43:28</td>\n",
              "      <td>0</td>\n",
              "      <td>2021-03-05</td>\n",
              "      <td>1900-01-01 09:43:28</td>\n",
              "      <td>1</td>\n",
              "      <td>1</td>\n",
              "    </tr>\n",
              "    <tr>\n",
              "      <th>2</th>\n",
              "      <td>69</td>\n",
              "      <td>5331</td>\n",
              "      <td>0</td>\n",
              "      <td>-87.30924</td>\n",
              "      <td>2021-03-05 11:17:23</td>\n",
              "      <td>0</td>\n",
              "      <td>2021-03-05</td>\n",
              "      <td>1900-01-01 11:17:23</td>\n",
              "      <td>1</td>\n",
              "      <td>1</td>\n",
              "    </tr>\n",
              "    <tr>\n",
              "      <th>3</th>\n",
              "      <td>69</td>\n",
              "      <td>5921</td>\n",
              "      <td>0</td>\n",
              "      <td>-1822.17700</td>\n",
              "      <td>2021-03-05 13:41:03</td>\n",
              "      <td>0</td>\n",
              "      <td>2021-03-05</td>\n",
              "      <td>1900-01-01 13:41:03</td>\n",
              "      <td>2</td>\n",
              "      <td>1</td>\n",
              "    </tr>\n",
              "    <tr>\n",
              "      <th>4</th>\n",
              "      <td>69</td>\n",
              "      <td>5311</td>\n",
              "      <td>0</td>\n",
              "      <td>-427.12363</td>\n",
              "      <td>2021-03-05 19:14:23</td>\n",
              "      <td>0</td>\n",
              "      <td>2021-03-05</td>\n",
              "      <td>1900-01-01 19:14:23</td>\n",
              "      <td>3</td>\n",
              "      <td>1</td>\n",
              "    </tr>\n",
              "    <tr>\n",
              "      <th>...</th>\n",
              "      <td>...</td>\n",
              "      <td>...</td>\n",
              "      <td>...</td>\n",
              "      <td>...</td>\n",
              "      <td>...</td>\n",
              "      <td>...</td>\n",
              "      <td>...</td>\n",
              "      <td>...</td>\n",
              "      <td>...</td>\n",
              "      <td>...</td>\n",
              "    </tr>\n",
              "    <tr>\n",
              "      <th>2123995</th>\n",
              "      <td>868949</td>\n",
              "      <td>5411</td>\n",
              "      <td>0</td>\n",
              "      <td>-203.11295</td>\n",
              "      <td>2021-05-11 17:05:09</td>\n",
              "      <td>0</td>\n",
              "      <td>2021-05-11</td>\n",
              "      <td>1900-01-01 17:05:09</td>\n",
              "      <td>2</td>\n",
              "      <td>1</td>\n",
              "    </tr>\n",
              "    <tr>\n",
              "      <th>2123996</th>\n",
              "      <td>868949</td>\n",
              "      <td>4131</td>\n",
              "      <td>0</td>\n",
              "      <td>-63.25255</td>\n",
              "      <td>2021-05-13 11:28:52</td>\n",
              "      <td>0</td>\n",
              "      <td>2021-05-13</td>\n",
              "      <td>1900-01-01 11:28:52</td>\n",
              "      <td>1</td>\n",
              "      <td>1</td>\n",
              "    </tr>\n",
              "    <tr>\n",
              "      <th>2123997</th>\n",
              "      <td>868949</td>\n",
              "      <td>4131</td>\n",
              "      <td>0</td>\n",
              "      <td>-40.04709</td>\n",
              "      <td>2021-05-13 11:38:42</td>\n",
              "      <td>0</td>\n",
              "      <td>2021-05-13</td>\n",
              "      <td>1900-01-01 11:38:42</td>\n",
              "      <td>1</td>\n",
              "      <td>1</td>\n",
              "    </tr>\n",
              "    <tr>\n",
              "      <th>2123998</th>\n",
              "      <td>868949</td>\n",
              "      <td>4131</td>\n",
              "      <td>0</td>\n",
              "      <td>-594.77850</td>\n",
              "      <td>2021-05-13 14:00:44</td>\n",
              "      <td>0</td>\n",
              "      <td>2021-05-13</td>\n",
              "      <td>1900-01-01 14:00:44</td>\n",
              "      <td>2</td>\n",
              "      <td>1</td>\n",
              "    </tr>\n",
              "    <tr>\n",
              "      <th>2123999</th>\n",
              "      <td>868949</td>\n",
              "      <td>5814</td>\n",
              "      <td>0</td>\n",
              "      <td>-127.33617</td>\n",
              "      <td>2021-05-13 14:17:28</td>\n",
              "      <td>0</td>\n",
              "      <td>2021-05-13</td>\n",
              "      <td>1900-01-01 14:17:28</td>\n",
              "      <td>2</td>\n",
              "      <td>1</td>\n",
              "    </tr>\n",
              "  </tbody>\n",
              "</table>\n",
              "<p>2001058 rows × 10 columns</p>\n",
              "</div>\n",
              "      <button class=\"colab-df-convert\" onclick=\"convertToInteractive('df-52d3769b-703b-4325-9d5d-c802828cef1f')\"\n",
              "              title=\"Convert this dataframe to an interactive table.\"\n",
              "              style=\"display:none;\">\n",
              "        \n",
              "  <svg xmlns=\"http://www.w3.org/2000/svg\" height=\"24px\"viewBox=\"0 0 24 24\"\n",
              "       width=\"24px\">\n",
              "    <path d=\"M0 0h24v24H0V0z\" fill=\"none\"/>\n",
              "    <path d=\"M18.56 5.44l.94 2.06.94-2.06 2.06-.94-2.06-.94-.94-2.06-.94 2.06-2.06.94zm-11 1L8.5 8.5l.94-2.06 2.06-.94-2.06-.94L8.5 2.5l-.94 2.06-2.06.94zm10 10l.94 2.06.94-2.06 2.06-.94-2.06-.94-.94-2.06-.94 2.06-2.06.94z\"/><path d=\"M17.41 7.96l-1.37-1.37c-.4-.4-.92-.59-1.43-.59-.52 0-1.04.2-1.43.59L10.3 9.45l-7.72 7.72c-.78.78-.78 2.05 0 2.83L4 21.41c.39.39.9.59 1.41.59.51 0 1.02-.2 1.41-.59l7.78-7.78 2.81-2.81c.8-.78.8-2.07 0-2.86zM5.41 20L4 18.59l7.72-7.72 1.47 1.35L5.41 20z\"/>\n",
              "  </svg>\n",
              "      </button>\n",
              "      \n",
              "  <style>\n",
              "    .colab-df-container {\n",
              "      display:flex;\n",
              "      flex-wrap:wrap;\n",
              "      gap: 12px;\n",
              "    }\n",
              "\n",
              "    .colab-df-convert {\n",
              "      background-color: #E8F0FE;\n",
              "      border: none;\n",
              "      border-radius: 50%;\n",
              "      cursor: pointer;\n",
              "      display: none;\n",
              "      fill: #1967D2;\n",
              "      height: 32px;\n",
              "      padding: 0 0 0 0;\n",
              "      width: 32px;\n",
              "    }\n",
              "\n",
              "    .colab-df-convert:hover {\n",
              "      background-color: #E2EBFA;\n",
              "      box-shadow: 0px 1px 2px rgba(60, 64, 67, 0.3), 0px 1px 3px 1px rgba(60, 64, 67, 0.15);\n",
              "      fill: #174EA6;\n",
              "    }\n",
              "\n",
              "    [theme=dark] .colab-df-convert {\n",
              "      background-color: #3B4455;\n",
              "      fill: #D2E3FC;\n",
              "    }\n",
              "\n",
              "    [theme=dark] .colab-df-convert:hover {\n",
              "      background-color: #434B5C;\n",
              "      box-shadow: 0px 1px 3px 1px rgba(0, 0, 0, 0.15);\n",
              "      filter: drop-shadow(0px 1px 2px rgba(0, 0, 0, 0.3));\n",
              "      fill: #FFFFFF;\n",
              "    }\n",
              "  </style>\n",
              "\n",
              "      <script>\n",
              "        const buttonEl =\n",
              "          document.querySelector('#df-52d3769b-703b-4325-9d5d-c802828cef1f button.colab-df-convert');\n",
              "        buttonEl.style.display =\n",
              "          google.colab.kernel.accessAllowed ? 'block' : 'none';\n",
              "\n",
              "        async function convertToInteractive(key) {\n",
              "          const element = document.querySelector('#df-52d3769b-703b-4325-9d5d-c802828cef1f');\n",
              "          const dataTable =\n",
              "            await google.colab.kernel.invokeFunction('convertToInteractive',\n",
              "                                                     [key], {});\n",
              "          if (!dataTable) return;\n",
              "\n",
              "          const docLinkHtml = 'Like what you see? Visit the ' +\n",
              "            '<a target=\"_blank\" href=https://colab.research.google.com/notebooks/data_table.ipynb>data table notebook</a>'\n",
              "            + ' to learn more about interactive tables.';\n",
              "          element.innerHTML = '';\n",
              "          dataTable['output_type'] = 'display_data';\n",
              "          await google.colab.output.renderOutput(dataTable, element);\n",
              "          const docLink = document.createElement('div');\n",
              "          docLink.innerHTML = docLinkHtml;\n",
              "          element.appendChild(docLink);\n",
              "        }\n",
              "      </script>\n",
              "    </div>\n",
              "  </div>\n",
              "  "
            ]
          },
          "metadata": {},
          "execution_count": 58
        }
      ]
    },
    {
      "cell_type": "code",
      "source": [
        "2001058/2045400"
      ],
      "metadata": {
        "colab": {
          "base_uri": "https://localhost:8080/"
        },
        "id": "jEtlJ71HZkH2",
        "outputId": "ba1ae559-ca96-4c99-d0ad-b5672b3d6380"
      },
      "execution_count": null,
      "outputs": [
        {
          "output_type": "execute_result",
          "data": {
            "text/plain": [
              "0.9783211107851765"
            ]
          },
          "metadata": {},
          "execution_count": 59
        }
      ]
    },
    {
      "cell_type": "code",
      "source": [
        "df_good_minus['transaction_amt'].describe()"
      ],
      "metadata": {
        "colab": {
          "base_uri": "https://localhost:8080/"
        },
        "id": "tc8p6dW2aIjs",
        "outputId": "d79235f9-7a5b-44cd-9413-29221c2b8d67"
      },
      "execution_count": null,
      "outputs": [
        {
          "output_type": "execute_result",
          "data": {
            "text/plain": [
              "count    2.001058e+06\n",
              "mean    -1.893271e+03\n",
              "std      7.579367e+03\n",
              "min     -2.212341e+05\n",
              "25%     -1.000062e+03\n",
              "50%     -3.724029e+02\n",
              "75%     -1.505574e+02\n",
              "max     -8.336481e-01\n",
              "Name: transaction_amt, dtype: float64"
            ]
          },
          "metadata": {},
          "execution_count": 60
        }
      ]
    },
    {
      "cell_type": "code",
      "source": [
        "df_good['transaction_amt'].describe()"
      ],
      "metadata": {
        "colab": {
          "base_uri": "https://localhost:8080/"
        },
        "id": "pOGKiG9nXOdN",
        "outputId": "ea436247-1eda-4af4-abba-fd981981a9ff"
      },
      "execution_count": null,
      "outputs": [
        {
          "output_type": "execute_result",
          "data": {
            "text/plain": [
              "count    2.045400e+06\n",
              "mean    -1.599226e+03\n",
              "std      8.490234e+03\n",
              "min     -2.212341e+05\n",
              "25%     -9.716912e+02\n",
              "50%     -3.594934e+02\n",
              "75%     -1.402556e+02\n",
              "max      3.194730e+05\n",
              "Name: transaction_amt, dtype: float64"
            ]
          },
          "metadata": {},
          "execution_count": 61
        }
      ]
    },
    {
      "cell_type": "code",
      "source": [
        "df_good['mcc_code'].value_counts()"
      ],
      "metadata": {
        "colab": {
          "base_uri": "https://localhost:8080/"
        },
        "id": "tL6epnczYA5K",
        "outputId": "0ed497c8-a963-451b-8747-c569ccdd3a0f"
      },
      "execution_count": null,
      "outputs": [
        {
          "output_type": "execute_result",
          "data": {
            "text/plain": [
              "5411    596873\n",
              "5499    185187\n",
              "6011    160438\n",
              "5814    139373\n",
              "5541     80881\n",
              "         ...  \n",
              "3641         1\n",
              "3640         1\n",
              "7641         1\n",
              "3035         1\n",
              "3048         1\n",
              "Name: mcc_code, Length: 308, dtype: int64"
            ]
          },
          "metadata": {},
          "execution_count": 62
        }
      ]
    },
    {
      "cell_type": "markdown",
      "source": [
        "Выводы: \"Плохие\" клиенты в среднем списывают маленькие суммы в свою же очередь \"Хорошие\" Тратят намного больше"
      ],
      "metadata": {
        "id": "CkfIaTCEap1C"
      }
    },
    {
      "cell_type": "markdown",
      "source": [
        "# 2 Модели и данные для моделей\n",
        "\n"
      ],
      "metadata": {
        "id": "trEZ6VzBcqci"
      }
    },
    {
      "cell_type": "code",
      "source": [
        "k = 0.4 # задаём долю тестовых данных в нашем датасете \n",
        "mask = (np.random.random(df1.shape[0]) < k) # формируем маску для тестовых данных\n",
        "X_train = df1[~mask][df1.columns.drop(['transaction_dttm', 'Dates', 'Time', 'target', 'user_id', 'Date1'])]\n",
        "# X - признаки, на основе которых модель будет делать предсказание\n",
        "y_train = df1[~mask]['target']\n",
        "\n",
        "# y - целевой признак\n",
        "\n",
        "X_test = df1[mask][df1.columns.drop(['transaction_dttm', 'Dates', 'Time', 'target', 'user_id', 'Date1'])]\n",
        "y_test = df1[mask]['target']"
      ],
      "metadata": {
        "id": "Tu9sWMYBGjdA"
      },
      "execution_count": null,
      "outputs": []
    },
    {
      "cell_type": "code",
      "source": [
        "from sklearn.preprocessing import StandardScaler\n",
        "\n",
        "# create a StandardScaler object\n",
        "scaler = StandardScaler()\n",
        "\n",
        "# fit the scaler to your feature matrix\n",
        "scaler.fit(X_train)\n",
        "\n",
        "# transform your feature matrix using the scaler\n",
        "X_scaled = scaler.transform(X_train)\n",
        "\n",
        "X_test_scaled = scaler.transform(X_test)"
      ],
      "metadata": {
        "id": "-6-2t0vcJC-T"
      },
      "execution_count": null,
      "outputs": []
    },
    {
      "cell_type": "code",
      "source": [
        "X_scaled"
      ],
      "metadata": {
        "colab": {
          "base_uri": "https://localhost:8080/"
        },
        "id": "O3BUP5I2JaOy",
        "outputId": "2b72bbbc-e23c-4c1d-ed77-9d14789592b6"
      },
      "execution_count": null,
      "outputs": [
        {
          "output_type": "execute_result",
          "data": {
            "text/plain": [
              "array([[-1.72516237, -0.0431636 , -0.02909067, ..., -0.19609154,\n",
              "        -1.59931562,  0.43871104],\n",
              "       [-1.72516237, -0.05341314, -0.02909067, ..., -0.19609154,\n",
              "        -0.46139127,  0.43871104],\n",
              "       [-1.72516237, -0.31221403, -0.02909067, ..., -0.19609154,\n",
              "        -0.46139127,  0.43871104],\n",
              "       ...,\n",
              "       [ 1.73806606, -1.84964505, -0.02909067, ..., -0.19609154,\n",
              "        -0.46139127,  0.43871104],\n",
              "       [ 1.73806606, -1.84964505, -0.02909067, ..., -0.19609154,\n",
              "         0.67653309,  0.43871104],\n",
              "       [ 1.73806606,  0.30660196, -0.02909067, ..., -0.19609154,\n",
              "         0.67653309,  0.43871104]])"
            ]
          },
          "metadata": {},
          "execution_count": 34
        }
      ]
    },
    {
      "cell_type": "code",
      "source": [
        "k = 0.4 # задаём долю тестовых данных в нашем датасете \n",
        "mask1 = (np.random.random(df1.shape[0]) < k) # формируем маску для тестовых данных\n",
        "X_train1 = df1[~mask1][df1.columns.drop(['transaction_dttm', 'Dates', 'Time', 'target', 'user_id', 'Date1'])]\n",
        "# X - признаки, на основе которых модель будет делать предсказание\n",
        "y_train1 = df1[~mask1]['target']\n",
        "\n",
        "# y - целевой признак\n",
        "\n",
        "X_test1 = df1[mask1][df1.columns.drop(['transaction_dttm', 'Dates', 'Time', 'target', 'user_id'])]\n",
        "y_test1 = df1[mask1]['target']"
      ],
      "metadata": {
        "id": "OWuWVtw2Ntg9"
      },
      "execution_count": null,
      "outputs": []
    },
    {
      "cell_type": "code",
      "source": [
        "from sklearn.preprocessing import StandardScaler\n",
        "\n",
        "# create a StandardScaler object\n",
        "scaler1 = StandardScaler()\n",
        "\n",
        "# fit the scaler to your feature matrix\n",
        "scaler1.fit(X_train1)\n",
        "\n",
        "# transform your feature matrix using the scaler\n",
        "X_scaled1 = scaler1.transform(X_train1)\n",
        "\n",
        "X_test_scaled1 = scaler1.transform(X_test1)"
      ],
      "metadata": {
        "id": "7NaJnflH99hF"
      },
      "execution_count": null,
      "outputs": []
    },
    {
      "cell_type": "code",
      "source": [
        "from sklearn import preprocessing\n",
        "X_train_standart =  preprocessing.normalize(X_train, axis = 0)\n",
        "X_test_standart = preprocessing.normalize(X_test, axis = 0)"
      ],
      "metadata": {
        "id": "c_XXDLhkC-oA"
      },
      "execution_count": null,
      "outputs": []
    },
    {
      "cell_type": "code",
      "source": [
        "k = 0.4 # задаём долю тестовых данных в нашем датасете \n",
        "mask2 = (np.random.random(df1.shape[0]) < k) # формируем маску для тестовых данных\n",
        "X_train2 = df1[~mask1][df1.columns.drop(['transaction_dttm', 'Dates', 'Time', 'target', 'user_id'])]\n",
        "# X - признаки, на основе которых модель будет делать предсказание\n",
        "y_train2 = df1[~mask1]['target']\n",
        "\n",
        "# y - целевой признак\n",
        "\n",
        "X_test2 = df1[mask1][df1.columns.drop(['transaction_dttm', 'Dates', 'Time', 'target', 'user_id'])]\n",
        "y_test2 = df1[mask1]['target']"
      ],
      "metadata": {
        "id": "ubXztbX4g1wP"
      },
      "execution_count": null,
      "outputs": []
    },
    {
      "cell_type": "code",
      "source": [
        "from sklearn.preprocessing import StandardScaler\n",
        "\n",
        "# create a StandardScaler object\n",
        "scaler2 = StandardScaler()\n",
        "\n",
        "# fit the scaler to your feature matrix\n",
        "scaler2.fit(X_train2)\n",
        "\n",
        "# transform your feature matrix using the scaler\n",
        "X_scaled2 = scaler.transform(X_train2)\n",
        "\n",
        "X_test_scaled2 = scaler.transform(X_test2)"
      ],
      "metadata": {
        "id": "vMmBAejC-IgA"
      },
      "execution_count": null,
      "outputs": []
    },
    {
      "cell_type": "code",
      "source": [
        "X_train"
      ],
      "metadata": {
        "colab": {
          "base_uri": "https://localhost:8080/",
          "height": 424
        },
        "id": "tNHc684zIpNn",
        "outputId": "a8f985a7-233c-40dd-fcb3-8b3036489088"
      },
      "execution_count": null,
      "outputs": [
        {
          "output_type": "execute_result",
          "data": {
            "text/plain": [
              "         mcc_code  currency_rk  transaction_amt  Time1  Date1\n",
              "3            5921            0     -1822.177000      2      1\n",
              "5            5499            0      -158.813520      2      1\n",
              "6            5411            0      -999.541750      2      1\n",
              "7            5921            0      -320.535800      3      1\n",
              "8            5411            0      -661.857540      1      1\n",
              "...           ...          ...              ...    ...    ...\n",
              "2123990      4131            0       -53.910050      1      1\n",
              "2123992      4131            0       -45.502434      1      1\n",
              "2123993      5814            0      -102.186874      2      1\n",
              "2123997      4131            0       -40.047090      1      1\n",
              "2123998      4131            0      -594.778500      2      1\n",
              "\n",
              "[1274662 rows x 5 columns]"
            ],
            "text/html": [
              "\n",
              "  <div id=\"df-fae414f0-2861-4dc4-940c-5eb28b378c7e\">\n",
              "    <div class=\"colab-df-container\">\n",
              "      <div>\n",
              "<style scoped>\n",
              "    .dataframe tbody tr th:only-of-type {\n",
              "        vertical-align: middle;\n",
              "    }\n",
              "\n",
              "    .dataframe tbody tr th {\n",
              "        vertical-align: top;\n",
              "    }\n",
              "\n",
              "    .dataframe thead th {\n",
              "        text-align: right;\n",
              "    }\n",
              "</style>\n",
              "<table border=\"1\" class=\"dataframe\">\n",
              "  <thead>\n",
              "    <tr style=\"text-align: right;\">\n",
              "      <th></th>\n",
              "      <th>mcc_code</th>\n",
              "      <th>currency_rk</th>\n",
              "      <th>transaction_amt</th>\n",
              "      <th>Time1</th>\n",
              "      <th>Date1</th>\n",
              "    </tr>\n",
              "  </thead>\n",
              "  <tbody>\n",
              "    <tr>\n",
              "      <th>3</th>\n",
              "      <td>5921</td>\n",
              "      <td>0</td>\n",
              "      <td>-1822.177000</td>\n",
              "      <td>2</td>\n",
              "      <td>1</td>\n",
              "    </tr>\n",
              "    <tr>\n",
              "      <th>5</th>\n",
              "      <td>5499</td>\n",
              "      <td>0</td>\n",
              "      <td>-158.813520</td>\n",
              "      <td>2</td>\n",
              "      <td>1</td>\n",
              "    </tr>\n",
              "    <tr>\n",
              "      <th>6</th>\n",
              "      <td>5411</td>\n",
              "      <td>0</td>\n",
              "      <td>-999.541750</td>\n",
              "      <td>2</td>\n",
              "      <td>1</td>\n",
              "    </tr>\n",
              "    <tr>\n",
              "      <th>7</th>\n",
              "      <td>5921</td>\n",
              "      <td>0</td>\n",
              "      <td>-320.535800</td>\n",
              "      <td>3</td>\n",
              "      <td>1</td>\n",
              "    </tr>\n",
              "    <tr>\n",
              "      <th>8</th>\n",
              "      <td>5411</td>\n",
              "      <td>0</td>\n",
              "      <td>-661.857540</td>\n",
              "      <td>1</td>\n",
              "      <td>1</td>\n",
              "    </tr>\n",
              "    <tr>\n",
              "      <th>...</th>\n",
              "      <td>...</td>\n",
              "      <td>...</td>\n",
              "      <td>...</td>\n",
              "      <td>...</td>\n",
              "      <td>...</td>\n",
              "    </tr>\n",
              "    <tr>\n",
              "      <th>2123990</th>\n",
              "      <td>4131</td>\n",
              "      <td>0</td>\n",
              "      <td>-53.910050</td>\n",
              "      <td>1</td>\n",
              "      <td>1</td>\n",
              "    </tr>\n",
              "    <tr>\n",
              "      <th>2123992</th>\n",
              "      <td>4131</td>\n",
              "      <td>0</td>\n",
              "      <td>-45.502434</td>\n",
              "      <td>1</td>\n",
              "      <td>1</td>\n",
              "    </tr>\n",
              "    <tr>\n",
              "      <th>2123993</th>\n",
              "      <td>5814</td>\n",
              "      <td>0</td>\n",
              "      <td>-102.186874</td>\n",
              "      <td>2</td>\n",
              "      <td>1</td>\n",
              "    </tr>\n",
              "    <tr>\n",
              "      <th>2123997</th>\n",
              "      <td>4131</td>\n",
              "      <td>0</td>\n",
              "      <td>-40.047090</td>\n",
              "      <td>1</td>\n",
              "      <td>1</td>\n",
              "    </tr>\n",
              "    <tr>\n",
              "      <th>2123998</th>\n",
              "      <td>4131</td>\n",
              "      <td>0</td>\n",
              "      <td>-594.778500</td>\n",
              "      <td>2</td>\n",
              "      <td>1</td>\n",
              "    </tr>\n",
              "  </tbody>\n",
              "</table>\n",
              "<p>1274662 rows × 5 columns</p>\n",
              "</div>\n",
              "      <button class=\"colab-df-convert\" onclick=\"convertToInteractive('df-fae414f0-2861-4dc4-940c-5eb28b378c7e')\"\n",
              "              title=\"Convert this dataframe to an interactive table.\"\n",
              "              style=\"display:none;\">\n",
              "        \n",
              "  <svg xmlns=\"http://www.w3.org/2000/svg\" height=\"24px\"viewBox=\"0 0 24 24\"\n",
              "       width=\"24px\">\n",
              "    <path d=\"M0 0h24v24H0V0z\" fill=\"none\"/>\n",
              "    <path d=\"M18.56 5.44l.94 2.06.94-2.06 2.06-.94-2.06-.94-.94-2.06-.94 2.06-2.06.94zm-11 1L8.5 8.5l.94-2.06 2.06-.94-2.06-.94L8.5 2.5l-.94 2.06-2.06.94zm10 10l.94 2.06.94-2.06 2.06-.94-2.06-.94-.94-2.06-.94 2.06-2.06.94z\"/><path d=\"M17.41 7.96l-1.37-1.37c-.4-.4-.92-.59-1.43-.59-.52 0-1.04.2-1.43.59L10.3 9.45l-7.72 7.72c-.78.78-.78 2.05 0 2.83L4 21.41c.39.39.9.59 1.41.59.51 0 1.02-.2 1.41-.59l7.78-7.78 2.81-2.81c.8-.78.8-2.07 0-2.86zM5.41 20L4 18.59l7.72-7.72 1.47 1.35L5.41 20z\"/>\n",
              "  </svg>\n",
              "      </button>\n",
              "      \n",
              "  <style>\n",
              "    .colab-df-container {\n",
              "      display:flex;\n",
              "      flex-wrap:wrap;\n",
              "      gap: 12px;\n",
              "    }\n",
              "\n",
              "    .colab-df-convert {\n",
              "      background-color: #E8F0FE;\n",
              "      border: none;\n",
              "      border-radius: 50%;\n",
              "      cursor: pointer;\n",
              "      display: none;\n",
              "      fill: #1967D2;\n",
              "      height: 32px;\n",
              "      padding: 0 0 0 0;\n",
              "      width: 32px;\n",
              "    }\n",
              "\n",
              "    .colab-df-convert:hover {\n",
              "      background-color: #E2EBFA;\n",
              "      box-shadow: 0px 1px 2px rgba(60, 64, 67, 0.3), 0px 1px 3px 1px rgba(60, 64, 67, 0.15);\n",
              "      fill: #174EA6;\n",
              "    }\n",
              "\n",
              "    [theme=dark] .colab-df-convert {\n",
              "      background-color: #3B4455;\n",
              "      fill: #D2E3FC;\n",
              "    }\n",
              "\n",
              "    [theme=dark] .colab-df-convert:hover {\n",
              "      background-color: #434B5C;\n",
              "      box-shadow: 0px 1px 3px 1px rgba(0, 0, 0, 0.15);\n",
              "      filter: drop-shadow(0px 1px 2px rgba(0, 0, 0, 0.3));\n",
              "      fill: #FFFFFF;\n",
              "    }\n",
              "  </style>\n",
              "\n",
              "      <script>\n",
              "        const buttonEl =\n",
              "          document.querySelector('#df-fae414f0-2861-4dc4-940c-5eb28b378c7e button.colab-df-convert');\n",
              "        buttonEl.style.display =\n",
              "          google.colab.kernel.accessAllowed ? 'block' : 'none';\n",
              "\n",
              "        async function convertToInteractive(key) {\n",
              "          const element = document.querySelector('#df-fae414f0-2861-4dc4-940c-5eb28b378c7e');\n",
              "          const dataTable =\n",
              "            await google.colab.kernel.invokeFunction('convertToInteractive',\n",
              "                                                     [key], {});\n",
              "          if (!dataTable) return;\n",
              "\n",
              "          const docLinkHtml = 'Like what you see? Visit the ' +\n",
              "            '<a target=\"_blank\" href=https://colab.research.google.com/notebooks/data_table.ipynb>data table notebook</a>'\n",
              "            + ' to learn more about interactive tables.';\n",
              "          element.innerHTML = '';\n",
              "          dataTable['output_type'] = 'display_data';\n",
              "          await google.colab.output.renderOutput(dataTable, element);\n",
              "          const docLink = document.createElement('div');\n",
              "          docLink.innerHTML = docLinkHtml;\n",
              "          element.appendChild(docLink);\n",
              "        }\n",
              "      </script>\n",
              "    </div>\n",
              "  </div>\n",
              "  "
            ]
          },
          "metadata": {},
          "execution_count": 102
        }
      ]
    },
    {
      "cell_type": "code",
      "source": [
        "X_train1"
      ],
      "metadata": {
        "colab": {
          "base_uri": "https://localhost:8080/",
          "height": 424
        },
        "id": "kOYrdr-SN6nt",
        "outputId": "d30f1edc-8b52-4845-c86d-58088640bd10"
      },
      "execution_count": null,
      "outputs": [
        {
          "output_type": "execute_result",
          "data": {
            "text/plain": [
              "         user_id  mcc_code  currency_rk  transaction_amt  target  Time1  Date1\n",
              "1             69      5533           48     -1251.881200       0      1      1\n",
              "2             69      5331           48       -87.309240       0      1      1\n",
              "3             69      5921           48     -1822.177000       0      2      1\n",
              "4             69      5311           48      -427.123630       0      3      1\n",
              "5             69      5499           48      -158.813520       0      2      1\n",
              "...          ...       ...          ...              ...     ...    ...    ...\n",
              "2123989   868949      4131           48       -46.313340       0      1      1\n",
              "2123992   868949      4131           48       -45.502434       0      1      1\n",
              "2123993   868949      5814           48      -102.186874       0      2      1\n",
              "2123996   868949      4131           48       -63.252550       0      1      1\n",
              "2123998   868949      4131           48      -594.778500       0      2      1\n",
              "\n",
              "[1274653 rows x 7 columns]"
            ],
            "text/html": [
              "\n",
              "  <div id=\"df-90058885-06bd-486d-91e3-22d3b4fdd654\">\n",
              "    <div class=\"colab-df-container\">\n",
              "      <div>\n",
              "<style scoped>\n",
              "    .dataframe tbody tr th:only-of-type {\n",
              "        vertical-align: middle;\n",
              "    }\n",
              "\n",
              "    .dataframe tbody tr th {\n",
              "        vertical-align: top;\n",
              "    }\n",
              "\n",
              "    .dataframe thead th {\n",
              "        text-align: right;\n",
              "    }\n",
              "</style>\n",
              "<table border=\"1\" class=\"dataframe\">\n",
              "  <thead>\n",
              "    <tr style=\"text-align: right;\">\n",
              "      <th></th>\n",
              "      <th>user_id</th>\n",
              "      <th>mcc_code</th>\n",
              "      <th>currency_rk</th>\n",
              "      <th>transaction_amt</th>\n",
              "      <th>target</th>\n",
              "      <th>Time1</th>\n",
              "      <th>Date1</th>\n",
              "    </tr>\n",
              "  </thead>\n",
              "  <tbody>\n",
              "    <tr>\n",
              "      <th>1</th>\n",
              "      <td>69</td>\n",
              "      <td>5533</td>\n",
              "      <td>48</td>\n",
              "      <td>-1251.881200</td>\n",
              "      <td>0</td>\n",
              "      <td>1</td>\n",
              "      <td>1</td>\n",
              "    </tr>\n",
              "    <tr>\n",
              "      <th>2</th>\n",
              "      <td>69</td>\n",
              "      <td>5331</td>\n",
              "      <td>48</td>\n",
              "      <td>-87.309240</td>\n",
              "      <td>0</td>\n",
              "      <td>1</td>\n",
              "      <td>1</td>\n",
              "    </tr>\n",
              "    <tr>\n",
              "      <th>3</th>\n",
              "      <td>69</td>\n",
              "      <td>5921</td>\n",
              "      <td>48</td>\n",
              "      <td>-1822.177000</td>\n",
              "      <td>0</td>\n",
              "      <td>2</td>\n",
              "      <td>1</td>\n",
              "    </tr>\n",
              "    <tr>\n",
              "      <th>4</th>\n",
              "      <td>69</td>\n",
              "      <td>5311</td>\n",
              "      <td>48</td>\n",
              "      <td>-427.123630</td>\n",
              "      <td>0</td>\n",
              "      <td>3</td>\n",
              "      <td>1</td>\n",
              "    </tr>\n",
              "    <tr>\n",
              "      <th>5</th>\n",
              "      <td>69</td>\n",
              "      <td>5499</td>\n",
              "      <td>48</td>\n",
              "      <td>-158.813520</td>\n",
              "      <td>0</td>\n",
              "      <td>2</td>\n",
              "      <td>1</td>\n",
              "    </tr>\n",
              "    <tr>\n",
              "      <th>...</th>\n",
              "      <td>...</td>\n",
              "      <td>...</td>\n",
              "      <td>...</td>\n",
              "      <td>...</td>\n",
              "      <td>...</td>\n",
              "      <td>...</td>\n",
              "      <td>...</td>\n",
              "    </tr>\n",
              "    <tr>\n",
              "      <th>2123989</th>\n",
              "      <td>868949</td>\n",
              "      <td>4131</td>\n",
              "      <td>48</td>\n",
              "      <td>-46.313340</td>\n",
              "      <td>0</td>\n",
              "      <td>1</td>\n",
              "      <td>1</td>\n",
              "    </tr>\n",
              "    <tr>\n",
              "      <th>2123992</th>\n",
              "      <td>868949</td>\n",
              "      <td>4131</td>\n",
              "      <td>48</td>\n",
              "      <td>-45.502434</td>\n",
              "      <td>0</td>\n",
              "      <td>1</td>\n",
              "      <td>1</td>\n",
              "    </tr>\n",
              "    <tr>\n",
              "      <th>2123993</th>\n",
              "      <td>868949</td>\n",
              "      <td>5814</td>\n",
              "      <td>48</td>\n",
              "      <td>-102.186874</td>\n",
              "      <td>0</td>\n",
              "      <td>2</td>\n",
              "      <td>1</td>\n",
              "    </tr>\n",
              "    <tr>\n",
              "      <th>2123996</th>\n",
              "      <td>868949</td>\n",
              "      <td>4131</td>\n",
              "      <td>48</td>\n",
              "      <td>-63.252550</td>\n",
              "      <td>0</td>\n",
              "      <td>1</td>\n",
              "      <td>1</td>\n",
              "    </tr>\n",
              "    <tr>\n",
              "      <th>2123998</th>\n",
              "      <td>868949</td>\n",
              "      <td>4131</td>\n",
              "      <td>48</td>\n",
              "      <td>-594.778500</td>\n",
              "      <td>0</td>\n",
              "      <td>2</td>\n",
              "      <td>1</td>\n",
              "    </tr>\n",
              "  </tbody>\n",
              "</table>\n",
              "<p>1274653 rows × 7 columns</p>\n",
              "</div>\n",
              "      <button class=\"colab-df-convert\" onclick=\"convertToInteractive('df-90058885-06bd-486d-91e3-22d3b4fdd654')\"\n",
              "              title=\"Convert this dataframe to an interactive table.\"\n",
              "              style=\"display:none;\">\n",
              "        \n",
              "  <svg xmlns=\"http://www.w3.org/2000/svg\" height=\"24px\"viewBox=\"0 0 24 24\"\n",
              "       width=\"24px\">\n",
              "    <path d=\"M0 0h24v24H0V0z\" fill=\"none\"/>\n",
              "    <path d=\"M18.56 5.44l.94 2.06.94-2.06 2.06-.94-2.06-.94-.94-2.06-.94 2.06-2.06.94zm-11 1L8.5 8.5l.94-2.06 2.06-.94-2.06-.94L8.5 2.5l-.94 2.06-2.06.94zm10 10l.94 2.06.94-2.06 2.06-.94-2.06-.94-.94-2.06-.94 2.06-2.06.94z\"/><path d=\"M17.41 7.96l-1.37-1.37c-.4-.4-.92-.59-1.43-.59-.52 0-1.04.2-1.43.59L10.3 9.45l-7.72 7.72c-.78.78-.78 2.05 0 2.83L4 21.41c.39.39.9.59 1.41.59.51 0 1.02-.2 1.41-.59l7.78-7.78 2.81-2.81c.8-.78.8-2.07 0-2.86zM5.41 20L4 18.59l7.72-7.72 1.47 1.35L5.41 20z\"/>\n",
              "  </svg>\n",
              "      </button>\n",
              "      \n",
              "  <style>\n",
              "    .colab-df-container {\n",
              "      display:flex;\n",
              "      flex-wrap:wrap;\n",
              "      gap: 12px;\n",
              "    }\n",
              "\n",
              "    .colab-df-convert {\n",
              "      background-color: #E8F0FE;\n",
              "      border: none;\n",
              "      border-radius: 50%;\n",
              "      cursor: pointer;\n",
              "      display: none;\n",
              "      fill: #1967D2;\n",
              "      height: 32px;\n",
              "      padding: 0 0 0 0;\n",
              "      width: 32px;\n",
              "    }\n",
              "\n",
              "    .colab-df-convert:hover {\n",
              "      background-color: #E2EBFA;\n",
              "      box-shadow: 0px 1px 2px rgba(60, 64, 67, 0.3), 0px 1px 3px 1px rgba(60, 64, 67, 0.15);\n",
              "      fill: #174EA6;\n",
              "    }\n",
              "\n",
              "    [theme=dark] .colab-df-convert {\n",
              "      background-color: #3B4455;\n",
              "      fill: #D2E3FC;\n",
              "    }\n",
              "\n",
              "    [theme=dark] .colab-df-convert:hover {\n",
              "      background-color: #434B5C;\n",
              "      box-shadow: 0px 1px 3px 1px rgba(0, 0, 0, 0.15);\n",
              "      filter: drop-shadow(0px 1px 2px rgba(0, 0, 0, 0.3));\n",
              "      fill: #FFFFFF;\n",
              "    }\n",
              "  </style>\n",
              "\n",
              "      <script>\n",
              "        const buttonEl =\n",
              "          document.querySelector('#df-90058885-06bd-486d-91e3-22d3b4fdd654 button.colab-df-convert');\n",
              "        buttonEl.style.display =\n",
              "          google.colab.kernel.accessAllowed ? 'block' : 'none';\n",
              "\n",
              "        async function convertToInteractive(key) {\n",
              "          const element = document.querySelector('#df-90058885-06bd-486d-91e3-22d3b4fdd654');\n",
              "          const dataTable =\n",
              "            await google.colab.kernel.invokeFunction('convertToInteractive',\n",
              "                                                     [key], {});\n",
              "          if (!dataTable) return;\n",
              "\n",
              "          const docLinkHtml = 'Like what you see? Visit the ' +\n",
              "            '<a target=\"_blank\" href=https://colab.research.google.com/notebooks/data_table.ipynb>data table notebook</a>'\n",
              "            + ' to learn more about interactive tables.';\n",
              "          element.innerHTML = '';\n",
              "          dataTable['output_type'] = 'display_data';\n",
              "          await google.colab.output.renderOutput(dataTable, element);\n",
              "          const docLink = document.createElement('div');\n",
              "          docLink.innerHTML = docLinkHtml;\n",
              "          element.appendChild(docLink);\n",
              "        }\n",
              "      </script>\n",
              "    </div>\n",
              "  </div>\n",
              "  "
            ]
          },
          "metadata": {},
          "execution_count": 108
        }
      ]
    },
    {
      "cell_type": "code",
      "source": [
        "y_train"
      ],
      "metadata": {
        "colab": {
          "base_uri": "https://localhost:8080/"
        },
        "id": "G7AjYe86Iq0w",
        "outputId": "851b3cb9-b4b0-4361-c357-036869a0370b"
      },
      "execution_count": null,
      "outputs": [
        {
          "output_type": "execute_result",
          "data": {
            "text/plain": [
              "0          0\n",
              "1          0\n",
              "2          0\n",
              "5          0\n",
              "6          0\n",
              "          ..\n",
              "2123994    0\n",
              "2123996    0\n",
              "2123997    0\n",
              "2123998    0\n",
              "2123999    0\n",
              "Name: target, Length: 1275217, dtype: int64"
            ]
          },
          "metadata": {},
          "execution_count": 109
        }
      ]
    },
    {
      "cell_type": "code",
      "source": [
        "y_train.value_counts()"
      ],
      "metadata": {
        "colab": {
          "base_uri": "https://localhost:8080/"
        },
        "id": "ITsgd4rFL8dT",
        "outputId": "0fb75eda-8c95-4bc4-d980-c49f887f70b9"
      },
      "execution_count": null,
      "outputs": [
        {
          "output_type": "execute_result",
          "data": {
            "text/plain": [
              "0    1228117\n",
              "1      47100\n",
              "Name: target, dtype: int64"
            ]
          },
          "metadata": {},
          "execution_count": 110
        }
      ]
    },
    {
      "cell_type": "code",
      "source": [
        "47220/1227959"
      ],
      "metadata": {
        "colab": {
          "base_uri": "https://localhost:8080/"
        },
        "id": "XiGzStcyL2pQ",
        "outputId": "352e41cb-944f-47ce-adac-84ece89cd3b3"
      },
      "execution_count": null,
      "outputs": [
        {
          "output_type": "execute_result",
          "data": {
            "text/plain": [
              "0.03845405261902067"
            ]
          },
          "metadata": {},
          "execution_count": 36
        }
      ]
    },
    {
      "cell_type": "code",
      "source": [
        "X_test"
      ],
      "metadata": {
        "colab": {
          "base_uri": "https://localhost:8080/",
          "height": 424
        },
        "id": "ik6Io40OItY6",
        "outputId": "61a290a4-5213-4e8e-c160-26daedc78142"
      },
      "execution_count": null,
      "outputs": [
        {
          "output_type": "execute_result",
          "data": {
            "text/plain": [
              "         mcc_code  currency_rk  transaction_amt  Time1  Date1\n",
              "3            5921            0      -1822.17700      2      1\n",
              "4            5311            0       -427.12363      3      1\n",
              "6            5411            0       -999.54175      2      1\n",
              "7            5921            0       -320.53580      3      1\n",
              "10           5921            0       -308.15110      2      1\n",
              "...           ...          ...              ...    ...    ...\n",
              "2123985      5912            0       -391.43243      2      1\n",
              "2123986      5814            0        -80.22315      2      1\n",
              "2123991      4131            0        -33.89235      1      1\n",
              "2123995      5411            0       -203.11295      2      1\n",
              "2123998      4131            0       -594.77850      2      1\n",
              "\n",
              "[850727 rows x 5 columns]"
            ],
            "text/html": [
              "\n",
              "  <div id=\"df-56c88b2d-f1e7-430d-acd3-7d3996d95bc7\">\n",
              "    <div class=\"colab-df-container\">\n",
              "      <div>\n",
              "<style scoped>\n",
              "    .dataframe tbody tr th:only-of-type {\n",
              "        vertical-align: middle;\n",
              "    }\n",
              "\n",
              "    .dataframe tbody tr th {\n",
              "        vertical-align: top;\n",
              "    }\n",
              "\n",
              "    .dataframe thead th {\n",
              "        text-align: right;\n",
              "    }\n",
              "</style>\n",
              "<table border=\"1\" class=\"dataframe\">\n",
              "  <thead>\n",
              "    <tr style=\"text-align: right;\">\n",
              "      <th></th>\n",
              "      <th>mcc_code</th>\n",
              "      <th>currency_rk</th>\n",
              "      <th>transaction_amt</th>\n",
              "      <th>Time1</th>\n",
              "      <th>Date1</th>\n",
              "    </tr>\n",
              "  </thead>\n",
              "  <tbody>\n",
              "    <tr>\n",
              "      <th>3</th>\n",
              "      <td>5921</td>\n",
              "      <td>0</td>\n",
              "      <td>-1822.17700</td>\n",
              "      <td>2</td>\n",
              "      <td>1</td>\n",
              "    </tr>\n",
              "    <tr>\n",
              "      <th>4</th>\n",
              "      <td>5311</td>\n",
              "      <td>0</td>\n",
              "      <td>-427.12363</td>\n",
              "      <td>3</td>\n",
              "      <td>1</td>\n",
              "    </tr>\n",
              "    <tr>\n",
              "      <th>6</th>\n",
              "      <td>5411</td>\n",
              "      <td>0</td>\n",
              "      <td>-999.54175</td>\n",
              "      <td>2</td>\n",
              "      <td>1</td>\n",
              "    </tr>\n",
              "    <tr>\n",
              "      <th>7</th>\n",
              "      <td>5921</td>\n",
              "      <td>0</td>\n",
              "      <td>-320.53580</td>\n",
              "      <td>3</td>\n",
              "      <td>1</td>\n",
              "    </tr>\n",
              "    <tr>\n",
              "      <th>10</th>\n",
              "      <td>5921</td>\n",
              "      <td>0</td>\n",
              "      <td>-308.15110</td>\n",
              "      <td>2</td>\n",
              "      <td>1</td>\n",
              "    </tr>\n",
              "    <tr>\n",
              "      <th>...</th>\n",
              "      <td>...</td>\n",
              "      <td>...</td>\n",
              "      <td>...</td>\n",
              "      <td>...</td>\n",
              "      <td>...</td>\n",
              "    </tr>\n",
              "    <tr>\n",
              "      <th>2123985</th>\n",
              "      <td>5912</td>\n",
              "      <td>0</td>\n",
              "      <td>-391.43243</td>\n",
              "      <td>2</td>\n",
              "      <td>1</td>\n",
              "    </tr>\n",
              "    <tr>\n",
              "      <th>2123986</th>\n",
              "      <td>5814</td>\n",
              "      <td>0</td>\n",
              "      <td>-80.22315</td>\n",
              "      <td>2</td>\n",
              "      <td>1</td>\n",
              "    </tr>\n",
              "    <tr>\n",
              "      <th>2123991</th>\n",
              "      <td>4131</td>\n",
              "      <td>0</td>\n",
              "      <td>-33.89235</td>\n",
              "      <td>1</td>\n",
              "      <td>1</td>\n",
              "    </tr>\n",
              "    <tr>\n",
              "      <th>2123995</th>\n",
              "      <td>5411</td>\n",
              "      <td>0</td>\n",
              "      <td>-203.11295</td>\n",
              "      <td>2</td>\n",
              "      <td>1</td>\n",
              "    </tr>\n",
              "    <tr>\n",
              "      <th>2123998</th>\n",
              "      <td>4131</td>\n",
              "      <td>0</td>\n",
              "      <td>-594.77850</td>\n",
              "      <td>2</td>\n",
              "      <td>1</td>\n",
              "    </tr>\n",
              "  </tbody>\n",
              "</table>\n",
              "<p>850727 rows × 5 columns</p>\n",
              "</div>\n",
              "      <button class=\"colab-df-convert\" onclick=\"convertToInteractive('df-56c88b2d-f1e7-430d-acd3-7d3996d95bc7')\"\n",
              "              title=\"Convert this dataframe to an interactive table.\"\n",
              "              style=\"display:none;\">\n",
              "        \n",
              "  <svg xmlns=\"http://www.w3.org/2000/svg\" height=\"24px\"viewBox=\"0 0 24 24\"\n",
              "       width=\"24px\">\n",
              "    <path d=\"M0 0h24v24H0V0z\" fill=\"none\"/>\n",
              "    <path d=\"M18.56 5.44l.94 2.06.94-2.06 2.06-.94-2.06-.94-.94-2.06-.94 2.06-2.06.94zm-11 1L8.5 8.5l.94-2.06 2.06-.94-2.06-.94L8.5 2.5l-.94 2.06-2.06.94zm10 10l.94 2.06.94-2.06 2.06-.94-2.06-.94-.94-2.06-.94 2.06-2.06.94z\"/><path d=\"M17.41 7.96l-1.37-1.37c-.4-.4-.92-.59-1.43-.59-.52 0-1.04.2-1.43.59L10.3 9.45l-7.72 7.72c-.78.78-.78 2.05 0 2.83L4 21.41c.39.39.9.59 1.41.59.51 0 1.02-.2 1.41-.59l7.78-7.78 2.81-2.81c.8-.78.8-2.07 0-2.86zM5.41 20L4 18.59l7.72-7.72 1.47 1.35L5.41 20z\"/>\n",
              "  </svg>\n",
              "      </button>\n",
              "      \n",
              "  <style>\n",
              "    .colab-df-container {\n",
              "      display:flex;\n",
              "      flex-wrap:wrap;\n",
              "      gap: 12px;\n",
              "    }\n",
              "\n",
              "    .colab-df-convert {\n",
              "      background-color: #E8F0FE;\n",
              "      border: none;\n",
              "      border-radius: 50%;\n",
              "      cursor: pointer;\n",
              "      display: none;\n",
              "      fill: #1967D2;\n",
              "      height: 32px;\n",
              "      padding: 0 0 0 0;\n",
              "      width: 32px;\n",
              "    }\n",
              "\n",
              "    .colab-df-convert:hover {\n",
              "      background-color: #E2EBFA;\n",
              "      box-shadow: 0px 1px 2px rgba(60, 64, 67, 0.3), 0px 1px 3px 1px rgba(60, 64, 67, 0.15);\n",
              "      fill: #174EA6;\n",
              "    }\n",
              "\n",
              "    [theme=dark] .colab-df-convert {\n",
              "      background-color: #3B4455;\n",
              "      fill: #D2E3FC;\n",
              "    }\n",
              "\n",
              "    [theme=dark] .colab-df-convert:hover {\n",
              "      background-color: #434B5C;\n",
              "      box-shadow: 0px 1px 3px 1px rgba(0, 0, 0, 0.15);\n",
              "      filter: drop-shadow(0px 1px 2px rgba(0, 0, 0, 0.3));\n",
              "      fill: #FFFFFF;\n",
              "    }\n",
              "  </style>\n",
              "\n",
              "      <script>\n",
              "        const buttonEl =\n",
              "          document.querySelector('#df-56c88b2d-f1e7-430d-acd3-7d3996d95bc7 button.colab-df-convert');\n",
              "        buttonEl.style.display =\n",
              "          google.colab.kernel.accessAllowed ? 'block' : 'none';\n",
              "\n",
              "        async function convertToInteractive(key) {\n",
              "          const element = document.querySelector('#df-56c88b2d-f1e7-430d-acd3-7d3996d95bc7');\n",
              "          const dataTable =\n",
              "            await google.colab.kernel.invokeFunction('convertToInteractive',\n",
              "                                                     [key], {});\n",
              "          if (!dataTable) return;\n",
              "\n",
              "          const docLinkHtml = 'Like what you see? Visit the ' +\n",
              "            '<a target=\"_blank\" href=https://colab.research.google.com/notebooks/data_table.ipynb>data table notebook</a>'\n",
              "            + ' to learn more about interactive tables.';\n",
              "          element.innerHTML = '';\n",
              "          dataTable['output_type'] = 'display_data';\n",
              "          await google.colab.output.renderOutput(dataTable, element);\n",
              "          const docLink = document.createElement('div');\n",
              "          docLink.innerHTML = docLinkHtml;\n",
              "          element.appendChild(docLink);\n",
              "        }\n",
              "      </script>\n",
              "    </div>\n",
              "  </div>\n",
              "  "
            ]
          },
          "metadata": {},
          "execution_count": 108
        }
      ]
    },
    {
      "cell_type": "code",
      "source": [
        "y_test"
      ],
      "metadata": {
        "colab": {
          "base_uri": "https://localhost:8080/"
        },
        "id": "XDAT8j_mIv3G",
        "outputId": "28aff476-c9c1-43ae-c9f2-d99cebf76c75"
      },
      "execution_count": null,
      "outputs": [
        {
          "output_type": "execute_result",
          "data": {
            "text/plain": [
              "3          0\n",
              "4          0\n",
              "10         0\n",
              "11         0\n",
              "17         0\n",
              "          ..\n",
              "2123987    0\n",
              "2123988    0\n",
              "2123991    0\n",
              "2123993    0\n",
              "2123995    0\n",
              "Name: target, Length: 848783, dtype: int64"
            ]
          },
          "metadata": {},
          "execution_count": 112
        }
      ]
    },
    {
      "cell_type": "code",
      "source": [
        "y_test.value_counts()"
      ],
      "metadata": {
        "colab": {
          "base_uri": "https://localhost:8080/"
        },
        "id": "oiR7lUC0JB8j",
        "outputId": "01f7fc41-2512-442b-9f85-8293f68774fa"
      },
      "execution_count": null,
      "outputs": [
        {
          "output_type": "execute_result",
          "data": {
            "text/plain": [
              "0    817283\n",
              "1     31500\n",
              "Name: target, dtype: int64"
            ]
          },
          "metadata": {},
          "execution_count": 113
        }
      ]
    },
    {
      "cell_type": "code",
      "source": [
        "31380/ 817441"
      ],
      "metadata": {
        "colab": {
          "base_uri": "https://localhost:8080/"
        },
        "id": "KCsyQI9iMTdW",
        "outputId": "72cb9bab-4313-4002-9ff0-936a86920285"
      },
      "execution_count": null,
      "outputs": [
        {
          "output_type": "execute_result",
          "data": {
            "text/plain": [
              "0.038388091617621335"
            ]
          },
          "metadata": {},
          "execution_count": 38
        }
      ]
    },
    {
      "cell_type": "code",
      "source": [
        "from sklearn.linear_model import LogisticRegression\n",
        "log_regression = LogisticRegression()\n",
        "log_regression.fit (X_scaled,y_train)\n",
        "y_pred = log_regression.predict (X_test_scaled)\n",
        "y_pred"
      ],
      "metadata": {
        "colab": {
          "base_uri": "https://localhost:8080/"
        },
        "id": "kBaaF8j7MXCb",
        "outputId": "9b450d92-15ba-4ca0-f2ce-4808e9080dc7"
      },
      "execution_count": null,
      "outputs": [
        {
          "output_type": "execute_result",
          "data": {
            "text/plain": [
              "array([0, 0, 0, ..., 0, 0, 0])"
            ]
          },
          "metadata": {},
          "execution_count": 113
        }
      ]
    },
    {
      "cell_type": "code",
      "source": [
        "coefficients = log_regression.coef_\n",
        "coefficients"
      ],
      "metadata": {
        "colab": {
          "base_uri": "https://localhost:8080/"
        },
        "id": "6On-RgM0G5Go",
        "outputId": "79928ad1-1604-4d24-ee5d-ac502ac99eb0"
      },
      "execution_count": null,
      "outputs": [
        {
          "output_type": "execute_result",
          "data": {
            "text/plain": [
              "array([[ 0.04908036, -0.00551535,  0.00910338,  0.04355759]])"
            ]
          },
          "metadata": {},
          "execution_count": 114
        }
      ]
    },
    {
      "cell_type": "code",
      "source": [
        "from sklearn.metrics import accuracy_score\n",
        "accuracy_score(y_test, y_pred, normalize=True)"
      ],
      "metadata": {
        "colab": {
          "base_uri": "https://localhost:8080/"
        },
        "id": "1HN_5PXMNJfb",
        "outputId": "3f6752fc-e207-4a33-b85e-9696956a5ca4"
      },
      "execution_count": null,
      "outputs": [
        {
          "output_type": "execute_result",
          "data": {
            "text/plain": [
              "0.9630454858272209"
            ]
          },
          "metadata": {},
          "execution_count": 116
        }
      ]
    },
    {
      "cell_type": "code",
      "source": [
        "from sklearn.linear_model import LogisticRegression\n",
        "log_regression3 = LogisticRegression()\n",
        "log_regression3.fit (X_train_standart,y_train)\n",
        "y_pred3= log_regression3.predict(X_test_standart)\n",
        "y_pred3"
      ],
      "metadata": {
        "colab": {
          "base_uri": "https://localhost:8080/"
        },
        "id": "OoqEfZLdDoeL",
        "outputId": "e9bb9dc2-4594-4e27-837f-b7bcf960534e"
      },
      "execution_count": null,
      "outputs": [
        {
          "output_type": "execute_result",
          "data": {
            "text/plain": [
              "array([0, 0, 0, ..., 0, 0, 0])"
            ]
          },
          "metadata": {},
          "execution_count": 99
        }
      ]
    },
    {
      "cell_type": "code",
      "source": [
        "coefficients3 = log_regression3.coef_\n",
        "coefficients3"
      ],
      "metadata": {
        "colab": {
          "base_uri": "https://localhost:8080/"
        },
        "id": "0EVAqKJBD0fW",
        "outputId": "1efdf710-8162-48ea-f62d-598670e544c7"
      },
      "execution_count": null,
      "outputs": [
        {
          "output_type": "execute_result",
          "data": {
            "text/plain": [
              "array([[ 0.24867889, -0.19601691,  0.34413491,  0.98396544, -2.94355342]])"
            ]
          },
          "metadata": {},
          "execution_count": 100
        }
      ]
    },
    {
      "cell_type": "code",
      "source": [
        "from sklearn.metrics import accuracy_score\n",
        "accuracy_score(y_test, y_pred3, normalize=True)"
      ],
      "metadata": {
        "colab": {
          "base_uri": "https://localhost:8080/"
        },
        "id": "QP2Mi_9mD6s3",
        "outputId": "8e0eaab6-95a6-46cd-cf47-03c2e9da3350"
      },
      "execution_count": null,
      "outputs": [
        {
          "output_type": "execute_result",
          "data": {
            "text/plain": [
              "0.9627816016709484"
            ]
          },
          "metadata": {},
          "execution_count": 101
        }
      ]
    },
    {
      "cell_type": "code",
      "source": [
        "from sklearn.ensemble import RandomForestClassifier\n",
        "Random_Forest = RandomForestClassifier(n_estimators=10)\n",
        "Random_Forest = Random_Forest.fit(X_scaled,y_train)\n",
        "y_pred_Tree = Random_Forest.predict(X_test_scaled)\n",
        "y_pred_Tree"
      ],
      "metadata": {
        "colab": {
          "base_uri": "https://localhost:8080/"
        },
        "id": "cjww0wX_FNQj",
        "outputId": "636ae21c-3466-4949-8728-63013fdbcd65"
      },
      "execution_count": null,
      "outputs": [
        {
          "output_type": "execute_result",
          "data": {
            "text/plain": [
              "array([0, 0, 0, ..., 0, 0, 1])"
            ]
          },
          "metadata": {},
          "execution_count": 103
        }
      ]
    },
    {
      "cell_type": "code",
      "source": [
        "from sklearn.linear_model import LogisticRegression\n",
        "log_regression1 = LogisticRegression()\n",
        "log_regression1.fit (X_scaled1,y_train1)\n",
        "y_pred1 = log_regression1.predict (X_test_scaled1)\n",
        "y_pred1"
      ],
      "metadata": {
        "colab": {
          "base_uri": "https://localhost:8080/"
        },
        "id": "j9DQr5GsNJ1C",
        "outputId": "53ae9a48-783e-4779-d934-5d0a9d70863d"
      },
      "execution_count": null,
      "outputs": [
        {
          "output_type": "execute_result",
          "data": {
            "text/plain": [
              "array([0, 0, 0, ..., 0, 0, 0])"
            ]
          },
          "metadata": {},
          "execution_count": 74
        }
      ]
    },
    {
      "cell_type": "code",
      "source": [
        "coefficients1 = log_regression1.coef_\n",
        "coefficients1"
      ],
      "metadata": {
        "colab": {
          "base_uri": "https://localhost:8080/"
        },
        "id": "UOLk0toJ-i_T",
        "outputId": "5ec9dc86-cbd5-4f37-ff03-e8755f776ec2"
      },
      "execution_count": null,
      "outputs": [
        {
          "output_type": "execute_result",
          "data": {
            "text/plain": [
              "array([[ 0.05384454, -0.00344325,  0.00657969,  0.04217631, -0.0977271 ]])"
            ]
          },
          "metadata": {},
          "execution_count": 75
        }
      ]
    },
    {
      "cell_type": "code",
      "source": [
        "from sklearn.metrics import accuracy_score\n",
        "accuracy_score(y_test1, y_pred1, normalize=True)"
      ],
      "metadata": {
        "colab": {
          "base_uri": "https://localhost:8080/"
        },
        "id": "5uq79hpIP1e2",
        "outputId": "3c8b2b56-3245-4d85-e119-4b3904218cd8"
      },
      "execution_count": null,
      "outputs": [
        {
          "output_type": "execute_result",
          "data": {
            "text/plain": [
              "0.9631501928961022"
            ]
          },
          "metadata": {},
          "execution_count": 76
        }
      ]
    },
    {
      "cell_type": "code",
      "source": [
        "from sklearn.linear_model import LogisticRegression\n",
        "log_regression2 = LogisticRegression()\n",
        "log_regression2.fit (X_scaled2,y_train2)\n",
        "y_pred2 = log_regression2.predict (X_test_scaled2)\n",
        "y_pred2"
      ],
      "metadata": {
        "id": "r_GQ708dQ5-2",
        "colab": {
          "base_uri": "https://localhost:8080/"
        },
        "outputId": "6629c988-01d9-4af2-9504-baf7e2503862"
      },
      "execution_count": null,
      "outputs": [
        {
          "output_type": "execute_result",
          "data": {
            "text/plain": [
              "array([0, 0, 0, ..., 0, 0, 0])"
            ]
          },
          "metadata": {},
          "execution_count": 77
        }
      ]
    },
    {
      "cell_type": "code",
      "source": [
        "coefficients2 = log_regression2.coef_\n",
        "coefficients2"
      ],
      "metadata": {
        "colab": {
          "base_uri": "https://localhost:8080/"
        },
        "id": "le-7Nfq8-y4S",
        "outputId": "e260f907-9c22-4378-ba8c-ba3ae0f01f3e"
      },
      "execution_count": null,
      "outputs": [
        {
          "output_type": "execute_result",
          "data": {
            "text/plain": [
              "array([[ 0.05384454, -0.00344325,  0.00657969,  0.04217631, -0.0977271 ]])"
            ]
          },
          "metadata": {},
          "execution_count": 78
        }
      ]
    },
    {
      "cell_type": "code",
      "source": [
        "from sklearn.metrics import accuracy_score\n",
        "accuracy_score(y_test2, y_pred2, normalize=True)"
      ],
      "metadata": {
        "colab": {
          "base_uri": "https://localhost:8080/"
        },
        "id": "DGv7AquYhCbV",
        "outputId": "598c60b5-8c6e-42ad-d57f-22b1870ae0bc"
      },
      "execution_count": null,
      "outputs": [
        {
          "output_type": "execute_result",
          "data": {
            "text/plain": [
              "0.9631501928961022"
            ]
          },
          "metadata": {},
          "execution_count": 79
        }
      ]
    },
    {
      "cell_type": "code",
      "source": [
        "y_pred_proba = log_regression.predict_proba(X_test)[::,1]\n",
        "fpr, tpr, _ = metrics. roc_curve (y_test, y_pred_proba)\n",
        "auc = metrics. roc_auc_score (y_test, y_pred_proba)\n",
        "\n",
        "#create ROC curve\n",
        "plt.plot (fpr,tpr,label=\" AUC= \"+str(auc))\n",
        "plt.legend(loc=4)\n",
        "plt.show()"
      ],
      "metadata": {
        "colab": {
          "base_uri": "https://localhost:8080/",
          "height": 465
        },
        "id": "ziXJ6PgchFrM",
        "outputId": "528a1864-5bf8-4c68-a167-8e6a81ab5f50"
      },
      "execution_count": null,
      "outputs": [
        {
          "output_type": "stream",
          "name": "stderr",
          "text": [
            "/usr/local/lib/python3.9/dist-packages/sklearn/base.py:432: UserWarning: X has feature names, but LogisticRegression was fitted without feature names\n",
            "  warnings.warn(\n"
          ]
        },
        {
          "output_type": "display_data",
          "data": {
            "text/plain": [
              "<Figure size 640x480 with 1 Axes>"
            ],
            "image/png": "[encoded data removed]"
          },
          "metadata": {}
        }
      ]
    }
  ]
}